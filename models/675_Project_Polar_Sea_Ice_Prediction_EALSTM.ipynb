{
  "nbformat": 4,
  "nbformat_minor": 0,
  "metadata": {
    "colab": {
      "name": "675_Project_Polar_Sea_Ice_Prediction_EALSTM.ipynb",
      "provenance": [],
      "collapsed_sections": [],
      "toc_visible": true,
      "include_colab_link": true
    },
    "kernelspec": {
      "name": "python3",
      "display_name": "Python 3"
    },
    "accelerator": "GPU"
  },
  "cells": [
    {
      "cell_type": "markdown",
      "metadata": {
        "id": "view-in-github",
        "colab_type": "text"
      },
      "source": [
        "<a href=\"https://colab.research.google.com/github/zach-gousseau/syde675-project/blob/main/models/675_Project_Polar_Sea_Ice_Prediction_EALSTM.ipynb\" target=\"_parent\"><img src=\"https://colab.research.google.com/assets/colab-badge.svg\" alt=\"Open In Colab\"/></a>"
      ]
    },
    {
      "cell_type": "code",
      "source": [
        "# from google.colab import drive\n",
        "# drive.mount('/content/drive')"
      ],
      "metadata": {
        "id": "BxlXMPURkPUu"
      },
      "execution_count": 1,
      "outputs": []
    },
    {
      "cell_type": "markdown",
      "metadata": {
        "id": "rSkGCT8lwmj6"
      },
      "source": [
        "## Polar Sea Ice Prediction\n",
        "Code for Ensemble LSTM model"
      ]
    },
    {
      "cell_type": "markdown",
      "metadata": {
        "id": "FTPWxOK4-8TN"
      },
      "source": [
        "## Initial Setup"
      ]
    },
    {
      "cell_type": "code",
      "metadata": {
        "id": "NPUFIDrBr2nY"
      },
      "source": [
        "# pip install attention"
      ],
      "execution_count": 2,
      "outputs": []
    },
    {
      "cell_type": "code",
      "metadata": {
        "id": "JV-0_sSz-4X3"
      },
      "source": [
        "import os\n",
        "import math\n",
        "import glob\n",
        "import numpy as np\n",
        "import pandas as pd\n",
        "import matplotlib.pyplot as plt\n",
        "from tensorflow.keras.models import Sequential\n",
        "from tensorflow.keras.optimizers import Adam\n",
        "from tensorflow.keras.layers import Dense, Dropout\n",
        "from tensorflow.keras.layers import LSTM,TimeDistributed\n",
        "from sklearn.preprocessing import MinMaxScaler, StandardScaler\n",
        "from sklearn.metrics import mean_squared_error\n",
        "from sklearn.model_selection import train_test_split\n",
        "from tensorflow.keras.callbacks import EarlyStopping, ModelCheckpoint\n",
        "from numpy.random import seed\n",
        "\n",
        "import os\n",
        "import csv\n",
        "\n",
        "seed_number = 2\n",
        "seed(seed_number)\n",
        "\n",
        "#from attention import Attention"
      ],
      "execution_count": 3,
      "outputs": []
    },
    {
      "cell_type": "code",
      "source": [
        "path = '/content/drive/MyDrive/SYDE 675/Project/Data'\n",
        "\n",
        "daily_data_path = path + '/dailyt30_features.npy'\n",
        "daily_target_path = path + '/monthly_features.npy'\n",
        "\n",
        "monthly_data_path = path + '/monthly_features.npy'\n",
        "monthly_target_path = path + '/monthly_target.npy'"
      ],
      "metadata": {
        "id": "kEzTvHhHlNYa"
      },
      "execution_count": 4,
      "outputs": []
    },
    {
      "cell_type": "code",
      "metadata": {
        "id": "4W3jMjPB_BcK"
      },
      "source": [
        "# daily_data = np.load('/.../dailyt30_features.npy',allow_pickle=True)\n",
        "# monthly_data = np.load('/.../monthly_features.npy',allow_pickle=True)\n",
        "# daily_target = np.load('/.../dailyt30_target.npy',allow_pickle=True)\n",
        "# monthly_target = np.load('/.../monthly_target.npy',allow_pickle=True)\n",
        "\n",
        "daily_data = np.load(daily_data_path, allow_pickle=True)\n",
        "monthly_data = np.load(monthly_data_path, allow_pickle=True)\n",
        "\n",
        "daily_target = np.load(daily_target_path, allow_pickle=True)\n",
        "monthly_target = np.load(monthly_target_path, allow_pickle=True)"
      ],
      "execution_count": 5,
      "outputs": []
    },
    {
      "cell_type": "code",
      "source": [
        "print(daily_data.shape)\n",
        "print(monthly_data.shape)\n",
        "print(monthly_target.shape)"
      ],
      "metadata": {
        "colab": {
          "base_uri": "https://localhost:8080/"
        },
        "id": "WHFVsLDMiyad",
        "outputId": "d7f33a44-07f6-416b-c7b6-003d366c59bc"
      },
      "execution_count": 6,
      "outputs": [
        {
          "output_type": "stream",
          "name": "stdout",
          "text": [
            "(480, 30, 11)\n",
            "(480, 1, 11)\n",
            "(480,)\n"
          ]
        }
      ]
    },
    {
      "cell_type": "code",
      "source": [
        "# #Removing data after 2020 for SIO Review Paper submission\n",
        "# daily_data = daily_data[:-7,:,:]\n",
        "# monthly_data = monthly_data[:-7,:,:]\n",
        "# monthly_target = monthly_target[:-7]"
      ],
      "metadata": {
        "id": "6fKBLsRihdtW"
      },
      "execution_count": 7,
      "outputs": []
    },
    {
      "cell_type": "code",
      "metadata": {
        "colab": {
          "base_uri": "https://localhost:8080/"
        },
        "id": "i5g7_hKwADvD",
        "outputId": "cc4a603d-5f35-41d8-8dc7-879076edd294"
      },
      "source": [
        "print(daily_data.shape)\n",
        "print(monthly_data.shape)\n",
        "print(monthly_target.shape)"
      ],
      "execution_count": 8,
      "outputs": [
        {
          "output_type": "stream",
          "name": "stdout",
          "text": [
            "(480, 30, 11)\n",
            "(480, 1, 11)\n",
            "(480,)\n"
          ]
        }
      ]
    },
    {
      "cell_type": "code",
      "metadata": {
        "colab": {
          "base_uri": "https://localhost:8080/"
        },
        "id": "lz8HXwWmYwkc",
        "outputId": "be4bc76b-b843-4a33-fe88-fa5d2b62cdb5"
      },
      "source": [
        "#Concatenate datasets\n",
        "data = np.concatenate((daily_data, monthly_data), axis = 1)\n",
        "\n",
        "print(data.shape)"
      ],
      "execution_count": 9,
      "outputs": [
        {
          "output_type": "stream",
          "name": "stdout",
          "text": [
            "(480, 31, 11)\n"
          ]
        }
      ]
    },
    {
      "cell_type": "code",
      "metadata": {
        "colab": {
          "base_uri": "https://localhost:8080/"
        },
        "id": "-Dk0huLdm65o",
        "outputId": "60ab22b2-0319-4d8f-e984-9548fd47c416"
      },
      "source": [
        "#Adding a lag to monthly targets\n",
        "lag = 1\n",
        "data = data[:-lag,:,:]\n",
        "monthly_target = monthly_target[lag:]\n",
        "\n",
        "print(data.shape)\n",
        "print(monthly_target.shape)"
      ],
      "execution_count": 10,
      "outputs": [
        {
          "output_type": "stream",
          "name": "stdout",
          "text": [
            "(479, 31, 11)\n",
            "(479,)\n"
          ]
        }
      ]
    },
    {
      "cell_type": "markdown",
      "metadata": {
        "id": "lWyDrrpAQ74Q"
      },
      "source": [
        "## Train Validation Features Split"
      ]
    },
    {
      "cell_type": "code",
      "metadata": {
        "id": "5edkVBor8RcK",
        "colab": {
          "base_uri": "https://localhost:8080/"
        },
        "outputId": "365b8cad-b89a-4173-914f-63d127c55140"
      },
      "source": [
        "# Sequential split train:val data in 80:20 sequentially \n",
        "\n",
        "LEN_DATA = len(data) #total number of pixels\n",
        "\n",
        "#NUM_TRAIN = LEN_DATA - (24+6) #reserve last 30 months for testing \n",
        "# NUM_TRAIN = LEN_DATA - (12*20) #reserve last 20 years for testing \n",
        "NUM_TRAIN = LEN_DATA - (12*5) #reserve last 5 years for testing \n",
        "NUM_TEST = LEN_DATA - NUM_TRAIN\n",
        "\n",
        "print('LEN_DATA:',LEN_DATA)\n",
        "print('NUM_TRAIN:',NUM_TRAIN)\n",
        "print('NUM_TEST:',NUM_TEST)\n",
        "\n",
        "x_train = data[0:NUM_TRAIN]\n",
        "x_test = data[NUM_TRAIN:]\n",
        "\n",
        "#split features and labels\n",
        "y_train=monthly_target[:NUM_TRAIN] #target is last column i-e sea-ice\n",
        "y_test=monthly_target[NUM_TRAIN:] #target is last column i-e sea-ice"
      ],
      "execution_count": 11,
      "outputs": [
        {
          "output_type": "stream",
          "name": "stdout",
          "text": [
            "LEN_DATA: 479\n",
            "NUM_TRAIN: 419\n",
            "NUM_TEST: 60\n"
          ]
        }
      ]
    },
    {
      "cell_type": "code",
      "metadata": {
        "id": "Nw9bd9HS4vdM",
        "colab": {
          "base_uri": "https://localhost:8080/"
        },
        "outputId": "94658454-ac31-43da-d285-1525f5dece62"
      },
      "source": [
        "print('x_train.shape:',x_train.shape)\n",
        "print('y_train.shape:',y_train.shape)\n",
        "print('x_test.shape:',x_test.shape)\n",
        "print('y_test.shape:',y_test.shape)"
      ],
      "execution_count": 12,
      "outputs": [
        {
          "output_type": "stream",
          "name": "stdout",
          "text": [
            "x_train.shape: (419, 31, 11)\n",
            "y_train.shape: (419,)\n",
            "x_test.shape: (60, 31, 11)\n",
            "y_test.shape: (60,)\n"
          ]
        }
      ]
    },
    {
      "cell_type": "markdown",
      "metadata": {
        "id": "-TOp3WLtJ6xJ"
      },
      "source": [
        "## Normalization\n"
      ]
    },
    {
      "cell_type": "code",
      "metadata": {
        "id": "X9nc-dTGJ8qr"
      },
      "source": [
        "# normalize the features\n",
        "\n",
        "scaler_f = StandardScaler()\n",
        "x_train = scaler_f.fit_transform(x_train.reshape(-1,x_train.shape[2])) #reshaping to 2d for standard scaling\n",
        "x_test = scaler_f.transform(x_test.reshape(-1,x_test.shape[2])) #reshaping to 2d for standard scaling\n",
        "\n",
        "scaler_l = StandardScaler()\n",
        "y_train = scaler_l.fit_transform(y_train.reshape(-1,1)) #reshaping to 2d for standard scaling\n",
        "y_test = scaler_l.transform(y_test.reshape(-1,1)) #reshaping to 2d for standard scaling\n",
        "\n"
      ],
      "execution_count": 13,
      "outputs": []
    },
    {
      "cell_type": "code",
      "metadata": {
        "id": "4Mdm52jfEx0X",
        "colab": {
          "base_uri": "https://localhost:8080/"
        },
        "outputId": "8a403b2b-0d01-4fb6-d39b-3dd895366a55"
      },
      "source": [
        "#All data will be in 2D after Standard Scaling\n",
        "print('x_train.shape:',x_train.shape)\n",
        "print('y_train.shape:',y_train.shape)\n",
        "print('x_test.shape:',x_test.shape)\n",
        "print('y_test.shape:',y_test.shape)"
      ],
      "execution_count": 14,
      "outputs": [
        {
          "output_type": "stream",
          "name": "stdout",
          "text": [
            "x_train.shape: (12989, 11)\n",
            "y_train.shape: (419, 1)\n",
            "x_test.shape: (1860, 11)\n",
            "y_test.shape: (60, 1)\n"
          ]
        }
      ]
    },
    {
      "cell_type": "code",
      "metadata": {
        "id": "KfueKrNZFDpH"
      },
      "source": [
        "# convert an array of values into a 3D dataset matrix\n",
        "def reshape_features(dataset, timesteps=1):\n",
        "    print(dataset.shape)\n",
        "    X = dataset.reshape((int(dataset.shape[0]/timesteps)), timesteps, dataset.shape[1])\n",
        "    return X"
      ],
      "execution_count": 15,
      "outputs": []
    },
    {
      "cell_type": "code",
      "metadata": {
        "id": "4h6m4o2Oa-du",
        "colab": {
          "base_uri": "https://localhost:8080/"
        },
        "outputId": "61e6066f-695b-4c30-a356-a894c5a3d385"
      },
      "source": [
        "#Reshaping data to 3D for modeling\n",
        "timesteps = 31\n",
        "x_train = reshape_features(x_train, timesteps) # reshaping to 3d for model\n",
        "x_test = reshape_features(x_test, timesteps) # reshaping to 3d for model"
      ],
      "execution_count": 16,
      "outputs": [
        {
          "output_type": "stream",
          "name": "stdout",
          "text": [
            "(12989, 11)\n",
            "(1860, 11)\n"
          ]
        }
      ]
    },
    {
      "cell_type": "code",
      "metadata": {
        "id": "3fZ8W9HUYV0f",
        "colab": {
          "base_uri": "https://localhost:8080/"
        },
        "outputId": "ceacd519-9cce-4cca-b18d-583466cde0ea"
      },
      "source": [
        "print('x_train.shape:',x_train.shape)\n",
        "print('y_train.shape:',y_train.shape)\n",
        "print('x_test.shape:',x_test.shape)\n",
        "print('y_test.shape:',y_test.shape)"
      ],
      "execution_count": 17,
      "outputs": [
        {
          "output_type": "stream",
          "name": "stdout",
          "text": [
            "x_train.shape: (419, 31, 11)\n",
            "y_train.shape: (419, 1)\n",
            "x_test.shape: (60, 31, 11)\n",
            "y_test.shape: (60, 1)\n"
          ]
        }
      ]
    },
    {
      "cell_type": "markdown",
      "metadata": {
        "id": "HRaNlUDXr7Qt"
      },
      "source": [
        "## LSTM Network"
      ]
    },
    {
      "cell_type": "code",
      "metadata": {
        "id": "os6HpsBNcHw9"
      },
      "source": [
        "from tensorflow.keras.models import Model\n",
        "from tensorflow.keras import Input\n",
        "from tensorflow.keras.layers import concatenate, Permute, Reshape\n",
        "from tensorflow.keras.layers import Dense, Lambda, Dot, Activation, Concatenate, Flatten\n",
        "from tensorflow.keras.layers import Layer"
      ],
      "execution_count": 18,
      "outputs": []
    },
    {
      "cell_type": "code",
      "metadata": {
        "id": "M7bzSt8yfNWq"
      },
      "source": [
        "# Customized implementation of Attention layer to accomodate multiple calls to attention\n",
        "class Attention(Layer):\n",
        "\n",
        "    def __init__(self, units=128, **kwargs):\n",
        "        self.units = units\n",
        "        super().__init__(**kwargs)\n",
        "\n",
        "    def __call__(self, inputs):\n",
        "        \"\"\"\n",
        "        Many-to-one attention mechanism for Keras.\n",
        "        @param inputs: 3D tensor with shape (batch_size, time_steps, input_dim).\n",
        "        @return: 2D tensor with shape (batch_size, 128)\n",
        "        @author: felixhao28, philipperemy.\n",
        "        \"\"\"\n",
        "        hidden_states = inputs\n",
        "        hidden_size = int(hidden_states.shape[2])\n",
        "        # Inside dense layer\n",
        "        #              hidden_states            dot               W            =>           score_first_part\n",
        "        # (batch_size, time_steps, hidden_size) dot (hidden_size, hidden_size) => (batch_size, time_steps, hidden_size)\n",
        "        # W is the trainable weight matrix of attention Luong's multiplicative style score\n",
        "        score_first_part = Dense(hidden_size, use_bias=False)(hidden_states)\n",
        "        #            score_first_part           dot        last_hidden_state     => attention_weights\n",
        "        # (batch_size, time_steps, hidden_size) dot   (batch_size, hidden_size)  => (batch_size, time_steps)\n",
        "        h_t = Lambda(lambda x: x[:, -1, :], output_shape=(hidden_size,))(hidden_states)\n",
        "        score = Dot(axes=[1, 2])([h_t, score_first_part])\n",
        "        attention_weights = Activation('softmax')(score)\n",
        "        # (batch_size, time_steps, hidden_size) dot (batch_size, time_steps) => (batch_size, hidden_size)\n",
        "        context_vector = Dot(axes=[1, 1])([hidden_states, attention_weights])\n",
        "        pre_activation = Concatenate()([context_vector, h_t])\n",
        "        attention_vector = Dense(self.units, use_bias=False, activation='tanh')(pre_activation)\n",
        "        return attention_vector\n",
        "\n",
        "    def get_config(self):\n",
        "        return {'units': self.units}\n",
        "\n",
        "    @classmethod\n",
        "    def from_config(cls, config):\n",
        "        return cls(**config)"
      ],
      "execution_count": 19,
      "outputs": []
    },
    {
      "cell_type": "code",
      "metadata": {
        "id": "9_f7Qd0LSYib",
        "colab": {
          "base_uri": "https://localhost:8080/"
        },
        "outputId": "6c3ec163-6f01-4128-b1ae-1951f61e5c19"
      },
      "source": [
        "model1_input= Input(shape=(30,11)) #replace (30,10) with (30,11) for 11 features \n",
        "model2_input= Input(shape=(1,11)) #replace (1,10) with (1,11) for 11 features\n",
        "\n",
        "model1 = Permute((2,1), input_shape=(30,11))(model1_input)\n",
        "model1 = LSTM(64, return_sequences=True)(model1)\n",
        "model1 = Dropout(0.2)(model1)\n",
        "model1 = LSTM(32, return_sequences=True)(model1)\n",
        "model1 = Attention()(model1)\n",
        "model1 = Dense(1)(model1)\n",
        "\n",
        "model2 = Permute((2,1), input_shape=(1,11))(model2_input)\n",
        "model2 = LSTM(64, return_sequences=True)(model2)\n",
        "model2 = Dropout(0.2)(model2)\n",
        "model2 = LSTM(32, return_sequences=True)(model2)\n",
        "model2 = Attention()(model2)\n",
        "model2 = Dense(1)(model2)\n",
        "\n",
        "ensemble = concatenate([model1, model2])\n",
        "merged_model = Dense(1)(ensemble)\n",
        "model = Model(inputs=[model1_input,model2_input], outputs=merged_model)\n",
        "model.summary()\n"
      ],
      "execution_count": 20,
      "outputs": [
        {
          "output_type": "stream",
          "name": "stdout",
          "text": [
            "Model: \"model\"\n",
            "__________________________________________________________________________________________________\n",
            " Layer (type)                   Output Shape         Param #     Connected to                     \n",
            "==================================================================================================\n",
            " input_1 (InputLayer)           [(None, 30, 11)]     0           []                               \n",
            "                                                                                                  \n",
            " input_2 (InputLayer)           [(None, 1, 11)]      0           []                               \n",
            "                                                                                                  \n",
            " permute (Permute)              (None, 11, 30)       0           ['input_1[0][0]']                \n",
            "                                                                                                  \n",
            " permute_1 (Permute)            (None, 11, 1)        0           ['input_2[0][0]']                \n",
            "                                                                                                  \n",
            " lstm (LSTM)                    (None, 11, 64)       24320       ['permute[0][0]']                \n",
            "                                                                                                  \n",
            " lstm_2 (LSTM)                  (None, 11, 64)       16896       ['permute_1[0][0]']              \n",
            "                                                                                                  \n",
            " dropout (Dropout)              (None, 11, 64)       0           ['lstm[0][0]']                   \n",
            "                                                                                                  \n",
            " dropout_1 (Dropout)            (None, 11, 64)       0           ['lstm_2[0][0]']                 \n",
            "                                                                                                  \n",
            " lstm_1 (LSTM)                  (None, 11, 32)       12416       ['dropout[0][0]']                \n",
            "                                                                                                  \n",
            " lstm_3 (LSTM)                  (None, 11, 32)       12416       ['dropout_1[0][0]']              \n",
            "                                                                                                  \n",
            " lambda (Lambda)                (None, 32)           0           ['lstm_1[0][0]']                 \n",
            "                                                                                                  \n",
            " dense (Dense)                  (None, 11, 32)       1024        ['lstm_1[0][0]']                 \n",
            "                                                                                                  \n",
            " lambda_1 (Lambda)              (None, 32)           0           ['lstm_3[0][0]']                 \n",
            "                                                                                                  \n",
            " dense_3 (Dense)                (None, 11, 32)       1024        ['lstm_3[0][0]']                 \n",
            "                                                                                                  \n",
            " dot (Dot)                      (None, 11)           0           ['lambda[0][0]',                 \n",
            "                                                                  'dense[0][0]']                  \n",
            "                                                                                                  \n",
            " dot_2 (Dot)                    (None, 11)           0           ['lambda_1[0][0]',               \n",
            "                                                                  'dense_3[0][0]']                \n",
            "                                                                                                  \n",
            " activation (Activation)        (None, 11)           0           ['dot[0][0]']                    \n",
            "                                                                                                  \n",
            " activation_1 (Activation)      (None, 11)           0           ['dot_2[0][0]']                  \n",
            "                                                                                                  \n",
            " dot_1 (Dot)                    (None, 32)           0           ['lstm_1[0][0]',                 \n",
            "                                                                  'activation[0][0]']             \n",
            "                                                                                                  \n",
            " dot_3 (Dot)                    (None, 32)           0           ['lstm_3[0][0]',                 \n",
            "                                                                  'activation_1[0][0]']           \n",
            "                                                                                                  \n",
            " concatenate (Concatenate)      (None, 64)           0           ['dot_1[0][0]',                  \n",
            "                                                                  'lambda[0][0]']                 \n",
            "                                                                                                  \n",
            " concatenate_1 (Concatenate)    (None, 64)           0           ['dot_3[0][0]',                  \n",
            "                                                                  'lambda_1[0][0]']               \n",
            "                                                                                                  \n",
            " dense_1 (Dense)                (None, 128)          8192        ['concatenate[0][0]']            \n",
            "                                                                                                  \n",
            " dense_4 (Dense)                (None, 128)          8192        ['concatenate_1[0][0]']          \n",
            "                                                                                                  \n",
            " dense_2 (Dense)                (None, 1)            129         ['dense_1[0][0]']                \n",
            "                                                                                                  \n",
            " dense_5 (Dense)                (None, 1)            129         ['dense_4[0][0]']                \n",
            "                                                                                                  \n",
            " concatenate_2 (Concatenate)    (None, 2)            0           ['dense_2[0][0]',                \n",
            "                                                                  'dense_5[0][0]']                \n",
            "                                                                                                  \n",
            " dense_6 (Dense)                (None, 1)            3           ['concatenate_2[0][0]']          \n",
            "                                                                                                  \n",
            "==================================================================================================\n",
            "Total params: 84,741\n",
            "Trainable params: 84,741\n",
            "Non-trainable params: 0\n",
            "__________________________________________________________________________________________________\n"
          ]
        }
      ]
    },
    {
      "cell_type": "markdown",
      "metadata": {
        "id": "qrWXbk9DsTJ1"
      },
      "source": [
        "## Compiling the Network and Fitting Model"
      ]
    },
    {
      "cell_type": "code",
      "metadata": {
        "id": "JAo2H2JssXjN"
      },
      "source": [
        "#Compiling the network\n",
        "model.compile(loss='mean_squared_error', optimizer='adam')\n",
        "checkpoint_path='./testmodel.h5'\n",
        "keras_callbacks   = [\n",
        "      EarlyStopping(monitor='val_loss', patience=60, mode='min', min_delta=0.001),\n",
        "      ModelCheckpoint(checkpoint_path, monitor='val_loss', save_best_only=True, mode='min')\n",
        "]\n"
      ],
      "execution_count": 21,
      "outputs": []
    },
    {
      "cell_type": "code",
      "metadata": {
        "id": "vxresQUSTYgq"
      },
      "source": [
        "# history=model.fit([x_train[:,:30,:],x_train[:,30:31,:]], y_train, epochs=500, batch_size=64, verbose=2, validation_split=0.3, shuffle=True,callbacks=keras_callbacks)"
      ],
      "execution_count": 22,
      "outputs": []
    },
    {
      "cell_type": "markdown",
      "source": [
        "# Train on entire dataset"
      ],
      "metadata": {
        "id": "Ayr64wHsnddR"
      }
    },
    {
      "cell_type": "code",
      "source": [
        "history=model.fit([x_train[:,:30,:], x_train[:,30:31,:]], y_train, epochs=100, batch_size=64, verbose=2, shuffle=True)"
      ],
      "metadata": {
        "colab": {
          "base_uri": "https://localhost:8080/"
        },
        "id": "2egg9ql6nfHv",
        "outputId": "ab211a8b-18cb-4d4e-a313-b2a4ad6e100b"
      },
      "execution_count": 23,
      "outputs": [
        {
          "output_type": "stream",
          "name": "stdout",
          "text": [
            "Epoch 1/100\n",
            "7/7 - 15s - loss: 0.4749 - 15s/epoch - 2s/step\n",
            "Epoch 2/100\n",
            "7/7 - 0s - loss: 0.1852 - 120ms/epoch - 17ms/step\n",
            "Epoch 3/100\n",
            "7/7 - 0s - loss: 0.1225 - 131ms/epoch - 19ms/step\n",
            "Epoch 4/100\n",
            "7/7 - 0s - loss: 0.0977 - 118ms/epoch - 17ms/step\n",
            "Epoch 5/100\n",
            "7/7 - 0s - loss: 0.0853 - 123ms/epoch - 18ms/step\n",
            "Epoch 6/100\n",
            "7/7 - 0s - loss: 0.0745 - 118ms/epoch - 17ms/step\n",
            "Epoch 7/100\n",
            "7/7 - 0s - loss: 0.0627 - 123ms/epoch - 18ms/step\n",
            "Epoch 8/100\n",
            "7/7 - 0s - loss: 0.0580 - 119ms/epoch - 17ms/step\n",
            "Epoch 9/100\n",
            "7/7 - 0s - loss: 0.0517 - 115ms/epoch - 16ms/step\n",
            "Epoch 10/100\n",
            "7/7 - 0s - loss: 0.0494 - 123ms/epoch - 18ms/step\n",
            "Epoch 11/100\n",
            "7/7 - 0s - loss: 0.0423 - 116ms/epoch - 17ms/step\n",
            "Epoch 12/100\n",
            "7/7 - 0s - loss: 0.0431 - 126ms/epoch - 18ms/step\n",
            "Epoch 13/100\n",
            "7/7 - 0s - loss: 0.0378 - 119ms/epoch - 17ms/step\n",
            "Epoch 14/100\n",
            "7/7 - 0s - loss: 0.0367 - 122ms/epoch - 17ms/step\n",
            "Epoch 15/100\n",
            "7/7 - 0s - loss: 0.0330 - 118ms/epoch - 17ms/step\n",
            "Epoch 16/100\n",
            "7/7 - 0s - loss: 0.0296 - 127ms/epoch - 18ms/step\n",
            "Epoch 17/100\n",
            "7/7 - 0s - loss: 0.0274 - 124ms/epoch - 18ms/step\n",
            "Epoch 18/100\n",
            "7/7 - 0s - loss: 0.0314 - 119ms/epoch - 17ms/step\n",
            "Epoch 19/100\n",
            "7/7 - 0s - loss: 0.0275 - 117ms/epoch - 17ms/step\n",
            "Epoch 20/100\n",
            "7/7 - 0s - loss: 0.0237 - 114ms/epoch - 16ms/step\n",
            "Epoch 21/100\n",
            "7/7 - 0s - loss: 0.0284 - 126ms/epoch - 18ms/step\n",
            "Epoch 22/100\n",
            "7/7 - 0s - loss: 0.0261 - 116ms/epoch - 17ms/step\n",
            "Epoch 23/100\n",
            "7/7 - 0s - loss: 0.0235 - 119ms/epoch - 17ms/step\n",
            "Epoch 24/100\n",
            "7/7 - 0s - loss: 0.0215 - 122ms/epoch - 17ms/step\n",
            "Epoch 25/100\n",
            "7/7 - 0s - loss: 0.0243 - 118ms/epoch - 17ms/step\n",
            "Epoch 26/100\n",
            "7/7 - 0s - loss: 0.0241 - 130ms/epoch - 19ms/step\n",
            "Epoch 27/100\n",
            "7/7 - 0s - loss: 0.0207 - 116ms/epoch - 17ms/step\n",
            "Epoch 28/100\n",
            "7/7 - 0s - loss: 0.0210 - 121ms/epoch - 17ms/step\n",
            "Epoch 29/100\n",
            "7/7 - 0s - loss: 0.0237 - 128ms/epoch - 18ms/step\n",
            "Epoch 30/100\n",
            "7/7 - 0s - loss: 0.0220 - 118ms/epoch - 17ms/step\n",
            "Epoch 31/100\n",
            "7/7 - 0s - loss: 0.0192 - 122ms/epoch - 17ms/step\n",
            "Epoch 32/100\n",
            "7/7 - 0s - loss: 0.0210 - 115ms/epoch - 16ms/step\n",
            "Epoch 33/100\n",
            "7/7 - 0s - loss: 0.0190 - 114ms/epoch - 16ms/step\n",
            "Epoch 34/100\n",
            "7/7 - 0s - loss: 0.0178 - 120ms/epoch - 17ms/step\n",
            "Epoch 35/100\n",
            "7/7 - 0s - loss: 0.0178 - 117ms/epoch - 17ms/step\n",
            "Epoch 36/100\n",
            "7/7 - 0s - loss: 0.0193 - 114ms/epoch - 16ms/step\n",
            "Epoch 37/100\n",
            "7/7 - 0s - loss: 0.0195 - 118ms/epoch - 17ms/step\n",
            "Epoch 38/100\n",
            "7/7 - 0s - loss: 0.0176 - 125ms/epoch - 18ms/step\n",
            "Epoch 39/100\n",
            "7/7 - 0s - loss: 0.0185 - 120ms/epoch - 17ms/step\n",
            "Epoch 40/100\n",
            "7/7 - 0s - loss: 0.0147 - 120ms/epoch - 17ms/step\n",
            "Epoch 41/100\n",
            "7/7 - 0s - loss: 0.0164 - 116ms/epoch - 17ms/step\n",
            "Epoch 42/100\n",
            "7/7 - 0s - loss: 0.0153 - 122ms/epoch - 17ms/step\n",
            "Epoch 43/100\n",
            "7/7 - 0s - loss: 0.0161 - 118ms/epoch - 17ms/step\n",
            "Epoch 44/100\n",
            "7/7 - 0s - loss: 0.0173 - 123ms/epoch - 18ms/step\n",
            "Epoch 45/100\n",
            "7/7 - 0s - loss: 0.0157 - 118ms/epoch - 17ms/step\n",
            "Epoch 46/100\n",
            "7/7 - 0s - loss: 0.0141 - 129ms/epoch - 18ms/step\n",
            "Epoch 47/100\n",
            "7/7 - 0s - loss: 0.0146 - 125ms/epoch - 18ms/step\n",
            "Epoch 48/100\n",
            "7/7 - 0s - loss: 0.0146 - 123ms/epoch - 18ms/step\n",
            "Epoch 49/100\n",
            "7/7 - 0s - loss: 0.0149 - 121ms/epoch - 17ms/step\n",
            "Epoch 50/100\n",
            "7/7 - 0s - loss: 0.0134 - 116ms/epoch - 17ms/step\n",
            "Epoch 51/100\n",
            "7/7 - 0s - loss: 0.0159 - 119ms/epoch - 17ms/step\n",
            "Epoch 52/100\n",
            "7/7 - 0s - loss: 0.0141 - 113ms/epoch - 16ms/step\n",
            "Epoch 53/100\n",
            "7/7 - 0s - loss: 0.0130 - 117ms/epoch - 17ms/step\n",
            "Epoch 54/100\n",
            "7/7 - 0s - loss: 0.0177 - 124ms/epoch - 18ms/step\n",
            "Epoch 55/100\n",
            "7/7 - 0s - loss: 0.0155 - 125ms/epoch - 18ms/step\n",
            "Epoch 56/100\n",
            "7/7 - 0s - loss: 0.0123 - 122ms/epoch - 17ms/step\n",
            "Epoch 57/100\n",
            "7/7 - 0s - loss: 0.0131 - 115ms/epoch - 16ms/step\n",
            "Epoch 58/100\n",
            "7/7 - 0s - loss: 0.0129 - 117ms/epoch - 17ms/step\n",
            "Epoch 59/100\n",
            "7/7 - 0s - loss: 0.0136 - 116ms/epoch - 17ms/step\n",
            "Epoch 60/100\n",
            "7/7 - 0s - loss: 0.0126 - 116ms/epoch - 17ms/step\n",
            "Epoch 61/100\n",
            "7/7 - 0s - loss: 0.0140 - 117ms/epoch - 17ms/step\n",
            "Epoch 62/100\n",
            "7/7 - 0s - loss: 0.0130 - 123ms/epoch - 18ms/step\n",
            "Epoch 63/100\n",
            "7/7 - 0s - loss: 0.0138 - 115ms/epoch - 16ms/step\n",
            "Epoch 64/100\n",
            "7/7 - 0s - loss: 0.0125 - 119ms/epoch - 17ms/step\n",
            "Epoch 65/100\n",
            "7/7 - 0s - loss: 0.0137 - 117ms/epoch - 17ms/step\n",
            "Epoch 66/100\n",
            "7/7 - 0s - loss: 0.0120 - 112ms/epoch - 16ms/step\n",
            "Epoch 67/100\n",
            "7/7 - 0s - loss: 0.0113 - 120ms/epoch - 17ms/step\n",
            "Epoch 68/100\n",
            "7/7 - 0s - loss: 0.0104 - 112ms/epoch - 16ms/step\n",
            "Epoch 69/100\n",
            "7/7 - 0s - loss: 0.0124 - 121ms/epoch - 17ms/step\n",
            "Epoch 70/100\n",
            "7/7 - 0s - loss: 0.0119 - 124ms/epoch - 18ms/step\n",
            "Epoch 71/100\n",
            "7/7 - 0s - loss: 0.0107 - 117ms/epoch - 17ms/step\n",
            "Epoch 72/100\n",
            "7/7 - 0s - loss: 0.0105 - 124ms/epoch - 18ms/step\n",
            "Epoch 73/100\n",
            "7/7 - 0s - loss: 0.0111 - 119ms/epoch - 17ms/step\n",
            "Epoch 74/100\n",
            "7/7 - 0s - loss: 0.0122 - 129ms/epoch - 18ms/step\n",
            "Epoch 75/100\n",
            "7/7 - 0s - loss: 0.0101 - 116ms/epoch - 17ms/step\n",
            "Epoch 76/100\n",
            "7/7 - 0s - loss: 0.0115 - 117ms/epoch - 17ms/step\n",
            "Epoch 77/100\n",
            "7/7 - 0s - loss: 0.0107 - 116ms/epoch - 17ms/step\n",
            "Epoch 78/100\n",
            "7/7 - 0s - loss: 0.0104 - 126ms/epoch - 18ms/step\n",
            "Epoch 79/100\n",
            "7/7 - 0s - loss: 0.0091 - 121ms/epoch - 17ms/step\n",
            "Epoch 80/100\n",
            "7/7 - 0s - loss: 0.0098 - 123ms/epoch - 18ms/step\n",
            "Epoch 81/100\n",
            "7/7 - 0s - loss: 0.0111 - 124ms/epoch - 18ms/step\n",
            "Epoch 82/100\n",
            "7/7 - 0s - loss: 0.0101 - 121ms/epoch - 17ms/step\n",
            "Epoch 83/100\n",
            "7/7 - 0s - loss: 0.0085 - 117ms/epoch - 17ms/step\n",
            "Epoch 84/100\n",
            "7/7 - 0s - loss: 0.0094 - 118ms/epoch - 17ms/step\n",
            "Epoch 85/100\n",
            "7/7 - 0s - loss: 0.0114 - 129ms/epoch - 18ms/step\n",
            "Epoch 86/100\n",
            "7/7 - 0s - loss: 0.0097 - 130ms/epoch - 19ms/step\n",
            "Epoch 87/100\n",
            "7/7 - 0s - loss: 0.0099 - 117ms/epoch - 17ms/step\n",
            "Epoch 88/100\n",
            "7/7 - 0s - loss: 0.0090 - 119ms/epoch - 17ms/step\n",
            "Epoch 89/100\n",
            "7/7 - 0s - loss: 0.0091 - 122ms/epoch - 17ms/step\n",
            "Epoch 90/100\n",
            "7/7 - 0s - loss: 0.0104 - 116ms/epoch - 17ms/step\n",
            "Epoch 91/100\n",
            "7/7 - 0s - loss: 0.0080 - 115ms/epoch - 16ms/step\n",
            "Epoch 92/100\n",
            "7/7 - 0s - loss: 0.0082 - 116ms/epoch - 17ms/step\n",
            "Epoch 93/100\n",
            "7/7 - 0s - loss: 0.0094 - 118ms/epoch - 17ms/step\n",
            "Epoch 94/100\n",
            "7/7 - 0s - loss: 0.0100 - 121ms/epoch - 17ms/step\n",
            "Epoch 95/100\n",
            "7/7 - 0s - loss: 0.0094 - 120ms/epoch - 17ms/step\n",
            "Epoch 96/100\n",
            "7/7 - 0s - loss: 0.0108 - 126ms/epoch - 18ms/step\n",
            "Epoch 97/100\n",
            "7/7 - 0s - loss: 0.0130 - 129ms/epoch - 18ms/step\n",
            "Epoch 98/100\n",
            "7/7 - 0s - loss: 0.0116 - 110ms/epoch - 16ms/step\n",
            "Epoch 99/100\n",
            "7/7 - 0s - loss: 0.0105 - 118ms/epoch - 17ms/step\n",
            "Epoch 100/100\n",
            "7/7 - 0s - loss: 0.0104 - 119ms/epoch - 17ms/step\n"
          ]
        }
      ]
    },
    {
      "cell_type": "markdown",
      "metadata": {
        "id": "LvmYA01IaEdB"
      },
      "source": [
        "## Model Predictions"
      ]
    },
    {
      "cell_type": "code",
      "metadata": {
        "id": "CaHjsvNLaD5I",
        "colab": {
          "base_uri": "https://localhost:8080/"
        },
        "outputId": "19cd9dad-a09b-45aa-b1a1-ef874862ef59"
      },
      "source": [
        "trainPred = model.predict([x_train[:,:30,:],x_train[:,30:31,:]])\n",
        "testPred = model.predict([x_test[:,:30,:],x_test[:,30:31,:]])\n",
        "print(testPred.shape)\n",
        "print(trainPred.shape)"
      ],
      "execution_count": 24,
      "outputs": [
        {
          "output_type": "stream",
          "name": "stdout",
          "text": [
            "(60, 1)\n",
            "(419, 1)\n"
          ]
        }
      ]
    },
    {
      "cell_type": "code",
      "metadata": {
        "id": "eAQQknmh8PQA",
        "colab": {
          "base_uri": "https://localhost:8080/"
        },
        "outputId": "feb5476b-05dd-4fef-a3a1-82caaf1a943d"
      },
      "source": [
        "#Reverting data back to 2D from 3D\n",
        "x_train_t = x_train.reshape(-1, x_train.shape[2])\n",
        "x_test_t = x_test.reshape(-1, x_test.shape[2])\n",
        "\n",
        "print(x_train_t.shape)\n",
        "print(trainPred.shape)\n",
        "print(x_test_t.shape)\n",
        "print(testPred.shape)"
      ],
      "execution_count": 25,
      "outputs": [
        {
          "output_type": "stream",
          "name": "stdout",
          "text": [
            "(12989, 11)\n",
            "(419, 1)\n",
            "(1860, 11)\n",
            "(60, 1)\n"
          ]
        }
      ]
    },
    {
      "cell_type": "code",
      "metadata": {
        "id": "3VcTUMCr9rl2",
        "colab": {
          "base_uri": "https://localhost:8080/"
        },
        "outputId": "c3bb3a14-589f-4112-80c8-9e9d8219dd58"
      },
      "source": [
        "# invert scaling for forecasted values \n",
        "\n",
        "inv_testPred = scaler_l.inverse_transform(testPred)\n",
        "print(inv_testPred)\n",
        "\n",
        "# invert scaling for actual values\n",
        "\n",
        "inv_y_test = scaler_l.inverse_transform(y_test)\n",
        "print(inv_y_test)\n"
      ],
      "execution_count": 26,
      "outputs": [
        {
          "output_type": "stream",
          "name": "stdout",
          "text": [
            "[[14494592. ]\n",
            " [14887653. ]\n",
            " [15189227. ]\n",
            " [14633362. ]\n",
            " [12776656. ]\n",
            " [11736203. ]\n",
            " [ 9105661. ]\n",
            " [ 5748732.5]\n",
            " [ 4987646.5]\n",
            " [ 7646420. ]\n",
            " [11393866. ]\n",
            " [13228309. ]\n",
            " [14340829. ]\n",
            " [15323602. ]\n",
            " [15024797. ]\n",
            " [14529716. ]\n",
            " [12738922. ]\n",
            " [11880212. ]\n",
            " [ 9038925. ]\n",
            " [ 5648265.5]\n",
            " [ 5532380. ]\n",
            " [ 7689633. ]\n",
            " [11154171. ]\n",
            " [13059451. ]\n",
            " [14405111. ]\n",
            " [15061422. ]\n",
            " [15273697. ]\n",
            " [14289019. ]\n",
            " [13053378. ]\n",
            " [11507393. ]\n",
            " [ 8192939. ]\n",
            " [ 5317645. ]\n",
            " [ 4886544. ]\n",
            " [ 7176569.5]\n",
            " [10025619. ]\n",
            " [11881656. ]\n",
            " [13740907. ]\n",
            " [14345850. ]\n",
            " [15022681. ]\n",
            " [14192851. ]\n",
            " [12432870. ]\n",
            " [11608808. ]\n",
            " [ 9560164. ]\n",
            " [ 5850893. ]\n",
            " [ 5014505. ]\n",
            " [ 7171694.5]\n",
            " [ 9908406. ]\n",
            " [12038497. ]\n",
            " [13690934. ]\n",
            " [15401233. ]\n",
            " [14008477. ]\n",
            " [14671068. ]\n",
            " [12992285. ]\n",
            " [11162970. ]\n",
            " [ 8804012. ]\n",
            " [ 7236592.5]\n",
            " [ 5438067. ]\n",
            " [ 8350953. ]\n",
            " [ 9192643. ]\n",
            " [11848018. ]]\n",
            "[[13859281.]\n",
            " [14545530.]\n",
            " [14873045.]\n",
            " [14251514.]\n",
            " [12804783.]\n",
            " [11342310.]\n",
            " [ 8282561.]\n",
            " [ 6226020.]\n",
            " [ 5292877.]\n",
            " [ 8116325.]\n",
            " [10379551.]\n",
            " [12587452.]\n",
            " [13753202.]\n",
            " [14513390.]\n",
            " [14486792.]\n",
            " [13977043.]\n",
            " [12687025.]\n",
            " [11046918.]\n",
            " [ 8826170.]\n",
            " [ 5656263.]\n",
            " [ 4684205.]\n",
            " [ 7792677.]\n",
            " [10106923.]\n",
            " [12333348.]\n",
            " [13606835.]\n",
            " [14291677.]\n",
            " [14521587.]\n",
            " [13805814.]\n",
            " [12093470.]\n",
            " [10645155.]\n",
            " [ 8183891.]\n",
            " [ 5595206.]\n",
            " [ 4738491.]\n",
            " [ 6489544.]\n",
            " [ 9080282.]\n",
            " [12062117.]\n",
            " [13394913.]\n",
            " [14261171.]\n",
            " [14456364.]\n",
            " [13823701.]\n",
            " [12747403.]\n",
            " [11065909.]\n",
            " [ 8271989.]\n",
            " [ 5510251.]\n",
            " [ 4894919.]\n",
            " [ 7399693.]\n",
            " [ 9844098.]\n",
            " [12011969.]\n",
            " [13246553.]\n",
            " [14115339.]\n",
            " [14408998.]\n",
            " [13766034.]\n",
            " [12363082.]\n",
            " [10926087.]\n",
            " [ 8661358.]\n",
            " [ 5622998.]\n",
            " [ 4834953.]\n",
            " [ 6824601.]\n",
            " [10279618.]\n",
            " [12092694.]]\n"
          ]
        }
      ]
    },
    {
      "cell_type": "code",
      "metadata": {
        "id": "oNZOX9p8Btxw",
        "colab": {
          "base_uri": "https://localhost:8080/"
        },
        "outputId": "be11ec58-936d-46e5-8f58-848608286420"
      },
      "source": [
        "# calculate RMSE\n",
        "from sklearn.metrics import mean_squared_error\n",
        "from math import sqrt\n",
        "\n",
        "rmse = sqrt(mean_squared_error(inv_y_test, inv_testPred))\n",
        "print('Test RMSE: %.3f' % rmse)"
      ],
      "execution_count": 27,
      "outputs": [
        {
          "output_type": "stream",
          "name": "stdout",
          "text": [
            "Test RMSE: 659934.300\n"
          ]
        }
      ]
    },
    {
      "cell_type": "code",
      "metadata": {
        "id": "23_bcO2qIpdn",
        "colab": {
          "base_uri": "https://localhost:8080/"
        },
        "outputId": "641c13f2-c906-46be-ba94-0d0ac9e0f1d5"
      },
      "source": [
        "# calculate Normalized RMSE\n",
        "y_max = y_test.max()\n",
        "y_min = y_test.min()\n",
        "nrmse = rmse /(inv_y_test.mean()) \n",
        "print('Test NRMSE:', nrmse)"
      ],
      "execution_count": 28,
      "outputs": [
        {
          "output_type": "stream",
          "name": "stdout",
          "text": [
            "Test NRMSE: 0.0616411565988182\n"
          ]
        }
      ]
    },
    {
      "cell_type": "code",
      "metadata": {
        "id": "XxRVfXyjeHMz",
        "colab": {
          "base_uri": "https://localhost:8080/"
        },
        "outputId": "ce8a1006-50e6-41fe-f7d7-3f3a2cee9564"
      },
      "source": [
        "# calculate R-square\n",
        "from sklearn.metrics import r2_score\n",
        "from math import sqrt\n",
        "\n",
        "r_sq = r2_score(inv_y_test, inv_testPred)\n",
        "print('Test R_Square: %.3f' % r_sq)"
      ],
      "execution_count": 29,
      "outputs": [
        {
          "output_type": "stream",
          "name": "stdout",
          "text": [
            "Test R_Square: 0.960\n"
          ]
        }
      ]
    },
    {
      "cell_type": "markdown",
      "source": [
        "# Write scores in csv files"
      ],
      "metadata": {
        "id": "KxMR2bLiPL3p"
      }
    },
    {
      "cell_type": "code",
      "source": [
        "file_path = '/content/drive/MyDrive/SYDE 675/Project/Models/ea-LSTM/ea_lstm_scores.csv'\n",
        "\n",
        "header = ['seed', 'Test RMSE', 'Test normalized RMSE', 'R_Square']\n",
        "\n",
        "if os.path.exists(file_path):\n",
        "  # If file exists, append row\n",
        "  with open(file_path, 'a', encoding='UTF8') as f:\n",
        "    writer = csv.writer(f)\n",
        "\n",
        "    # write the data\n",
        "    writer.writerow([seed_number, rmse, nrmse, r_sq])\n",
        "\n",
        "else:\n",
        "  # If file does not exist, write new file\n",
        "  with open(file_path, 'w', encoding='UTF8') as f:\n",
        "    writer = csv.writer(f)\n",
        "\n",
        "    # write the header\n",
        "    writer.writerow(header)\n",
        "\n",
        "    # write the data\n",
        "    writer.writerow([seed_number, rmse, nrmse, r_sq])"
      ],
      "metadata": {
        "id": "ZJ3MO-IEPN5T"
      },
      "execution_count": 30,
      "outputs": []
    },
    {
      "cell_type": "code",
      "source": [
        "results = pd.read_csv(file_path)\n",
        "results.describe()"
      ],
      "metadata": {
        "colab": {
          "base_uri": "https://localhost:8080/",
          "height": 297
        },
        "id": "Fk4SEjC0RUbn",
        "outputId": "0c78f644-6801-4787-c47f-73bf3e2e5196"
      },
      "execution_count": 37,
      "outputs": [
        {
          "output_type": "execute_result",
          "data": {
            "text/html": [
              "\n",
              "  <div id=\"df-4c136591-ec9e-49a4-80c2-3dcc4f3a48d6\">\n",
              "    <div class=\"colab-df-container\">\n",
              "      <div>\n",
              "<style scoped>\n",
              "    .dataframe tbody tr th:only-of-type {\n",
              "        vertical-align: middle;\n",
              "    }\n",
              "\n",
              "    .dataframe tbody tr th {\n",
              "        vertical-align: top;\n",
              "    }\n",
              "\n",
              "    .dataframe thead th {\n",
              "        text-align: right;\n",
              "    }\n",
              "</style>\n",
              "<table border=\"1\" class=\"dataframe\">\n",
              "  <thead>\n",
              "    <tr style=\"text-align: right;\">\n",
              "      <th></th>\n",
              "      <th>seed</th>\n",
              "      <th>Test RMSE</th>\n",
              "      <th>Test normalized RMSE</th>\n",
              "      <th>R_Square</th>\n",
              "    </tr>\n",
              "  </thead>\n",
              "  <tbody>\n",
              "    <tr>\n",
              "      <th>count</th>\n",
              "      <td>21.000000</td>\n",
              "      <td>21.000000</td>\n",
              "      <td>21.000000</td>\n",
              "      <td>21.000000</td>\n",
              "    </tr>\n",
              "    <tr>\n",
              "      <th>mean</th>\n",
              "      <td>1.476190</td>\n",
              "      <td>618914.229106</td>\n",
              "      <td>0.057810</td>\n",
              "      <td>0.964148</td>\n",
              "    </tr>\n",
              "    <tr>\n",
              "      <th>std</th>\n",
              "      <td>0.511766</td>\n",
              "      <td>55528.535575</td>\n",
              "      <td>0.005187</td>\n",
              "      <td>0.006559</td>\n",
              "    </tr>\n",
              "    <tr>\n",
              "      <th>min</th>\n",
              "      <td>1.000000</td>\n",
              "      <td>507946.423174</td>\n",
              "      <td>0.047445</td>\n",
              "      <td>0.948826</td>\n",
              "    </tr>\n",
              "    <tr>\n",
              "      <th>25%</th>\n",
              "      <td>1.000000</td>\n",
              "      <td>588577.846506</td>\n",
              "      <td>0.054976</td>\n",
              "      <td>0.960888</td>\n",
              "    </tr>\n",
              "    <tr>\n",
              "      <th>50%</th>\n",
              "      <td>1.000000</td>\n",
              "      <td>604819.099372</td>\n",
              "      <td>0.056493</td>\n",
              "      <td>0.966023</td>\n",
              "    </tr>\n",
              "    <tr>\n",
              "      <th>75%</th>\n",
              "      <td>2.000000</td>\n",
              "      <td>648919.689737</td>\n",
              "      <td>0.060612</td>\n",
              "      <td>0.967823</td>\n",
              "    </tr>\n",
              "    <tr>\n",
              "      <th>max</th>\n",
              "      <td>2.000000</td>\n",
              "      <td>742264.260221</td>\n",
              "      <td>0.069331</td>\n",
              "      <td>0.976036</td>\n",
              "    </tr>\n",
              "  </tbody>\n",
              "</table>\n",
              "</div>\n",
              "      <button class=\"colab-df-convert\" onclick=\"convertToInteractive('df-4c136591-ec9e-49a4-80c2-3dcc4f3a48d6')\"\n",
              "              title=\"Convert this dataframe to an interactive table.\"\n",
              "              style=\"display:none;\">\n",
              "        \n",
              "  <svg xmlns=\"http://www.w3.org/2000/svg\" height=\"24px\"viewBox=\"0 0 24 24\"\n",
              "       width=\"24px\">\n",
              "    <path d=\"M0 0h24v24H0V0z\" fill=\"none\"/>\n",
              "    <path d=\"M18.56 5.44l.94 2.06.94-2.06 2.06-.94-2.06-.94-.94-2.06-.94 2.06-2.06.94zm-11 1L8.5 8.5l.94-2.06 2.06-.94-2.06-.94L8.5 2.5l-.94 2.06-2.06.94zm10 10l.94 2.06.94-2.06 2.06-.94-2.06-.94-.94-2.06-.94 2.06-2.06.94z\"/><path d=\"M17.41 7.96l-1.37-1.37c-.4-.4-.92-.59-1.43-.59-.52 0-1.04.2-1.43.59L10.3 9.45l-7.72 7.72c-.78.78-.78 2.05 0 2.83L4 21.41c.39.39.9.59 1.41.59.51 0 1.02-.2 1.41-.59l7.78-7.78 2.81-2.81c.8-.78.8-2.07 0-2.86zM5.41 20L4 18.59l7.72-7.72 1.47 1.35L5.41 20z\"/>\n",
              "  </svg>\n",
              "      </button>\n",
              "      \n",
              "  <style>\n",
              "    .colab-df-container {\n",
              "      display:flex;\n",
              "      flex-wrap:wrap;\n",
              "      gap: 12px;\n",
              "    }\n",
              "\n",
              "    .colab-df-convert {\n",
              "      background-color: #E8F0FE;\n",
              "      border: none;\n",
              "      border-radius: 50%;\n",
              "      cursor: pointer;\n",
              "      display: none;\n",
              "      fill: #1967D2;\n",
              "      height: 32px;\n",
              "      padding: 0 0 0 0;\n",
              "      width: 32px;\n",
              "    }\n",
              "\n",
              "    .colab-df-convert:hover {\n",
              "      background-color: #E2EBFA;\n",
              "      box-shadow: 0px 1px 2px rgba(60, 64, 67, 0.3), 0px 1px 3px 1px rgba(60, 64, 67, 0.15);\n",
              "      fill: #174EA6;\n",
              "    }\n",
              "\n",
              "    [theme=dark] .colab-df-convert {\n",
              "      background-color: #3B4455;\n",
              "      fill: #D2E3FC;\n",
              "    }\n",
              "\n",
              "    [theme=dark] .colab-df-convert:hover {\n",
              "      background-color: #434B5C;\n",
              "      box-shadow: 0px 1px 3px 1px rgba(0, 0, 0, 0.15);\n",
              "      filter: drop-shadow(0px 1px 2px rgba(0, 0, 0, 0.3));\n",
              "      fill: #FFFFFF;\n",
              "    }\n",
              "  </style>\n",
              "\n",
              "      <script>\n",
              "        const buttonEl =\n",
              "          document.querySelector('#df-4c136591-ec9e-49a4-80c2-3dcc4f3a48d6 button.colab-df-convert');\n",
              "        buttonEl.style.display =\n",
              "          google.colab.kernel.accessAllowed ? 'block' : 'none';\n",
              "\n",
              "        async function convertToInteractive(key) {\n",
              "          const element = document.querySelector('#df-4c136591-ec9e-49a4-80c2-3dcc4f3a48d6');\n",
              "          const dataTable =\n",
              "            await google.colab.kernel.invokeFunction('convertToInteractive',\n",
              "                                                     [key], {});\n",
              "          if (!dataTable) return;\n",
              "\n",
              "          const docLinkHtml = 'Like what you see? Visit the ' +\n",
              "            '<a target=\"_blank\" href=https://colab.research.google.com/notebooks/data_table.ipynb>data table notebook</a>'\n",
              "            + ' to learn more about interactive tables.';\n",
              "          element.innerHTML = '';\n",
              "          dataTable['output_type'] = 'display_data';\n",
              "          await google.colab.output.renderOutput(dataTable, element);\n",
              "          const docLink = document.createElement('div');\n",
              "          docLink.innerHTML = docLinkHtml;\n",
              "          element.appendChild(docLink);\n",
              "        }\n",
              "      </script>\n",
              "    </div>\n",
              "  </div>\n",
              "  "
            ],
            "text/plain": [
              "            seed      Test RMSE  Test normalized RMSE   R_Square\n",
              "count  21.000000      21.000000             21.000000  21.000000\n",
              "mean    1.476190  618914.229106              0.057810   0.964148\n",
              "std     0.511766   55528.535575              0.005187   0.006559\n",
              "min     1.000000  507946.423174              0.047445   0.948826\n",
              "25%     1.000000  588577.846506              0.054976   0.960888\n",
              "50%     1.000000  604819.099372              0.056493   0.966023\n",
              "75%     2.000000  648919.689737              0.060612   0.967823\n",
              "max     2.000000  742264.260221              0.069331   0.976036"
            ]
          },
          "metadata": {},
          "execution_count": 37
        }
      ]
    },
    {
      "cell_type": "code",
      "metadata": {
        "id": "e7NOnGZXOvRj",
        "colab": {
          "base_uri": "https://localhost:8080/",
          "height": 364
        },
        "outputId": "66a37911-0ec0-4bea-b07e-ca49bbb0054f"
      },
      "source": [
        "#1 year's plot\n",
        "import numpy as np\n",
        "import matplotlib.pyplot as plt\n",
        "X = np.arange(len(testPred))\n",
        "fig = plt.figure()\n",
        "ax = fig.add_axes([0,0,1,1])\n",
        "ax.bar(X + 0.00, inv_y_test.flatten(), color = 'b', width = 0.5)\n",
        "ax.bar(X + 0.5, inv_testPred.flatten(), color = 'g', width = 0.5)"
      ],
      "execution_count": 31,
      "outputs": [
        {
          "output_type": "execute_result",
          "data": {
            "text/plain": [
              "<BarContainer object of 60 artists>"
            ]
          },
          "metadata": {},
          "execution_count": 31
        },
        {
          "output_type": "display_data",
          "data": {
            "image/png": "[encoded data removed]",
            "text/plain": [
              "<Figure size 432x288 with 1 Axes>"
            ]
          },
          "metadata": {
            "needs_background": "light"
          }
        }
      ]
    },
    {
      "cell_type": "code",
      "metadata": {
        "id": "UP-MikW6RF9h",
        "colab": {
          "base_uri": "https://localhost:8080/"
        },
        "outputId": "6f88a79b-c76e-4a23-944c-fb5970ba3b44"
      },
      "source": [
        "len(inv_testPred)"
      ],
      "execution_count": 32,
      "outputs": [
        {
          "output_type": "execute_result",
          "data": {
            "text/plain": [
              "60"
            ]
          },
          "metadata": {},
          "execution_count": 32
        }
      ]
    },
    {
      "cell_type": "code",
      "metadata": {
        "id": "mdq_2QDSal-d",
        "colab": {
          "base_uri": "https://localhost:8080/",
          "height": 279
        },
        "outputId": "a4debbc4-b6a9-4ee4-afd4-052927ce368d"
      },
      "source": [
        "fig, ax = plt.subplots()\n",
        "ax.scatter(y_train,trainPred)\n",
        "ax.plot([y_train.min(), y_train.max()], [y_train.min(), y_train.max()], 'k--', lw=4)\n",
        "ax.set_xlabel('observed')\n",
        "ax.set_ylabel('predicted')\n",
        "plt.show()"
      ],
      "execution_count": 33,
      "outputs": [
        {
          "output_type": "display_data",
          "data": {
            "image/png": "[encoded data removed]",
            "text/plain": [
              "<Figure size 432x288 with 1 Axes>"
            ]
          },
          "metadata": {
            "needs_background": "light"
          }
        }
      ]
    },
    {
      "cell_type": "code",
      "metadata": {
        "id": "gixcJfYHgvyP",
        "colab": {
          "base_uri": "https://localhost:8080/",
          "height": 279
        },
        "outputId": "8f1484be-9818-46e6-fc47-fc520130b410"
      },
      "source": [
        "fig, ax = plt.subplots()\n",
        "ax.scatter(y_test,testPred) #[:,:,6]\n",
        "ax.plot([y_test.min(), y_test.max()], [y_test.min(), y_test.max()], 'k--', lw=4)\n",
        "ax.set_xlabel('observed')\n",
        "ax.set_ylabel('predicted')\n",
        "#plt.savefig('test_prediction.png',bbox_inches='tight',dpi=1200)\n",
        "plt.show()"
      ],
      "execution_count": 34,
      "outputs": [
        {
          "output_type": "display_data",
          "data": {
            "image/png": "[encoded data removed]",
            "text/plain": [
              "<Figure size 432x288 with 1 Axes>"
            ]
          },
          "metadata": {
            "needs_background": "light"
          }
        }
      ]
    },
    {
      "cell_type": "code",
      "metadata": {
        "id": "BSnL1kvcg78p",
        "colab": {
          "base_uri": "https://localhost:8080/",
          "height": 276
        },
        "outputId": "41c4593b-2fce-4457-8020-8a6772ef7b0e"
      },
      "source": [
        "from matplotlib import pyplot\n",
        "\n",
        "pyplot.plot(inv_testPred, label='predictions')\n",
        "pyplot.plot(inv_y_test, label='observation')\n",
        "pyplot.legend()\n",
        "pyplot.show()"
      ],
      "execution_count": 35,
      "outputs": [
        {
          "output_type": "display_data",
          "data": {
            "image/png": "[encoded data removed]",
            "text/plain": [
              "<Figure size 432x288 with 1 Axes>"
            ]
          },
          "metadata": {
            "needs_background": "light"
          }
        }
      ]
    },
    {
      "cell_type": "markdown",
      "metadata": {
        "id": "-6q16qTmaZ8N"
      },
      "source": [
        "## Plotting"
      ]
    },
    {
      "cell_type": "code",
      "metadata": {
        "id": "5P2TOQqU7Wry",
        "colab": {
          "base_uri": "https://localhost:8080/",
          "height": 480
        },
        "outputId": "c40f662a-ec22-4ba5-ec37-0c860a67d675"
      },
      "source": [
        "from matplotlib import pyplot\n",
        "\n",
        "pyplot.plot(history.history['loss'], label='train')\n",
        "pyplot.plot(history.history['val_loss'], label='test')\n",
        "pyplot.legend()\n",
        "pyplot.show()"
      ],
      "execution_count": 36,
      "outputs": [
        {
          "output_type": "error",
          "ename": "KeyError",
          "evalue": "ignored",
          "traceback": [
            "\u001b[0;31m---------------------------------------------------------------------------\u001b[0m",
            "\u001b[0;31mKeyError\u001b[0m                                  Traceback (most recent call last)",
            "\u001b[0;32m<ipython-input-36-499f21904caf>\u001b[0m in \u001b[0;36m<module>\u001b[0;34m()\u001b[0m\n\u001b[1;32m      2\u001b[0m \u001b[0;34m\u001b[0m\u001b[0m\n\u001b[1;32m      3\u001b[0m \u001b[0mpyplot\u001b[0m\u001b[0;34m.\u001b[0m\u001b[0mplot\u001b[0m\u001b[0;34m(\u001b[0m\u001b[0mhistory\u001b[0m\u001b[0;34m.\u001b[0m\u001b[0mhistory\u001b[0m\u001b[0;34m[\u001b[0m\u001b[0;34m'loss'\u001b[0m\u001b[0;34m]\u001b[0m\u001b[0;34m,\u001b[0m \u001b[0mlabel\u001b[0m\u001b[0;34m=\u001b[0m\u001b[0;34m'train'\u001b[0m\u001b[0;34m)\u001b[0m\u001b[0;34m\u001b[0m\u001b[0;34m\u001b[0m\u001b[0m\n\u001b[0;32m----> 4\u001b[0;31m \u001b[0mpyplot\u001b[0m\u001b[0;34m.\u001b[0m\u001b[0mplot\u001b[0m\u001b[0;34m(\u001b[0m\u001b[0mhistory\u001b[0m\u001b[0;34m.\u001b[0m\u001b[0mhistory\u001b[0m\u001b[0;34m[\u001b[0m\u001b[0;34m'val_loss'\u001b[0m\u001b[0;34m]\u001b[0m\u001b[0;34m,\u001b[0m \u001b[0mlabel\u001b[0m\u001b[0;34m=\u001b[0m\u001b[0;34m'test'\u001b[0m\u001b[0;34m)\u001b[0m\u001b[0;34m\u001b[0m\u001b[0;34m\u001b[0m\u001b[0m\n\u001b[0m\u001b[1;32m      5\u001b[0m \u001b[0mpyplot\u001b[0m\u001b[0;34m.\u001b[0m\u001b[0mlegend\u001b[0m\u001b[0;34m(\u001b[0m\u001b[0;34m)\u001b[0m\u001b[0;34m\u001b[0m\u001b[0;34m\u001b[0m\u001b[0m\n\u001b[1;32m      6\u001b[0m \u001b[0mpyplot\u001b[0m\u001b[0;34m.\u001b[0m\u001b[0mshow\u001b[0m\u001b[0;34m(\u001b[0m\u001b[0;34m)\u001b[0m\u001b[0;34m\u001b[0m\u001b[0;34m\u001b[0m\u001b[0m\n",
            "\u001b[0;31mKeyError\u001b[0m: 'val_loss'"
          ]
        },
        {
          "output_type": "display_data",
          "data": {
            "image/png": "[encoded data removed]",
            "text/plain": [
              "<Figure size 432x288 with 1 Axes>"
            ]
          },
          "metadata": {
            "needs_background": "light"
          }
        }
      ]
    }
  ]
}