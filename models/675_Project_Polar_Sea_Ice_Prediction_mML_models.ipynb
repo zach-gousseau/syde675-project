{
  "nbformat": 4,
  "nbformat_minor": 0,
  "metadata": {
    "colab": {
      "name": "675_Project_Polar_Sea_Ice_Prediction_mML_models.ipynb",
      "provenance": [],
      "collapsed_sections": [],
      "toc_visible": true,
      "include_colab_link": true
    },
    "kernelspec": {
      "name": "python3",
      "display_name": "Python 3"
    }
  },
  "cells": [
    {
      "cell_type": "markdown",
      "metadata": {
        "id": "view-in-github",
        "colab_type": "text"
      },
      "source": [
        "<a href=\"https://colab.research.google.com/github/zach-gousseau/syde675-project/blob/main/models/675_Project_Polar_Sea_Ice_Prediction_mML_models.ipynb\" target=\"_parent\"><img src=\"https://colab.research.google.com/assets/colab-badge.svg\" alt=\"Open In Colab\"/></a>"
      ]
    },
    {
      "cell_type": "code",
      "source": [
        "from google.colab import drive\n",
        "drive.mount('/content/drive')"
      ],
      "metadata": {
        "id": "ydtBBRKh_88X",
        "colab": {
          "base_uri": "https://localhost:8080/"
        },
        "outputId": "7f2de00c-f254-462b-92f1-43ab935eab17"
      },
      "execution_count": 2,
      "outputs": [
        {
          "output_type": "stream",
          "name": "stdout",
          "text": [
            "Mounted at /content/drive\n"
          ]
        }
      ]
    },
    {
      "cell_type": "markdown",
      "source": [
        "# Data Preprocessing\n"
      ],
      "metadata": {
        "id": "lpozlAMCG9gp"
      }
    },
    {
      "cell_type": "markdown",
      "metadata": {
        "id": "rSkGCT8lwmj6"
      },
      "source": [
        "## Polar Sea Ice Prediction"
      ]
    },
    {
      "cell_type": "code",
      "metadata": {
        "id": "g3fTrL1TI6u0"
      },
      "source": [
        ""
      ],
      "execution_count": 2,
      "outputs": []
    },
    {
      "cell_type": "code",
      "metadata": {
        "id": "Xj6J2OiifPrz",
        "colab": {
          "base_uri": "https://localhost:8080/"
        },
        "outputId": "f85861fe-e89f-4fbb-b169-a57bcbb00970"
      },
      "source": [
        "pip install attention"
      ],
      "execution_count": 3,
      "outputs": [
        {
          "output_type": "stream",
          "name": "stdout",
          "text": [
            "Collecting attention\n",
            "  Downloading attention-4.1-py3-none-any.whl (8.6 kB)\n",
            "Requirement already satisfied: tensorflow>=2.1 in /usr/local/lib/python3.7/dist-packages (from attention) (2.8.0)\n",
            "Requirement already satisfied: numpy>=1.18.1 in /usr/local/lib/python3.7/dist-packages (from attention) (1.21.5)\n",
            "Requirement already satisfied: keras-preprocessing>=1.1.1 in /usr/local/lib/python3.7/dist-packages (from tensorflow>=2.1->attention) (1.1.2)\n",
            "Requirement already satisfied: google-pasta>=0.1.1 in /usr/local/lib/python3.7/dist-packages (from tensorflow>=2.1->attention) (0.2.0)\n",
            "Requirement already satisfied: astunparse>=1.6.0 in /usr/local/lib/python3.7/dist-packages (from tensorflow>=2.1->attention) (1.6.3)\n",
            "Requirement already satisfied: h5py>=2.9.0 in /usr/local/lib/python3.7/dist-packages (from tensorflow>=2.1->attention) (3.1.0)\n",
            "Collecting tf-estimator-nightly==2.8.0.dev2021122109\n",
            "  Downloading tf_estimator_nightly-2.8.0.dev2021122109-py2.py3-none-any.whl (462 kB)\n",
            "\u001b[K     |████████████████████████████████| 462 kB 7.1 MB/s \n",
            "\u001b[?25hRequirement already satisfied: grpcio<2.0,>=1.24.3 in /usr/local/lib/python3.7/dist-packages (from tensorflow>=2.1->attention) (1.44.0)\n",
            "Requirement already satisfied: flatbuffers>=1.12 in /usr/local/lib/python3.7/dist-packages (from tensorflow>=2.1->attention) (2.0)\n",
            "Requirement already satisfied: termcolor>=1.1.0 in /usr/local/lib/python3.7/dist-packages (from tensorflow>=2.1->attention) (1.1.0)\n",
            "Requirement already satisfied: setuptools in /usr/local/lib/python3.7/dist-packages (from tensorflow>=2.1->attention) (57.4.0)\n",
            "Requirement already satisfied: wrapt>=1.11.0 in /usr/local/lib/python3.7/dist-packages (from tensorflow>=2.1->attention) (1.13.3)\n",
            "Requirement already satisfied: protobuf>=3.9.2 in /usr/local/lib/python3.7/dist-packages (from tensorflow>=2.1->attention) (3.17.3)\n",
            "Requirement already satisfied: typing-extensions>=3.6.6 in /usr/local/lib/python3.7/dist-packages (from tensorflow>=2.1->attention) (3.10.0.2)\n",
            "Requirement already satisfied: tensorflow-io-gcs-filesystem>=0.23.1 in /usr/local/lib/python3.7/dist-packages (from tensorflow>=2.1->attention) (0.24.0)\n",
            "Requirement already satisfied: tensorboard<2.9,>=2.8 in /usr/local/lib/python3.7/dist-packages (from tensorflow>=2.1->attention) (2.8.0)\n",
            "Requirement already satisfied: six>=1.12.0 in /usr/local/lib/python3.7/dist-packages (from tensorflow>=2.1->attention) (1.15.0)\n",
            "Requirement already satisfied: libclang>=9.0.1 in /usr/local/lib/python3.7/dist-packages (from tensorflow>=2.1->attention) (13.0.0)\n",
            "Requirement already satisfied: gast>=0.2.1 in /usr/local/lib/python3.7/dist-packages (from tensorflow>=2.1->attention) (0.5.3)\n",
            "Requirement already satisfied: opt-einsum>=2.3.2 in /usr/local/lib/python3.7/dist-packages (from tensorflow>=2.1->attention) (3.3.0)\n",
            "Requirement already satisfied: absl-py>=0.4.0 in /usr/local/lib/python3.7/dist-packages (from tensorflow>=2.1->attention) (1.0.0)\n",
            "Requirement already satisfied: keras<2.9,>=2.8.0rc0 in /usr/local/lib/python3.7/dist-packages (from tensorflow>=2.1->attention) (2.8.0)\n",
            "Requirement already satisfied: wheel<1.0,>=0.23.0 in /usr/local/lib/python3.7/dist-packages (from astunparse>=1.6.0->tensorflow>=2.1->attention) (0.37.1)\n",
            "Requirement already satisfied: cached-property in /usr/local/lib/python3.7/dist-packages (from h5py>=2.9.0->tensorflow>=2.1->attention) (1.5.2)\n",
            "Requirement already satisfied: tensorboard-data-server<0.7.0,>=0.6.0 in /usr/local/lib/python3.7/dist-packages (from tensorboard<2.9,>=2.8->tensorflow>=2.1->attention) (0.6.1)\n",
            "Requirement already satisfied: werkzeug>=0.11.15 in /usr/local/lib/python3.7/dist-packages (from tensorboard<2.9,>=2.8->tensorflow>=2.1->attention) (1.0.1)\n",
            "Requirement already satisfied: google-auth-oauthlib<0.5,>=0.4.1 in /usr/local/lib/python3.7/dist-packages (from tensorboard<2.9,>=2.8->tensorflow>=2.1->attention) (0.4.6)\n",
            "Requirement already satisfied: markdown>=2.6.8 in /usr/local/lib/python3.7/dist-packages (from tensorboard<2.9,>=2.8->tensorflow>=2.1->attention) (3.3.6)\n",
            "Requirement already satisfied: requests<3,>=2.21.0 in /usr/local/lib/python3.7/dist-packages (from tensorboard<2.9,>=2.8->tensorflow>=2.1->attention) (2.23.0)\n",
            "Requirement already satisfied: tensorboard-plugin-wit>=1.6.0 in /usr/local/lib/python3.7/dist-packages (from tensorboard<2.9,>=2.8->tensorflow>=2.1->attention) (1.8.1)\n",
            "Requirement already satisfied: google-auth<3,>=1.6.3 in /usr/local/lib/python3.7/dist-packages (from tensorboard<2.9,>=2.8->tensorflow>=2.1->attention) (1.35.0)\n",
            "Requirement already satisfied: rsa<5,>=3.1.4 in /usr/local/lib/python3.7/dist-packages (from google-auth<3,>=1.6.3->tensorboard<2.9,>=2.8->tensorflow>=2.1->attention) (4.8)\n",
            "Requirement already satisfied: pyasn1-modules>=0.2.1 in /usr/local/lib/python3.7/dist-packages (from google-auth<3,>=1.6.3->tensorboard<2.9,>=2.8->tensorflow>=2.1->attention) (0.2.8)\n",
            "Requirement already satisfied: cachetools<5.0,>=2.0.0 in /usr/local/lib/python3.7/dist-packages (from google-auth<3,>=1.6.3->tensorboard<2.9,>=2.8->tensorflow>=2.1->attention) (4.2.4)\n",
            "Requirement already satisfied: requests-oauthlib>=0.7.0 in /usr/local/lib/python3.7/dist-packages (from google-auth-oauthlib<0.5,>=0.4.1->tensorboard<2.9,>=2.8->tensorflow>=2.1->attention) (1.3.1)\n",
            "Requirement already satisfied: importlib-metadata>=4.4 in /usr/local/lib/python3.7/dist-packages (from markdown>=2.6.8->tensorboard<2.9,>=2.8->tensorflow>=2.1->attention) (4.11.2)\n",
            "Requirement already satisfied: zipp>=0.5 in /usr/local/lib/python3.7/dist-packages (from importlib-metadata>=4.4->markdown>=2.6.8->tensorboard<2.9,>=2.8->tensorflow>=2.1->attention) (3.7.0)\n",
            "Requirement already satisfied: pyasn1<0.5.0,>=0.4.6 in /usr/local/lib/python3.7/dist-packages (from pyasn1-modules>=0.2.1->google-auth<3,>=1.6.3->tensorboard<2.9,>=2.8->tensorflow>=2.1->attention) (0.4.8)\n",
            "Requirement already satisfied: idna<3,>=2.5 in /usr/local/lib/python3.7/dist-packages (from requests<3,>=2.21.0->tensorboard<2.9,>=2.8->tensorflow>=2.1->attention) (2.10)\n",
            "Requirement already satisfied: certifi>=2017.4.17 in /usr/local/lib/python3.7/dist-packages (from requests<3,>=2.21.0->tensorboard<2.9,>=2.8->tensorflow>=2.1->attention) (2021.10.8)\n",
            "Requirement already satisfied: urllib3!=1.25.0,!=1.25.1,<1.26,>=1.21.1 in /usr/local/lib/python3.7/dist-packages (from requests<3,>=2.21.0->tensorboard<2.9,>=2.8->tensorflow>=2.1->attention) (1.24.3)\n",
            "Requirement already satisfied: chardet<4,>=3.0.2 in /usr/local/lib/python3.7/dist-packages (from requests<3,>=2.21.0->tensorboard<2.9,>=2.8->tensorflow>=2.1->attention) (3.0.4)\n",
            "Requirement already satisfied: oauthlib>=3.0.0 in /usr/local/lib/python3.7/dist-packages (from requests-oauthlib>=0.7.0->google-auth-oauthlib<0.5,>=0.4.1->tensorboard<2.9,>=2.8->tensorflow>=2.1->attention) (3.2.0)\n",
            "Installing collected packages: tf-estimator-nightly, attention\n",
            "Successfully installed attention-4.1 tf-estimator-nightly-2.8.0.dev2021122109\n"
          ]
        }
      ]
    },
    {
      "cell_type": "markdown",
      "metadata": {
        "id": "jdRdTOsz9raL"
      },
      "source": [
        "## Initial Setup"
      ]
    },
    {
      "cell_type": "code",
      "metadata": {
        "id": "U0pzwDXw9p0l"
      },
      "source": [
        "import os\n",
        "import math\n",
        "import glob\n",
        "import numpy as np\n",
        "import pandas as pd\n",
        "import tensorflow as tf\n",
        "import matplotlib.pyplot as plt\n",
        "from keras.models import Sequential\n",
        "# import tensorflow.keras\n",
        "from tensorflow.keras.optimizers import Adam\n",
        "from attention import Attention\n",
        "from keras.layers import Dense, Dropout\n",
        "from keras.layers import LSTM,TimeDistributed\n",
        "from sklearn.preprocessing import MinMaxScaler, StandardScaler\n",
        "from sklearn.metrics import mean_squared_error\n",
        "from sklearn.model_selection import train_test_split\n",
        "from keras.callbacks import EarlyStopping, ModelCheckpoint\n",
        "from numpy.random import seed\n",
        "from sklearn.linear_model import LinearRegression\n",
        "from sklearn.tree import DecisionTreeRegressor\n",
        "\n",
        "import os\n",
        "import csv\n",
        "\n",
        "seed_number = 2\n",
        "seed(seed_number)"
      ],
      "execution_count": 87,
      "outputs": []
    },
    {
      "cell_type": "markdown",
      "metadata": {
        "id": "L8VX5KkQ_FX6"
      },
      "source": [
        "## Loading Combined Data 1979- 2018\n",
        "\n",
        "Features:\n",
        "'wind_10m', 'specific_humidity', 'LW_down', 'SW_down', 'rainfall', 'snowfall', 'sosaline', 'sst', 't2m', 'surface_pressure','sea_ice_extent'\n",
        "\n",
        "\n"
      ]
    },
    {
      "cell_type": "code",
      "source": [
        "path = '/content/drive/MyDrive/SYDE 675/Project/Data'\n",
        "data_path = path + '/monthly_features.npy'\n",
        "target_path = path + '/monthly_target.npy'"
      ],
      "metadata": {
        "id": "QhsYTaGY_6E0"
      },
      "execution_count": 88,
      "outputs": []
    },
    {
      "cell_type": "code",
      "metadata": {
        "id": "lMlcMP96tmrt"
      },
      "source": [
        "# data = np.load('/.../monthly_features.npy',allow_pickle=True)\n",
        "# target = np.load('/.../monthly_target.npy',allow_pickle=True)\n",
        "\n",
        "data = np.load(data_path, allow_pickle=True)\n",
        "target = np.load(target_path, allow_pickle=True)"
      ],
      "execution_count": 89,
      "outputs": []
    },
    {
      "cell_type": "markdown",
      "metadata": {
        "id": "pKwmIvYU_nxx"
      },
      "source": [
        "### Adding a Lag to Y values\n",
        "Here lag = 1 month\n"
      ]
    },
    {
      "cell_type": "code",
      "metadata": {
        "id": "uES68xGKwgSy",
        "colab": {
          "base_uri": "https://localhost:8080/"
        },
        "outputId": "b4b5c9b2-878e-4e2d-915f-c2d9a314310b"
      },
      "source": [
        "#Adding a lag to monthly targets\n",
        "lag = 1\n",
        "data = data[:-lag,:,:]\n",
        "target = target[lag:]\n",
        "\n",
        "print(data.shape)\n",
        "print(target.shape)\n"
      ],
      "execution_count": 90,
      "outputs": [
        {
          "output_type": "stream",
          "name": "stdout",
          "text": [
            "(479, 1, 11)\n",
            "(479,)\n"
          ]
        }
      ]
    },
    {
      "cell_type": "markdown",
      "metadata": {
        "id": "lWyDrrpAQ74Q"
      },
      "source": [
        "## Train Validation Split"
      ]
    },
    {
      "cell_type": "markdown",
      "metadata": {
        "id": "rnbZ9jp0zv4e"
      },
      "source": [
        "LSTM network expects the input data to be provided with a specific array structure in the form of: [samples, time steps, features]. We load the csv file and only retain the feature and target columns. The features and target are stored in separate np arrays."
      ]
    },
    {
      "cell_type": "code",
      "metadata": {
        "id": "BUVLJ8d7yWlc",
        "colab": {
          "base_uri": "https://localhost:8080/"
        },
        "outputId": "51b560ef-c03a-4488-e887-397c0eb827c0"
      },
      "source": [
        "# Sequential split train:val data in 80:20 sequentially \n",
        "\n",
        "LEN_DATA = len(data) #total number of pixels\n",
        "\n",
        "NUM_TRAIN = LEN_DATA - (60) #reserve last 30 months for testing\n",
        "NUM_TEST = LEN_DATA - NUM_TRAIN\n",
        "\n",
        "print('LEN_DATA:',LEN_DATA)\n",
        "print('NUM_TRAIN:',NUM_TRAIN)\n",
        "print('NUM_TEST:',NUM_TEST)\n",
        "\n",
        "x_train = data[0:NUM_TRAIN]\n",
        "x_test = data[NUM_TRAIN:]\n",
        "\n",
        "#split features and labels\n",
        "y_train = target[:NUM_TRAIN] #target is last column i-e sea-ice\n",
        "y_test = target[NUM_TRAIN:] #target is last column i-e sea-ice\n"
      ],
      "execution_count": 91,
      "outputs": [
        {
          "output_type": "stream",
          "name": "stdout",
          "text": [
            "LEN_DATA: 479\n",
            "NUM_TRAIN: 419\n",
            "NUM_TEST: 60\n"
          ]
        }
      ]
    },
    {
      "cell_type": "code",
      "metadata": {
        "colab": {
          "base_uri": "https://localhost:8080/"
        },
        "id": "fPxr5VW3ynVk",
        "outputId": "ec8ca8fe-df76-47ae-b114-474542e7d5f5"
      },
      "source": [
        "print('x_train.shape:',x_train.shape)\n",
        "print('y_train.shape:',y_train.shape)\n",
        "print('x_test.shape:',x_test.shape)\n",
        "print('y_test.shape:',y_test.shape)"
      ],
      "execution_count": 92,
      "outputs": [
        {
          "output_type": "stream",
          "name": "stdout",
          "text": [
            "x_train.shape: (419, 1, 11)\n",
            "y_train.shape: (419,)\n",
            "x_test.shape: (60, 1, 11)\n",
            "y_test.shape: (60,)\n"
          ]
        }
      ]
    },
    {
      "cell_type": "markdown",
      "metadata": {
        "id": "8V9PlIs8OUUM"
      },
      "source": [
        "## Reshaping Input and Target Features"
      ]
    },
    {
      "cell_type": "code",
      "metadata": {
        "id": "v8qmWF4VHxrR"
      },
      "source": [
        "# # convert an array of values into a dataset matrix\n",
        "# def reshape_features(dataset, timesteps=1):\n",
        "#     print(dataset.shape)\n",
        "#     X = dataset.reshape((int(dataset.shape[0]/timesteps)), dataset.shape[2])\n",
        "#     return X"
      ],
      "execution_count": 93,
      "outputs": []
    },
    {
      "cell_type": "markdown",
      "metadata": {
        "id": "-TOp3WLtJ6xJ"
      },
      "source": [
        "## Normalization\n"
      ]
    },
    {
      "cell_type": "code",
      "metadata": {
        "id": "X9nc-dTGJ8qr"
      },
      "source": [
        "# normalize the features\n",
        "\n",
        "scaler_f = StandardScaler()\n",
        "x_train = scaler_f.fit_transform(x_train.reshape(-1,11)) #reshaping to 2d for standard scaling\n",
        "x_test = scaler_f.transform(x_test.reshape(-1,11)) #reshaping to 2d for standard scaling\n",
        "\n",
        "scaler_l = StandardScaler()\n",
        "y_train = scaler_l.fit_transform(y_train.reshape(-1,1)) #reshaping to 2d for standard scaling\n",
        "y_test = scaler_l.transform(y_test.reshape(-1,1)) #reshaping to 2d for standard scaling\n"
      ],
      "execution_count": 94,
      "outputs": []
    },
    {
      "cell_type": "code",
      "metadata": {
        "id": "iwL_XadANsWH"
      },
      "source": [
        "# #Reshaping data to 3D for modeling\n",
        "# timesteps = 1\n",
        "# x_train = reshape_features(x_train, timesteps) # reshaping to 3d for model\n",
        "# x_test = reshape_features(x_test, timesteps) # reshaping to 3d for model\n"
      ],
      "execution_count": 95,
      "outputs": []
    },
    {
      "cell_type": "code",
      "metadata": {
        "colab": {
          "base_uri": "https://localhost:8080/"
        },
        "id": "lDxL_gE5Onx9",
        "outputId": "8b26d493-06de-4b82-8cf0-762438302a75"
      },
      "source": [
        "print('x_train.shape:',x_train.shape)\n",
        "print('y_train.shape:',y_train.shape)\n",
        "print('x_test.shape:',x_test.shape)\n",
        "print('y_test.shape:',y_test.shape)"
      ],
      "execution_count": 96,
      "outputs": [
        {
          "output_type": "stream",
          "name": "stdout",
          "text": [
            "x_train.shape: (419, 11)\n",
            "y_train.shape: (419, 1)\n",
            "x_test.shape: (60, 11)\n",
            "y_test.shape: (60, 1)\n"
          ]
        }
      ]
    },
    {
      "cell_type": "code",
      "metadata": {
        "colab": {
          "base_uri": "https://localhost:8080/"
        },
        "id": "PvRxn-_n-Lji",
        "outputId": "12cbecd4-4514-48ab-92d8-25d9245260b7"
      },
      "source": [
        "extent = target\n",
        "print(extent.shape)"
      ],
      "execution_count": 97,
      "outputs": [
        {
          "output_type": "stream",
          "name": "stdout",
          "text": [
            "(479,)\n"
          ]
        }
      ]
    },
    {
      "cell_type": "markdown",
      "source": [
        "# Linear Regression"
      ],
      "metadata": {
        "id": "3kF3KNyiH2iJ"
      }
    },
    {
      "cell_type": "code",
      "source": [
        "model = LinearRegression()\n",
        "model.fit(x_train, y_train)"
      ],
      "metadata": {
        "colab": {
          "base_uri": "https://localhost:8080/"
        },
        "id": "-NC0OqeGDk7H",
        "outputId": "881e0b7c-f446-4b4c-8804-553ee2ae62ad"
      },
      "execution_count": 98,
      "outputs": [
        {
          "output_type": "execute_result",
          "data": {
            "text/plain": [
              "LinearRegression()"
            ]
          },
          "metadata": {},
          "execution_count": 98
        }
      ]
    },
    {
      "cell_type": "markdown",
      "metadata": {
        "id": "LvmYA01IaEdB"
      },
      "source": [
        "## Model Predictions"
      ]
    },
    {
      "cell_type": "code",
      "metadata": {
        "id": "CaHjsvNLaD5I"
      },
      "source": [
        "trainPred = model.predict(x_train)\n",
        "testPred = model.predict(x_test)"
      ],
      "execution_count": 99,
      "outputs": []
    },
    {
      "cell_type": "code",
      "metadata": {
        "id": "2rbm4HV3PYRs",
        "colab": {
          "base_uri": "https://localhost:8080/"
        },
        "outputId": "7d9cefb4-9c2c-4401-bcd0-9d645db704cd"
      },
      "source": [
        "print(testPred.shape)\n",
        "print(trainPred.shape)"
      ],
      "execution_count": 100,
      "outputs": [
        {
          "output_type": "stream",
          "name": "stdout",
          "text": [
            "(60, 1)\n",
            "(419, 1)\n"
          ]
        }
      ]
    },
    {
      "cell_type": "code",
      "metadata": {
        "id": "eAQQknmh8PQA"
      },
      "source": [
        "# #Reverting data back to 2D from 3D\n",
        "# x_test_t = x_test.reshape((x_test.shape[0], x_test.shape[2]))\n",
        "# print(x_test_t.shape)\n",
        "# print(testPred.shape)"
      ],
      "execution_count": 101,
      "outputs": []
    },
    {
      "cell_type": "code",
      "metadata": {
        "id": "nBgDrWcGPnZj",
        "colab": {
          "base_uri": "https://localhost:8080/"
        },
        "outputId": "4a174079-625f-43f2-a6af-44c812529efe"
      },
      "source": [
        "# invert scaling for forecasted values \n",
        "\n",
        "inv_testPred = scaler_l.inverse_transform(testPred)\n",
        "print(inv_testPred[1])\n",
        "\n",
        "# invert scaling for actual values\n",
        "\n",
        "inv_y_test = scaler_l.inverse_transform(y_test)\n",
        "print(inv_y_test[1])\n"
      ],
      "execution_count": 102,
      "outputs": [
        {
          "output_type": "stream",
          "name": "stdout",
          "text": [
            "[14913891.82438048]\n",
            "[14545530.]\n"
          ]
        }
      ]
    },
    {
      "cell_type": "code",
      "metadata": {
        "colab": {
          "base_uri": "https://localhost:8080/"
        },
        "id": "oNZOX9p8Btxw",
        "outputId": "d4d73c43-184d-4eba-f059-7e5a339955e9"
      },
      "source": [
        "# calculate RMSE\n",
        "from sklearn.metrics import mean_squared_error\n",
        "from math import sqrt\n",
        "\n",
        "rmse = sqrt(mean_squared_error(inv_y_test, inv_testPred))\n",
        "print('Test RMSE: %.3f' % rmse)"
      ],
      "execution_count": 103,
      "outputs": [
        {
          "output_type": "stream",
          "name": "stdout",
          "text": [
            "Test RMSE: 519659.688\n"
          ]
        }
      ]
    },
    {
      "cell_type": "code",
      "metadata": {
        "colab": {
          "base_uri": "https://localhost:8080/"
        },
        "id": "23_bcO2qIpdn",
        "outputId": "26ccadad-36c0-463b-fe00-f868e1fee296"
      },
      "source": [
        "# calculate Normalized RMSE\n",
        "y_max = inv_y_test.max()\n",
        "y_min = inv_y_test.min()\n",
        "nrmse = rmse /(inv_y_test.mean()) \n",
        "print('Test NRMSE:', nrmse)"
      ],
      "execution_count": 104,
      "outputs": [
        {
          "output_type": "stream",
          "name": "stdout",
          "text": [
            "Test NRMSE: 0.04853880787557791\n"
          ]
        }
      ]
    },
    {
      "cell_type": "code",
      "source": [
        "inv_y_test.mean()"
      ],
      "metadata": {
        "colab": {
          "base_uri": "https://localhost:8080/"
        },
        "id": "xYCNqZfTNPqb",
        "outputId": "92fb1638-e9fc-4e9c-8eb0-c5f6d786f81a"
      },
      "execution_count": 105,
      "outputs": [
        {
          "output_type": "execute_result",
          "data": {
            "text/plain": [
              "10706066.15"
            ]
          },
          "metadata": {},
          "execution_count": 105
        }
      ]
    },
    {
      "cell_type": "code",
      "metadata": {
        "colab": {
          "base_uri": "https://localhost:8080/"
        },
        "id": "DK5wa1PUzvQv",
        "outputId": "05228026-442d-4385-ac80-c0d7919e5556"
      },
      "source": [
        "# calculate R-square\n",
        "from sklearn.metrics import r2_score\n",
        "from math import sqrt\n",
        "\n",
        "r_sq = r2_score(inv_y_test, inv_testPred)\n",
        "print('Test R_Square: %.4f' % r_sq)"
      ],
      "execution_count": 106,
      "outputs": [
        {
          "output_type": "stream",
          "name": "stdout",
          "text": [
            "Test R_Square: 0.9749\n"
          ]
        }
      ]
    },
    {
      "cell_type": "markdown",
      "source": [
        "## Write scores in csv files"
      ],
      "metadata": {
        "id": "KxMR2bLiPL3p"
      }
    },
    {
      "cell_type": "code",
      "source": [
        "\n",
        "\n",
        "for i in range(2):\n",
        "  \n",
        "  model = LinearRegression()\n",
        "  model.fit(x_train, y_train)\n",
        "\n",
        "  trainPred = model.predict(x_train)\n",
        "  testPred = model.predict(x_test)  \n",
        "\n",
        "  # invert scaling for forecasted values \n",
        "  inv_testPred = scaler_l.inverse_transform(testPred)\n",
        "\n",
        "\n",
        "  # invert scaling for actual values\n",
        "  inv_y_test = scaler_l.inverse_transform(y_test)\n",
        "\n",
        "  # Calculate RMSE\n",
        "  rmse = sqrt(mean_squared_error(inv_y_test, inv_testPred))\n",
        "\n",
        "  # calculate Normalized RMSE\n",
        "  y_max = inv_y_test.max()\n",
        "  y_min = inv_y_test.min()\n",
        "  nrmse = rmse /(inv_y_test.mean()) \n",
        "\n",
        "  # calculate R-square\n",
        "  r_sq = r2_score(inv_y_test, inv_testPred)\n",
        "\n",
        "\n",
        "  file_path = '/content/drive/MyDrive/SYDE 675/Project/Models/m-ML_models/linear_reg_scores.csv'\n",
        "\n",
        "  header = ['seed', 'Test RMSE', 'Test normalized RMSE', 'R_Square']\n",
        "\n",
        "  if os.path.exists(file_path):\n",
        "    # If file exists, append row\n",
        "    with open(file_path, 'a', encoding='UTF8') as f:\n",
        "      writer = csv.writer(f)\n",
        "\n",
        "      # write the data\n",
        "      writer.writerow([seed_number, rmse, nrmse, r_sq])\n",
        "\n",
        "  else:\n",
        "    # If file does not exist, write new file\n",
        "    with open(file_path, 'w', encoding='UTF8') as f:\n",
        "      writer = csv.writer(f)\n",
        "\n",
        "      # write the header\n",
        "      writer.writerow(header)\n",
        "\n",
        "      # write the data\n",
        "      writer.writerow([seed_number, rmse, nrmse, r_sq])"
      ],
      "metadata": {
        "id": "ZJ3MO-IEPN5T"
      },
      "execution_count": 107,
      "outputs": []
    },
    {
      "cell_type": "code",
      "source": [
        "results = pd.read_csv(file_path)\n",
        "results.describe()"
      ],
      "metadata": {
        "colab": {
          "base_uri": "https://localhost:8080/",
          "height": 297
        },
        "id": "tkegsZMkaC2h",
        "outputId": "80624e4c-d818-40e3-a538-15bb6f6ef0e2"
      },
      "execution_count": 108,
      "outputs": [
        {
          "output_type": "execute_result",
          "data": {
            "text/plain": [
              "          seed      Test RMSE  Test normalized RMSE  R_Square\n",
              "count  4.00000       4.000000              4.000000  4.000000\n",
              "mean   1.50000  519659.687958              0.048539  0.974918\n",
              "std    0.57735       0.000000              0.000000  0.000000\n",
              "min    1.00000  519659.687958              0.048539  0.974918\n",
              "25%    1.00000  519659.687958              0.048539  0.974918\n",
              "50%    1.50000  519659.687958              0.048539  0.974918\n",
              "75%    2.00000  519659.687958              0.048539  0.974918\n",
              "max    2.00000  519659.687958              0.048539  0.974918"
            ],
            "text/html": [
              "\n",
              "  <div id=\"df-844af8ed-4e13-4ab7-8a85-54d600b25f90\">\n",
              "    <div class=\"colab-df-container\">\n",
              "      <div>\n",
              "<style scoped>\n",
              "    .dataframe tbody tr th:only-of-type {\n",
              "        vertical-align: middle;\n",
              "    }\n",
              "\n",
              "    .dataframe tbody tr th {\n",
              "        vertical-align: top;\n",
              "    }\n",
              "\n",
              "    .dataframe thead th {\n",
              "        text-align: right;\n",
              "    }\n",
              "</style>\n",
              "<table border=\"1\" class=\"dataframe\">\n",
              "  <thead>\n",
              "    <tr style=\"text-align: right;\">\n",
              "      <th></th>\n",
              "      <th>seed</th>\n",
              "      <th>Test RMSE</th>\n",
              "      <th>Test normalized RMSE</th>\n",
              "      <th>R_Square</th>\n",
              "    </tr>\n",
              "  </thead>\n",
              "  <tbody>\n",
              "    <tr>\n",
              "      <th>count</th>\n",
              "      <td>4.00000</td>\n",
              "      <td>4.000000</td>\n",
              "      <td>4.000000</td>\n",
              "      <td>4.000000</td>\n",
              "    </tr>\n",
              "    <tr>\n",
              "      <th>mean</th>\n",
              "      <td>1.50000</td>\n",
              "      <td>519659.687958</td>\n",
              "      <td>0.048539</td>\n",
              "      <td>0.974918</td>\n",
              "    </tr>\n",
              "    <tr>\n",
              "      <th>std</th>\n",
              "      <td>0.57735</td>\n",
              "      <td>0.000000</td>\n",
              "      <td>0.000000</td>\n",
              "      <td>0.000000</td>\n",
              "    </tr>\n",
              "    <tr>\n",
              "      <th>min</th>\n",
              "      <td>1.00000</td>\n",
              "      <td>519659.687958</td>\n",
              "      <td>0.048539</td>\n",
              "      <td>0.974918</td>\n",
              "    </tr>\n",
              "    <tr>\n",
              "      <th>25%</th>\n",
              "      <td>1.00000</td>\n",
              "      <td>519659.687958</td>\n",
              "      <td>0.048539</td>\n",
              "      <td>0.974918</td>\n",
              "    </tr>\n",
              "    <tr>\n",
              "      <th>50%</th>\n",
              "      <td>1.50000</td>\n",
              "      <td>519659.687958</td>\n",
              "      <td>0.048539</td>\n",
              "      <td>0.974918</td>\n",
              "    </tr>\n",
              "    <tr>\n",
              "      <th>75%</th>\n",
              "      <td>2.00000</td>\n",
              "      <td>519659.687958</td>\n",
              "      <td>0.048539</td>\n",
              "      <td>0.974918</td>\n",
              "    </tr>\n",
              "    <tr>\n",
              "      <th>max</th>\n",
              "      <td>2.00000</td>\n",
              "      <td>519659.687958</td>\n",
              "      <td>0.048539</td>\n",
              "      <td>0.974918</td>\n",
              "    </tr>\n",
              "  </tbody>\n",
              "</table>\n",
              "</div>\n",
              "      <button class=\"colab-df-convert\" onclick=\"convertToInteractive('df-844af8ed-4e13-4ab7-8a85-54d600b25f90')\"\n",
              "              title=\"Convert this dataframe to an interactive table.\"\n",
              "              style=\"display:none;\">\n",
              "        \n",
              "  <svg xmlns=\"http://www.w3.org/2000/svg\" height=\"24px\"viewBox=\"0 0 24 24\"\n",
              "       width=\"24px\">\n",
              "    <path d=\"M0 0h24v24H0V0z\" fill=\"none\"/>\n",
              "    <path d=\"M18.56 5.44l.94 2.06.94-2.06 2.06-.94-2.06-.94-.94-2.06-.94 2.06-2.06.94zm-11 1L8.5 8.5l.94-2.06 2.06-.94-2.06-.94L8.5 2.5l-.94 2.06-2.06.94zm10 10l.94 2.06.94-2.06 2.06-.94-2.06-.94-.94-2.06-.94 2.06-2.06.94z\"/><path d=\"M17.41 7.96l-1.37-1.37c-.4-.4-.92-.59-1.43-.59-.52 0-1.04.2-1.43.59L10.3 9.45l-7.72 7.72c-.78.78-.78 2.05 0 2.83L4 21.41c.39.39.9.59 1.41.59.51 0 1.02-.2 1.41-.59l7.78-7.78 2.81-2.81c.8-.78.8-2.07 0-2.86zM5.41 20L4 18.59l7.72-7.72 1.47 1.35L5.41 20z\"/>\n",
              "  </svg>\n",
              "      </button>\n",
              "      \n",
              "  <style>\n",
              "    .colab-df-container {\n",
              "      display:flex;\n",
              "      flex-wrap:wrap;\n",
              "      gap: 12px;\n",
              "    }\n",
              "\n",
              "    .colab-df-convert {\n",
              "      background-color: #E8F0FE;\n",
              "      border: none;\n",
              "      border-radius: 50%;\n",
              "      cursor: pointer;\n",
              "      display: none;\n",
              "      fill: #1967D2;\n",
              "      height: 32px;\n",
              "      padding: 0 0 0 0;\n",
              "      width: 32px;\n",
              "    }\n",
              "\n",
              "    .colab-df-convert:hover {\n",
              "      background-color: #E2EBFA;\n",
              "      box-shadow: 0px 1px 2px rgba(60, 64, 67, 0.3), 0px 1px 3px 1px rgba(60, 64, 67, 0.15);\n",
              "      fill: #174EA6;\n",
              "    }\n",
              "\n",
              "    [theme=dark] .colab-df-convert {\n",
              "      background-color: #3B4455;\n",
              "      fill: #D2E3FC;\n",
              "    }\n",
              "\n",
              "    [theme=dark] .colab-df-convert:hover {\n",
              "      background-color: #434B5C;\n",
              "      box-shadow: 0px 1px 3px 1px rgba(0, 0, 0, 0.15);\n",
              "      filter: drop-shadow(0px 1px 2px rgba(0, 0, 0, 0.3));\n",
              "      fill: #FFFFFF;\n",
              "    }\n",
              "  </style>\n",
              "\n",
              "      <script>\n",
              "        const buttonEl =\n",
              "          document.querySelector('#df-844af8ed-4e13-4ab7-8a85-54d600b25f90 button.colab-df-convert');\n",
              "        buttonEl.style.display =\n",
              "          google.colab.kernel.accessAllowed ? 'block' : 'none';\n",
              "\n",
              "        async function convertToInteractive(key) {\n",
              "          const element = document.querySelector('#df-844af8ed-4e13-4ab7-8a85-54d600b25f90');\n",
              "          const dataTable =\n",
              "            await google.colab.kernel.invokeFunction('convertToInteractive',\n",
              "                                                     [key], {});\n",
              "          if (!dataTable) return;\n",
              "\n",
              "          const docLinkHtml = 'Like what you see? Visit the ' +\n",
              "            '<a target=\"_blank\" href=https://colab.research.google.com/notebooks/data_table.ipynb>data table notebook</a>'\n",
              "            + ' to learn more about interactive tables.';\n",
              "          element.innerHTML = '';\n",
              "          dataTable['output_type'] = 'display_data';\n",
              "          await google.colab.output.renderOutput(dataTable, element);\n",
              "          const docLink = document.createElement('div');\n",
              "          docLink.innerHTML = docLinkHtml;\n",
              "          element.appendChild(docLink);\n",
              "        }\n",
              "      </script>\n",
              "    </div>\n",
              "  </div>\n",
              "  "
            ]
          },
          "metadata": {},
          "execution_count": 108
        }
      ]
    },
    {
      "cell_type": "markdown",
      "source": [
        "# Decision Trees"
      ],
      "metadata": {
        "id": "SnK3pQthGEvC"
      }
    },
    {
      "cell_type": "code",
      "source": [
        "model = DecisionTreeRegressor()\n",
        "model.fit(x_train, y_train)"
      ],
      "metadata": {
        "colab": {
          "base_uri": "https://localhost:8080/"
        },
        "outputId": "ec1ff110-fdf2-48e6-daa5-a03287bc647d",
        "id": "t8vHHWF_GHu7"
      },
      "execution_count": 109,
      "outputs": [
        {
          "output_type": "execute_result",
          "data": {
            "text/plain": [
              "DecisionTreeRegressor()"
            ]
          },
          "metadata": {},
          "execution_count": 109
        }
      ]
    },
    {
      "cell_type": "markdown",
      "metadata": {
        "id": "4o9-KTUoGHu8"
      },
      "source": [
        "## Model Predictions"
      ]
    },
    {
      "cell_type": "code",
      "metadata": {
        "id": "WmdSKcm2GHu9"
      },
      "source": [
        "trainPred = model.predict(x_train)\n",
        "testPred = model.predict(x_test)"
      ],
      "execution_count": 110,
      "outputs": []
    },
    {
      "cell_type": "code",
      "metadata": {
        "colab": {
          "base_uri": "https://localhost:8080/"
        },
        "outputId": "c2fba7ef-4f2b-4dba-eda1-e1399201cbbb",
        "id": "Pa1iLq_bGHu9"
      },
      "source": [
        "print(testPred.shape)\n",
        "print(trainPred.shape)"
      ],
      "execution_count": 111,
      "outputs": [
        {
          "output_type": "stream",
          "name": "stdout",
          "text": [
            "(60,)\n",
            "(419,)\n"
          ]
        }
      ]
    },
    {
      "cell_type": "code",
      "source": [
        "trainPred = trainPred.reshape(-1, 1)\n",
        "testPred = testPred.reshape(-1, 1)"
      ],
      "metadata": {
        "id": "WuWpu7dXHsHC"
      },
      "execution_count": 112,
      "outputs": []
    },
    {
      "cell_type": "code",
      "metadata": {
        "colab": {
          "base_uri": "https://localhost:8080/"
        },
        "outputId": "26a77632-eda5-4963-f136-221cfac36ab3",
        "id": "cD0jrwhzGHu-"
      },
      "source": [
        "# invert scaling for forecasted values \n",
        "\n",
        "inv_testPred = scaler_l.inverse_transform(testPred)\n",
        "print(inv_testPred[1])\n",
        "\n",
        "# invert scaling for actual values\n",
        "\n",
        "inv_y_test = scaler_l.inverse_transform(y_test)\n",
        "print(inv_y_test[1])\n"
      ],
      "execution_count": 113,
      "outputs": [
        {
          "output_type": "stream",
          "name": "stdout",
          "text": [
            "[15068129.]\n",
            "[14545530.]\n"
          ]
        }
      ]
    },
    {
      "cell_type": "code",
      "metadata": {
        "colab": {
          "base_uri": "https://localhost:8080/"
        },
        "outputId": "918fd239-886e-4434-80fa-d3bd9c2e0269",
        "id": "nbdWXcCiGHu_"
      },
      "source": [
        "# calculate RMSE\n",
        "from sklearn.metrics import mean_squared_error\n",
        "from math import sqrt\n",
        "\n",
        "rmse = sqrt(mean_squared_error(inv_y_test, inv_testPred))\n",
        "print('Test RMSE: %.3f' % rmse)"
      ],
      "execution_count": 114,
      "outputs": [
        {
          "output_type": "stream",
          "name": "stdout",
          "text": [
            "Test RMSE: 561535.789\n"
          ]
        }
      ]
    },
    {
      "cell_type": "code",
      "metadata": {
        "colab": {
          "base_uri": "https://localhost:8080/"
        },
        "outputId": "c9a9bcfe-e1d9-40b7-930c-8cab7c6b8661",
        "id": "R7ZYxl_yGHu_"
      },
      "source": [
        "# calculate Normalized RMSE\n",
        "y_max = inv_y_test.max()\n",
        "y_min = inv_y_test.min()\n",
        "nrmse = rmse /(inv_y_test.mean()) \n",
        "print('Test NRMSE:', nrmse)"
      ],
      "execution_count": 115,
      "outputs": [
        {
          "output_type": "stream",
          "name": "stdout",
          "text": [
            "Test NRMSE: 0.05245024463376686\n"
          ]
        }
      ]
    },
    {
      "cell_type": "code",
      "source": [
        "inv_y_test.mean()"
      ],
      "metadata": {
        "colab": {
          "base_uri": "https://localhost:8080/"
        },
        "outputId": "9b10c556-4308-4ff9-a36e-c19471283267",
        "id": "wOHcU9h5GHvA"
      },
      "execution_count": 116,
      "outputs": [
        {
          "output_type": "execute_result",
          "data": {
            "text/plain": [
              "10706066.15"
            ]
          },
          "metadata": {},
          "execution_count": 116
        }
      ]
    },
    {
      "cell_type": "code",
      "metadata": {
        "colab": {
          "base_uri": "https://localhost:8080/"
        },
        "outputId": "7a364077-6c75-483c-9647-3b5085749d71",
        "id": "0RTtS1FqGHvA"
      },
      "source": [
        "# calculate R-square\n",
        "from sklearn.metrics import r2_score\n",
        "from math import sqrt\n",
        "\n",
        "r_sq = r2_score(inv_y_test, inv_testPred)\n",
        "print('Test R_Square: %.4f' % r_sq)"
      ],
      "execution_count": 117,
      "outputs": [
        {
          "output_type": "stream",
          "name": "stdout",
          "text": [
            "Test R_Square: 0.9707\n"
          ]
        }
      ]
    },
    {
      "cell_type": "markdown",
      "source": [
        "## Write scores in csv files"
      ],
      "metadata": {
        "id": "_CujRKuBGHvA"
      }
    },
    {
      "cell_type": "code",
      "source": [
        "\n",
        "\n",
        "for i in range(10):\n",
        "  \n",
        "  model = DecisionTreeRegressor()\n",
        "  model.fit(x_train, y_train)\n",
        "\n",
        "  trainPred = model.predict(x_train)\n",
        "  testPred = model.predict(x_test)  \n",
        "\n",
        "  trainPred = trainPred.reshape(-1, 1)\n",
        "  testPred = testPred.reshape(-1, 1)\n",
        "\n",
        "  # invert scaling for forecasted values \n",
        "  inv_testPred = scaler_l.inverse_transform(testPred)\n",
        "\n",
        "  # invert scaling for actual values\n",
        "  inv_y_test = scaler_l.inverse_transform(y_test)\n",
        "\n",
        "  # Calculate RMSE\n",
        "  rmse = sqrt(mean_squared_error(inv_y_test, inv_testPred))\n",
        "\n",
        "  # calculate Normalized RMSE\n",
        "  y_max = inv_y_test.max()\n",
        "  y_min = inv_y_test.min()\n",
        "  nrmse = rmse /(inv_y_test.mean()) \n",
        "\n",
        "  # calculate R-square\n",
        "  r_sq = r2_score(inv_y_test, inv_testPred)\n",
        "\n",
        "\n",
        "  file_path = '/content/drive/MyDrive/SYDE 675/Project/Models/m-ML_models/dt_scores.csv'\n",
        "\n",
        "  header = ['seed', 'Test RMSE', 'Test normalized RMSE', 'R_Square']\n",
        "\n",
        "  if os.path.exists(file_path):\n",
        "    # If file exists, append row\n",
        "    with open(file_path, 'a', encoding='UTF8') as f:\n",
        "      writer = csv.writer(f)\n",
        "\n",
        "      # write the data\n",
        "      writer.writerow([seed_number, rmse, nrmse, r_sq])\n",
        "\n",
        "  else:\n",
        "    # If file does not exist, write new file\n",
        "    with open(file_path, 'w', encoding='UTF8') as f:\n",
        "      writer = csv.writer(f)\n",
        "\n",
        "      # write the header\n",
        "      writer.writerow(header)\n",
        "\n",
        "      # write the data\n",
        "      writer.writerow([seed_number, rmse, nrmse, r_sq])"
      ],
      "metadata": {
        "id": "6X5RLt1uGHvB"
      },
      "execution_count": 118,
      "outputs": []
    },
    {
      "cell_type": "code",
      "source": [
        "results = pd.read_csv(file_path)\n",
        "results.describe()"
      ],
      "metadata": {
        "colab": {
          "base_uri": "https://localhost:8080/",
          "height": 297
        },
        "outputId": "6b652591-6870-4423-a801-e3df1ca23b1d",
        "id": "denfjpIcGHvB"
      },
      "execution_count": 119,
      "outputs": [
        {
          "output_type": "execute_result",
          "data": {
            "text/plain": [
              "            seed      Test RMSE  Test normalized RMSE   R_Square\n",
              "count  20.000000      20.000000             20.000000  20.000000\n",
              "mean    1.500000  596290.126923              0.055696   0.966827\n",
              "std     0.512989   40941.042154              0.003824   0.004414\n",
              "min     1.000000  507012.168464              0.047357   0.960586\n",
              "25%     1.000000  572302.255097              0.053456   0.963795\n",
              "50%     1.500000  614522.941218              0.057400   0.964924\n",
              "75%     2.000000  624332.858259              0.058316   0.969570\n",
              "max     2.000000  651418.380581              0.060846   0.976124"
            ],
            "text/html": [
              "\n",
              "  <div id=\"df-b541c638-aaf2-401e-8782-c4561cce83ae\">\n",
              "    <div class=\"colab-df-container\">\n",
              "      <div>\n",
              "<style scoped>\n",
              "    .dataframe tbody tr th:only-of-type {\n",
              "        vertical-align: middle;\n",
              "    }\n",
              "\n",
              "    .dataframe tbody tr th {\n",
              "        vertical-align: top;\n",
              "    }\n",
              "\n",
              "    .dataframe thead th {\n",
              "        text-align: right;\n",
              "    }\n",
              "</style>\n",
              "<table border=\"1\" class=\"dataframe\">\n",
              "  <thead>\n",
              "    <tr style=\"text-align: right;\">\n",
              "      <th></th>\n",
              "      <th>seed</th>\n",
              "      <th>Test RMSE</th>\n",
              "      <th>Test normalized RMSE</th>\n",
              "      <th>R_Square</th>\n",
              "    </tr>\n",
              "  </thead>\n",
              "  <tbody>\n",
              "    <tr>\n",
              "      <th>count</th>\n",
              "      <td>20.000000</td>\n",
              "      <td>20.000000</td>\n",
              "      <td>20.000000</td>\n",
              "      <td>20.000000</td>\n",
              "    </tr>\n",
              "    <tr>\n",
              "      <th>mean</th>\n",
              "      <td>1.500000</td>\n",
              "      <td>596290.126923</td>\n",
              "      <td>0.055696</td>\n",
              "      <td>0.966827</td>\n",
              "    </tr>\n",
              "    <tr>\n",
              "      <th>std</th>\n",
              "      <td>0.512989</td>\n",
              "      <td>40941.042154</td>\n",
              "      <td>0.003824</td>\n",
              "      <td>0.004414</td>\n",
              "    </tr>\n",
              "    <tr>\n",
              "      <th>min</th>\n",
              "      <td>1.000000</td>\n",
              "      <td>507012.168464</td>\n",
              "      <td>0.047357</td>\n",
              "      <td>0.960586</td>\n",
              "    </tr>\n",
              "    <tr>\n",
              "      <th>25%</th>\n",
              "      <td>1.000000</td>\n",
              "      <td>572302.255097</td>\n",
              "      <td>0.053456</td>\n",
              "      <td>0.963795</td>\n",
              "    </tr>\n",
              "    <tr>\n",
              "      <th>50%</th>\n",
              "      <td>1.500000</td>\n",
              "      <td>614522.941218</td>\n",
              "      <td>0.057400</td>\n",
              "      <td>0.964924</td>\n",
              "    </tr>\n",
              "    <tr>\n",
              "      <th>75%</th>\n",
              "      <td>2.000000</td>\n",
              "      <td>624332.858259</td>\n",
              "      <td>0.058316</td>\n",
              "      <td>0.969570</td>\n",
              "    </tr>\n",
              "    <tr>\n",
              "      <th>max</th>\n",
              "      <td>2.000000</td>\n",
              "      <td>651418.380581</td>\n",
              "      <td>0.060846</td>\n",
              "      <td>0.976124</td>\n",
              "    </tr>\n",
              "  </tbody>\n",
              "</table>\n",
              "</div>\n",
              "      <button class=\"colab-df-convert\" onclick=\"convertToInteractive('df-b541c638-aaf2-401e-8782-c4561cce83ae')\"\n",
              "              title=\"Convert this dataframe to an interactive table.\"\n",
              "              style=\"display:none;\">\n",
              "        \n",
              "  <svg xmlns=\"http://www.w3.org/2000/svg\" height=\"24px\"viewBox=\"0 0 24 24\"\n",
              "       width=\"24px\">\n",
              "    <path d=\"M0 0h24v24H0V0z\" fill=\"none\"/>\n",
              "    <path d=\"M18.56 5.44l.94 2.06.94-2.06 2.06-.94-2.06-.94-.94-2.06-.94 2.06-2.06.94zm-11 1L8.5 8.5l.94-2.06 2.06-.94-2.06-.94L8.5 2.5l-.94 2.06-2.06.94zm10 10l.94 2.06.94-2.06 2.06-.94-2.06-.94-.94-2.06-.94 2.06-2.06.94z\"/><path d=\"M17.41 7.96l-1.37-1.37c-.4-.4-.92-.59-1.43-.59-.52 0-1.04.2-1.43.59L10.3 9.45l-7.72 7.72c-.78.78-.78 2.05 0 2.83L4 21.41c.39.39.9.59 1.41.59.51 0 1.02-.2 1.41-.59l7.78-7.78 2.81-2.81c.8-.78.8-2.07 0-2.86zM5.41 20L4 18.59l7.72-7.72 1.47 1.35L5.41 20z\"/>\n",
              "  </svg>\n",
              "      </button>\n",
              "      \n",
              "  <style>\n",
              "    .colab-df-container {\n",
              "      display:flex;\n",
              "      flex-wrap:wrap;\n",
              "      gap: 12px;\n",
              "    }\n",
              "\n",
              "    .colab-df-convert {\n",
              "      background-color: #E8F0FE;\n",
              "      border: none;\n",
              "      border-radius: 50%;\n",
              "      cursor: pointer;\n",
              "      display: none;\n",
              "      fill: #1967D2;\n",
              "      height: 32px;\n",
              "      padding: 0 0 0 0;\n",
              "      width: 32px;\n",
              "    }\n",
              "\n",
              "    .colab-df-convert:hover {\n",
              "      background-color: #E2EBFA;\n",
              "      box-shadow: 0px 1px 2px rgba(60, 64, 67, 0.3), 0px 1px 3px 1px rgba(60, 64, 67, 0.15);\n",
              "      fill: #174EA6;\n",
              "    }\n",
              "\n",
              "    [theme=dark] .colab-df-convert {\n",
              "      background-color: #3B4455;\n",
              "      fill: #D2E3FC;\n",
              "    }\n",
              "\n",
              "    [theme=dark] .colab-df-convert:hover {\n",
              "      background-color: #434B5C;\n",
              "      box-shadow: 0px 1px 3px 1px rgba(0, 0, 0, 0.15);\n",
              "      filter: drop-shadow(0px 1px 2px rgba(0, 0, 0, 0.3));\n",
              "      fill: #FFFFFF;\n",
              "    }\n",
              "  </style>\n",
              "\n",
              "      <script>\n",
              "        const buttonEl =\n",
              "          document.querySelector('#df-b541c638-aaf2-401e-8782-c4561cce83ae button.colab-df-convert');\n",
              "        buttonEl.style.display =\n",
              "          google.colab.kernel.accessAllowed ? 'block' : 'none';\n",
              "\n",
              "        async function convertToInteractive(key) {\n",
              "          const element = document.querySelector('#df-b541c638-aaf2-401e-8782-c4561cce83ae');\n",
              "          const dataTable =\n",
              "            await google.colab.kernel.invokeFunction('convertToInteractive',\n",
              "                                                     [key], {});\n",
              "          if (!dataTable) return;\n",
              "\n",
              "          const docLinkHtml = 'Like what you see? Visit the ' +\n",
              "            '<a target=\"_blank\" href=https://colab.research.google.com/notebooks/data_table.ipynb>data table notebook</a>'\n",
              "            + ' to learn more about interactive tables.';\n",
              "          element.innerHTML = '';\n",
              "          dataTable['output_type'] = 'display_data';\n",
              "          await google.colab.output.renderOutput(dataTable, element);\n",
              "          const docLink = document.createElement('div');\n",
              "          docLink.innerHTML = docLinkHtml;\n",
              "          element.appendChild(docLink);\n",
              "        }\n",
              "      </script>\n",
              "    </div>\n",
              "  </div>\n",
              "  "
            ]
          },
          "metadata": {},
          "execution_count": 119
        }
      ]
    },
    {
      "cell_type": "markdown",
      "source": [
        "# Random Forest"
      ],
      "metadata": {
        "id": "zgm8bLv6IXy6"
      }
    },
    {
      "cell_type": "code",
      "source": [
        "from sklearn.ensemble import RandomForestRegressor"
      ],
      "metadata": {
        "id": "jR3pzyfQIZoX"
      },
      "execution_count": 120,
      "outputs": []
    },
    {
      "cell_type": "code",
      "source": [
        "# y_train = y_train.reshape(-1)"
      ],
      "metadata": {
        "id": "WqITS-6zI2wW"
      },
      "execution_count": 121,
      "outputs": []
    },
    {
      "cell_type": "code",
      "source": [
        "model = RandomForestRegressor()\n",
        "model.fit(x_train, y_train)"
      ],
      "metadata": {
        "colab": {
          "base_uri": "https://localhost:8080/"
        },
        "outputId": "3bb3ffdb-4e64-4b23-dfee-64e1d0707e66",
        "id": "BeEs8G4ZIbXt"
      },
      "execution_count": 122,
      "outputs": [
        {
          "output_type": "stream",
          "name": "stderr",
          "text": [
            "/usr/local/lib/python3.7/dist-packages/ipykernel_launcher.py:2: DataConversionWarning: A column-vector y was passed when a 1d array was expected. Please change the shape of y to (n_samples,), for example using ravel().\n",
            "  \n"
          ]
        },
        {
          "output_type": "execute_result",
          "data": {
            "text/plain": [
              "RandomForestRegressor()"
            ]
          },
          "metadata": {},
          "execution_count": 122
        }
      ]
    },
    {
      "cell_type": "markdown",
      "metadata": {
        "id": "HOR3gCUBIbXu"
      },
      "source": [
        "## Model Predictions"
      ]
    },
    {
      "cell_type": "code",
      "metadata": {
        "id": "at0tZjJEIbXu"
      },
      "source": [
        "trainPred = model.predict(x_train)\n",
        "testPred = model.predict(x_test)"
      ],
      "execution_count": 123,
      "outputs": []
    },
    {
      "cell_type": "code",
      "metadata": {
        "colab": {
          "base_uri": "https://localhost:8080/"
        },
        "outputId": "b880d9c6-3cfb-4b25-f20f-48678e03bf12",
        "id": "arHJGVlyIbXv"
      },
      "source": [
        "print(testPred.shape)\n",
        "print(trainPred.shape)"
      ],
      "execution_count": 124,
      "outputs": [
        {
          "output_type": "stream",
          "name": "stdout",
          "text": [
            "(60,)\n",
            "(419,)\n"
          ]
        }
      ]
    },
    {
      "cell_type": "code",
      "source": [
        "trainPred = trainPred.reshape(-1, 1)\n",
        "testPred = testPred.reshape(-1, 1)"
      ],
      "metadata": {
        "id": "zqromArtJMmX"
      },
      "execution_count": 125,
      "outputs": []
    },
    {
      "cell_type": "code",
      "metadata": {
        "colab": {
          "base_uri": "https://localhost:8080/"
        },
        "outputId": "d09385e4-e2ae-42be-ac3f-221f725382e3",
        "id": "II0FqYbMIbXv"
      },
      "source": [
        "# invert scaling for forecasted values \n",
        "\n",
        "inv_testPred = scaler_l.inverse_transform(testPred)\n",
        "print(inv_testPred[1])\n",
        "\n",
        "# invert scaling for actual values\n",
        "\n",
        "inv_y_test = scaler_l.inverse_transform(y_test)\n",
        "print(inv_y_test[1])\n"
      ],
      "execution_count": 126,
      "outputs": [
        {
          "output_type": "stream",
          "name": "stdout",
          "text": [
            "[14729127.73]\n",
            "[14545530.]\n"
          ]
        }
      ]
    },
    {
      "cell_type": "code",
      "metadata": {
        "colab": {
          "base_uri": "https://localhost:8080/"
        },
        "outputId": "486f655f-dda1-4351-a0fb-30121b8ea00f",
        "id": "NweAOuT2IbXw"
      },
      "source": [
        "# calculate RMSE\n",
        "from sklearn.metrics import mean_squared_error\n",
        "from math import sqrt\n",
        "\n",
        "rmse = sqrt(mean_squared_error(inv_y_test, inv_testPred))\n",
        "print('Test RMSE: %.3f' % rmse)"
      ],
      "execution_count": 127,
      "outputs": [
        {
          "output_type": "stream",
          "name": "stdout",
          "text": [
            "Test RMSE: 468143.453\n"
          ]
        }
      ]
    },
    {
      "cell_type": "code",
      "metadata": {
        "colab": {
          "base_uri": "https://localhost:8080/"
        },
        "outputId": "8d9c3986-aa8e-4fd7-ab4f-05e9564c8537",
        "id": "kw1xOZ8XIbXw"
      },
      "source": [
        "# calculate Normalized RMSE\n",
        "y_max = inv_y_test.max()\n",
        "y_min = inv_y_test.min()\n",
        "nrmse = rmse /(inv_y_test.mean()) \n",
        "print('Test NRMSE:', nrmse)"
      ],
      "execution_count": 128,
      "outputs": [
        {
          "output_type": "stream",
          "name": "stdout",
          "text": [
            "Test NRMSE: 0.043726934459623126\n"
          ]
        }
      ]
    },
    {
      "cell_type": "code",
      "source": [
        "inv_y_test.mean()"
      ],
      "metadata": {
        "colab": {
          "base_uri": "https://localhost:8080/"
        },
        "outputId": "3a0c9629-16df-445a-82ce-75b572fa3295",
        "id": "jVmgYN0CIbXw"
      },
      "execution_count": 129,
      "outputs": [
        {
          "output_type": "execute_result",
          "data": {
            "text/plain": [
              "10706066.15"
            ]
          },
          "metadata": {},
          "execution_count": 129
        }
      ]
    },
    {
      "cell_type": "code",
      "metadata": {
        "colab": {
          "base_uri": "https://localhost:8080/"
        },
        "outputId": "a34d98b4-2afb-403c-e5e9-240bad42ee98",
        "id": "R06gD7DNIbXx"
      },
      "source": [
        "# calculate R-square\n",
        "from sklearn.metrics import r2_score\n",
        "from math import sqrt\n",
        "\n",
        "r_sq = r2_score(inv_y_test, inv_testPred)\n",
        "print('Test R_Square: %.4f' % r_sq)"
      ],
      "execution_count": 130,
      "outputs": [
        {
          "output_type": "stream",
          "name": "stdout",
          "text": [
            "Test R_Square: 0.9796\n"
          ]
        }
      ]
    },
    {
      "cell_type": "markdown",
      "source": [
        "## Write scores in csv files"
      ],
      "metadata": {
        "id": "1Rnps2wQIbXx"
      }
    },
    {
      "cell_type": "code",
      "source": [
        "\n",
        "# y_train = y_train.reshape(-1)\n",
        "\n",
        "for i in range(10):\n",
        "  \n",
        "  model = RandomForestRegressor()\n",
        "  model.fit(x_train, y_train)\n",
        "\n",
        "  trainPred = model.predict(x_train)\n",
        "  testPred = model.predict(x_test)  \n",
        "\n",
        "  trainPred = trainPred.reshape(-1, 1)\n",
        "  testPred = testPred.reshape(-1, 1)\n",
        "\n",
        "  # invert scaling for forecasted values \n",
        "  inv_testPred = scaler_l.inverse_transform(testPred)\n",
        "\n",
        "  # invert scaling for actual values\n",
        "  inv_y_test = scaler_l.inverse_transform(y_test)\n",
        "\n",
        "  # Calculate RMSE\n",
        "  rmse = sqrt(mean_squared_error(inv_y_test, inv_testPred))\n",
        "\n",
        "  # calculate Normalized RMSE\n",
        "  y_max = inv_y_test.max()\n",
        "  y_min = inv_y_test.min()\n",
        "  nrmse = rmse /(inv_y_test.mean()) \n",
        "\n",
        "  # calculate R-square\n",
        "  r_sq = r2_score(inv_y_test, inv_testPred)\n",
        "\n",
        "\n",
        "  file_path = '/content/drive/MyDrive/SYDE 675/Project/Models/m-ML_models/rf_scores.csv'\n",
        "\n",
        "  header = ['seed', 'Test RMSE', 'Test normalized RMSE', 'R_Square']\n",
        "\n",
        "  if os.path.exists(file_path):\n",
        "    # If file exists, append row\n",
        "    with open(file_path, 'a', encoding='UTF8') as f:\n",
        "      writer = csv.writer(f)\n",
        "\n",
        "      # write the data\n",
        "      writer.writerow([seed_number, rmse, nrmse, r_sq])\n",
        "\n",
        "  else:\n",
        "    # If file does not exist, write new file\n",
        "    with open(file_path, 'w', encoding='UTF8') as f:\n",
        "      writer = csv.writer(f)\n",
        "\n",
        "      # write the header\n",
        "      writer.writerow(header)\n",
        "\n",
        "      # write the data\n",
        "      writer.writerow([seed_number, rmse, nrmse, r_sq])"
      ],
      "metadata": {
        "id": "2fm6tjocIbXx",
        "colab": {
          "base_uri": "https://localhost:8080/"
        },
        "outputId": "fa092ecf-2d81-4c33-eba2-fa501dbde411"
      },
      "execution_count": 131,
      "outputs": [
        {
          "output_type": "stream",
          "name": "stderr",
          "text": [
            "/usr/local/lib/python3.7/dist-packages/ipykernel_launcher.py:7: DataConversionWarning: A column-vector y was passed when a 1d array was expected. Please change the shape of y to (n_samples,), for example using ravel().\n",
            "  import sys\n",
            "/usr/local/lib/python3.7/dist-packages/ipykernel_launcher.py:7: DataConversionWarning: A column-vector y was passed when a 1d array was expected. Please change the shape of y to (n_samples,), for example using ravel().\n",
            "  import sys\n",
            "/usr/local/lib/python3.7/dist-packages/ipykernel_launcher.py:7: DataConversionWarning: A column-vector y was passed when a 1d array was expected. Please change the shape of y to (n_samples,), for example using ravel().\n",
            "  import sys\n",
            "/usr/local/lib/python3.7/dist-packages/ipykernel_launcher.py:7: DataConversionWarning: A column-vector y was passed when a 1d array was expected. Please change the shape of y to (n_samples,), for example using ravel().\n",
            "  import sys\n",
            "/usr/local/lib/python3.7/dist-packages/ipykernel_launcher.py:7: DataConversionWarning: A column-vector y was passed when a 1d array was expected. Please change the shape of y to (n_samples,), for example using ravel().\n",
            "  import sys\n",
            "/usr/local/lib/python3.7/dist-packages/ipykernel_launcher.py:7: DataConversionWarning: A column-vector y was passed when a 1d array was expected. Please change the shape of y to (n_samples,), for example using ravel().\n",
            "  import sys\n",
            "/usr/local/lib/python3.7/dist-packages/ipykernel_launcher.py:7: DataConversionWarning: A column-vector y was passed when a 1d array was expected. Please change the shape of y to (n_samples,), for example using ravel().\n",
            "  import sys\n",
            "/usr/local/lib/python3.7/dist-packages/ipykernel_launcher.py:7: DataConversionWarning: A column-vector y was passed when a 1d array was expected. Please change the shape of y to (n_samples,), for example using ravel().\n",
            "  import sys\n",
            "/usr/local/lib/python3.7/dist-packages/ipykernel_launcher.py:7: DataConversionWarning: A column-vector y was passed when a 1d array was expected. Please change the shape of y to (n_samples,), for example using ravel().\n",
            "  import sys\n",
            "/usr/local/lib/python3.7/dist-packages/ipykernel_launcher.py:7: DataConversionWarning: A column-vector y was passed when a 1d array was expected. Please change the shape of y to (n_samples,), for example using ravel().\n",
            "  import sys\n"
          ]
        }
      ]
    },
    {
      "cell_type": "code",
      "source": [
        "results = pd.read_csv(file_path)\n",
        "results.describe()"
      ],
      "metadata": {
        "colab": {
          "base_uri": "https://localhost:8080/",
          "height": 297
        },
        "outputId": "045ed92a-5724-4fb7-ac05-5928c9834fbe",
        "id": "WlCgbLyqIbXy"
      },
      "execution_count": 132,
      "outputs": [
        {
          "output_type": "execute_result",
          "data": {
            "text/plain": [
              "            seed      Test RMSE  Test normalized RMSE   R_Square\n",
              "count  20.000000      20.000000             20.000000  20.000000\n",
              "mean    1.500000  454531.921059              0.042456   0.980808\n",
              "std     0.512989    5685.518273              0.000531   0.000481\n",
              "min     1.000000  444400.341088              0.041509   0.979966\n",
              "25%     1.000000  451013.911734              0.042127   0.980361\n",
              "50%     1.500000  453336.751566              0.042344   0.980911\n",
              "75%     2.000000  459820.778017              0.042950   0.981107\n",
              "max     2.000000  464432.948052              0.043380   0.981657"
            ],
            "text/html": [
              "\n",
              "  <div id=\"df-80c4bba2-8005-4230-b1eb-4b4276fe9ec1\">\n",
              "    <div class=\"colab-df-container\">\n",
              "      <div>\n",
              "<style scoped>\n",
              "    .dataframe tbody tr th:only-of-type {\n",
              "        vertical-align: middle;\n",
              "    }\n",
              "\n",
              "    .dataframe tbody tr th {\n",
              "        vertical-align: top;\n",
              "    }\n",
              "\n",
              "    .dataframe thead th {\n",
              "        text-align: right;\n",
              "    }\n",
              "</style>\n",
              "<table border=\"1\" class=\"dataframe\">\n",
              "  <thead>\n",
              "    <tr style=\"text-align: right;\">\n",
              "      <th></th>\n",
              "      <th>seed</th>\n",
              "      <th>Test RMSE</th>\n",
              "      <th>Test normalized RMSE</th>\n",
              "      <th>R_Square</th>\n",
              "    </tr>\n",
              "  </thead>\n",
              "  <tbody>\n",
              "    <tr>\n",
              "      <th>count</th>\n",
              "      <td>20.000000</td>\n",
              "      <td>20.000000</td>\n",
              "      <td>20.000000</td>\n",
              "      <td>20.000000</td>\n",
              "    </tr>\n",
              "    <tr>\n",
              "      <th>mean</th>\n",
              "      <td>1.500000</td>\n",
              "      <td>454531.921059</td>\n",
              "      <td>0.042456</td>\n",
              "      <td>0.980808</td>\n",
              "    </tr>\n",
              "    <tr>\n",
              "      <th>std</th>\n",
              "      <td>0.512989</td>\n",
              "      <td>5685.518273</td>\n",
              "      <td>0.000531</td>\n",
              "      <td>0.000481</td>\n",
              "    </tr>\n",
              "    <tr>\n",
              "      <th>min</th>\n",
              "      <td>1.000000</td>\n",
              "      <td>444400.341088</td>\n",
              "      <td>0.041509</td>\n",
              "      <td>0.979966</td>\n",
              "    </tr>\n",
              "    <tr>\n",
              "      <th>25%</th>\n",
              "      <td>1.000000</td>\n",
              "      <td>451013.911734</td>\n",
              "      <td>0.042127</td>\n",
              "      <td>0.980361</td>\n",
              "    </tr>\n",
              "    <tr>\n",
              "      <th>50%</th>\n",
              "      <td>1.500000</td>\n",
              "      <td>453336.751566</td>\n",
              "      <td>0.042344</td>\n",
              "      <td>0.980911</td>\n",
              "    </tr>\n",
              "    <tr>\n",
              "      <th>75%</th>\n",
              "      <td>2.000000</td>\n",
              "      <td>459820.778017</td>\n",
              "      <td>0.042950</td>\n",
              "      <td>0.981107</td>\n",
              "    </tr>\n",
              "    <tr>\n",
              "      <th>max</th>\n",
              "      <td>2.000000</td>\n",
              "      <td>464432.948052</td>\n",
              "      <td>0.043380</td>\n",
              "      <td>0.981657</td>\n",
              "    </tr>\n",
              "  </tbody>\n",
              "</table>\n",
              "</div>\n",
              "      <button class=\"colab-df-convert\" onclick=\"convertToInteractive('df-80c4bba2-8005-4230-b1eb-4b4276fe9ec1')\"\n",
              "              title=\"Convert this dataframe to an interactive table.\"\n",
              "              style=\"display:none;\">\n",
              "        \n",
              "  <svg xmlns=\"http://www.w3.org/2000/svg\" height=\"24px\"viewBox=\"0 0 24 24\"\n",
              "       width=\"24px\">\n",
              "    <path d=\"M0 0h24v24H0V0z\" fill=\"none\"/>\n",
              "    <path d=\"M18.56 5.44l.94 2.06.94-2.06 2.06-.94-2.06-.94-.94-2.06-.94 2.06-2.06.94zm-11 1L8.5 8.5l.94-2.06 2.06-.94-2.06-.94L8.5 2.5l-.94 2.06-2.06.94zm10 10l.94 2.06.94-2.06 2.06-.94-2.06-.94-.94-2.06-.94 2.06-2.06.94z\"/><path d=\"M17.41 7.96l-1.37-1.37c-.4-.4-.92-.59-1.43-.59-.52 0-1.04.2-1.43.59L10.3 9.45l-7.72 7.72c-.78.78-.78 2.05 0 2.83L4 21.41c.39.39.9.59 1.41.59.51 0 1.02-.2 1.41-.59l7.78-7.78 2.81-2.81c.8-.78.8-2.07 0-2.86zM5.41 20L4 18.59l7.72-7.72 1.47 1.35L5.41 20z\"/>\n",
              "  </svg>\n",
              "      </button>\n",
              "      \n",
              "  <style>\n",
              "    .colab-df-container {\n",
              "      display:flex;\n",
              "      flex-wrap:wrap;\n",
              "      gap: 12px;\n",
              "    }\n",
              "\n",
              "    .colab-df-convert {\n",
              "      background-color: #E8F0FE;\n",
              "      border: none;\n",
              "      border-radius: 50%;\n",
              "      cursor: pointer;\n",
              "      display: none;\n",
              "      fill: #1967D2;\n",
              "      height: 32px;\n",
              "      padding: 0 0 0 0;\n",
              "      width: 32px;\n",
              "    }\n",
              "\n",
              "    .colab-df-convert:hover {\n",
              "      background-color: #E2EBFA;\n",
              "      box-shadow: 0px 1px 2px rgba(60, 64, 67, 0.3), 0px 1px 3px 1px rgba(60, 64, 67, 0.15);\n",
              "      fill: #174EA6;\n",
              "    }\n",
              "\n",
              "    [theme=dark] .colab-df-convert {\n",
              "      background-color: #3B4455;\n",
              "      fill: #D2E3FC;\n",
              "    }\n",
              "\n",
              "    [theme=dark] .colab-df-convert:hover {\n",
              "      background-color: #434B5C;\n",
              "      box-shadow: 0px 1px 3px 1px rgba(0, 0, 0, 0.15);\n",
              "      filter: drop-shadow(0px 1px 2px rgba(0, 0, 0, 0.3));\n",
              "      fill: #FFFFFF;\n",
              "    }\n",
              "  </style>\n",
              "\n",
              "      <script>\n",
              "        const buttonEl =\n",
              "          document.querySelector('#df-80c4bba2-8005-4230-b1eb-4b4276fe9ec1 button.colab-df-convert');\n",
              "        buttonEl.style.display =\n",
              "          google.colab.kernel.accessAllowed ? 'block' : 'none';\n",
              "\n",
              "        async function convertToInteractive(key) {\n",
              "          const element = document.querySelector('#df-80c4bba2-8005-4230-b1eb-4b4276fe9ec1');\n",
              "          const dataTable =\n",
              "            await google.colab.kernel.invokeFunction('convertToInteractive',\n",
              "                                                     [key], {});\n",
              "          if (!dataTable) return;\n",
              "\n",
              "          const docLinkHtml = 'Like what you see? Visit the ' +\n",
              "            '<a target=\"_blank\" href=https://colab.research.google.com/notebooks/data_table.ipynb>data table notebook</a>'\n",
              "            + ' to learn more about interactive tables.';\n",
              "          element.innerHTML = '';\n",
              "          dataTable['output_type'] = 'display_data';\n",
              "          await google.colab.output.renderOutput(dataTable, element);\n",
              "          const docLink = document.createElement('div');\n",
              "          docLink.innerHTML = docLinkHtml;\n",
              "          element.appendChild(docLink);\n",
              "        }\n",
              "      </script>\n",
              "    </div>\n",
              "  </div>\n",
              "  "
            ]
          },
          "metadata": {},
          "execution_count": 132
        }
      ]
    },
    {
      "cell_type": "markdown",
      "source": [
        "# Gradient Boosting Regressor"
      ],
      "metadata": {
        "id": "7uw2eFT8J6IP"
      }
    },
    {
      "cell_type": "code",
      "source": [
        "from sklearn.ensemble import GradientBoostingRegressor"
      ],
      "metadata": {
        "id": "H4Qf-4fdJ6IR"
      },
      "execution_count": 133,
      "outputs": []
    },
    {
      "cell_type": "code",
      "source": [
        "# y_train = y_train.reshape(-1)"
      ],
      "metadata": {
        "id": "pKGfjRVQJ6IS"
      },
      "execution_count": 134,
      "outputs": []
    },
    {
      "cell_type": "code",
      "source": [
        "model = GradientBoostingRegressor()\n",
        "model.fit(x_train, y_train)"
      ],
      "metadata": {
        "colab": {
          "base_uri": "https://localhost:8080/"
        },
        "outputId": "13a4482f-36f2-4abb-b81e-3bb541e4f196",
        "id": "UuOlBJ9TJ6IS"
      },
      "execution_count": 135,
      "outputs": [
        {
          "output_type": "stream",
          "name": "stderr",
          "text": [
            "/usr/local/lib/python3.7/dist-packages/sklearn/ensemble/_gb.py:494: DataConversionWarning: A column-vector y was passed when a 1d array was expected. Please change the shape of y to (n_samples, ), for example using ravel().\n",
            "  y = column_or_1d(y, warn=True)\n"
          ]
        },
        {
          "output_type": "execute_result",
          "data": {
            "text/plain": [
              "GradientBoostingRegressor()"
            ]
          },
          "metadata": {},
          "execution_count": 135
        }
      ]
    },
    {
      "cell_type": "markdown",
      "metadata": {
        "id": "aZWwieT3J6IT"
      },
      "source": [
        "## Model Predictions"
      ]
    },
    {
      "cell_type": "code",
      "metadata": {
        "id": "kux05V9tJ6IT"
      },
      "source": [
        "trainPred = model.predict(x_train)\n",
        "testPred = model.predict(x_test)"
      ],
      "execution_count": 136,
      "outputs": []
    },
    {
      "cell_type": "code",
      "metadata": {
        "colab": {
          "base_uri": "https://localhost:8080/"
        },
        "outputId": "ab1f64eb-1219-4adb-b7ce-0c8d31953fd3",
        "id": "lVpeqaPDJ6IT"
      },
      "source": [
        "print(testPred.shape)\n",
        "print(trainPred.shape)"
      ],
      "execution_count": 137,
      "outputs": [
        {
          "output_type": "stream",
          "name": "stdout",
          "text": [
            "(60,)\n",
            "(419,)\n"
          ]
        }
      ]
    },
    {
      "cell_type": "code",
      "source": [
        "trainPred = trainPred.reshape(-1, 1)\n",
        "testPred = testPred.reshape(-1, 1)"
      ],
      "metadata": {
        "id": "DwqO7DRRJ6IT"
      },
      "execution_count": 138,
      "outputs": []
    },
    {
      "cell_type": "code",
      "metadata": {
        "colab": {
          "base_uri": "https://localhost:8080/"
        },
        "outputId": "b82b2eed-ea09-4940-e638-9ac43a0e1fee",
        "id": "XR4cL9KOJ6IU"
      },
      "source": [
        "# invert scaling for forecasted values \n",
        "\n",
        "inv_testPred = scaler_l.inverse_transform(testPred)\n",
        "print(inv_testPred[1])\n",
        "\n",
        "# invert scaling for actual values\n",
        "\n",
        "inv_y_test = scaler_l.inverse_transform(y_test)\n",
        "print(inv_y_test[1])\n"
      ],
      "execution_count": 139,
      "outputs": [
        {
          "output_type": "stream",
          "name": "stdout",
          "text": [
            "[14775040.95521954]\n",
            "[14545530.]\n"
          ]
        }
      ]
    },
    {
      "cell_type": "code",
      "metadata": {
        "colab": {
          "base_uri": "https://localhost:8080/"
        },
        "outputId": "a621cad6-0c4b-4cc4-9487-8d567dc7cca6",
        "id": "hPUSExOaJ6IU"
      },
      "source": [
        "# calculate RMSE\n",
        "from sklearn.metrics import mean_squared_error\n",
        "from math import sqrt\n",
        "\n",
        "rmse = sqrt(mean_squared_error(inv_y_test, inv_testPred))\n",
        "print('Test RMSE: %.3f' % rmse)"
      ],
      "execution_count": 140,
      "outputs": [
        {
          "output_type": "stream",
          "name": "stdout",
          "text": [
            "Test RMSE: 519335.844\n"
          ]
        }
      ]
    },
    {
      "cell_type": "code",
      "metadata": {
        "colab": {
          "base_uri": "https://localhost:8080/"
        },
        "outputId": "33d9b2e8-2ff7-448d-a2be-a2a7e5367993",
        "id": "3vKGMFJeJ6IV"
      },
      "source": [
        "# calculate Normalized RMSE\n",
        "y_max = inv_y_test.max()\n",
        "y_min = inv_y_test.min()\n",
        "nrmse = rmse /(inv_y_test.mean()) \n",
        "print('Test NRMSE:', nrmse)"
      ],
      "execution_count": 141,
      "outputs": [
        {
          "output_type": "stream",
          "name": "stdout",
          "text": [
            "Test NRMSE: 0.04850855922600896\n"
          ]
        }
      ]
    },
    {
      "cell_type": "code",
      "source": [
        "inv_y_test.mean()"
      ],
      "metadata": {
        "colab": {
          "base_uri": "https://localhost:8080/"
        },
        "outputId": "6087c1f1-c374-4f17-843a-9d872929d8bf",
        "id": "2J8rz5B7J6IV"
      },
      "execution_count": 142,
      "outputs": [
        {
          "output_type": "execute_result",
          "data": {
            "text/plain": [
              "10706066.15"
            ]
          },
          "metadata": {},
          "execution_count": 142
        }
      ]
    },
    {
      "cell_type": "code",
      "metadata": {
        "colab": {
          "base_uri": "https://localhost:8080/"
        },
        "outputId": "eefb5b62-f1a8-4eac-8a7b-ec4eeed618f5",
        "id": "v76ouSqYJ6IV"
      },
      "source": [
        "# calculate R-square\n",
        "from sklearn.metrics import r2_score\n",
        "from math import sqrt\n",
        "\n",
        "r_sq = r2_score(inv_y_test, inv_testPred)\n",
        "print('Test R_Square: %.4f' % r_sq)"
      ],
      "execution_count": 143,
      "outputs": [
        {
          "output_type": "stream",
          "name": "stdout",
          "text": [
            "Test R_Square: 0.9749\n"
          ]
        }
      ]
    },
    {
      "cell_type": "markdown",
      "source": [
        "## Write scores in csv files"
      ],
      "metadata": {
        "id": "hSxllJxsJ6IW"
      }
    },
    {
      "cell_type": "code",
      "source": [
        "\n",
        "# y_train = y_train.reshape(-1)\n",
        "\n",
        "for i in range(10):\n",
        "  \n",
        "  model = GradientBoostingRegressor()\n",
        "  model.fit(x_train, y_train)\n",
        "\n",
        "  trainPred = model.predict(x_train)\n",
        "  testPred = model.predict(x_test)  \n",
        "\n",
        "  trainPred = trainPred.reshape(-1, 1)\n",
        "  testPred = testPred.reshape(-1, 1)\n",
        "\n",
        "  # invert scaling for forecasted values \n",
        "  inv_testPred = scaler_l.inverse_transform(testPred)\n",
        "\n",
        "  # invert scaling for actual values\n",
        "  inv_y_test = scaler_l.inverse_transform(y_test)\n",
        "\n",
        "  # Calculate RMSE\n",
        "  rmse = sqrt(mean_squared_error(inv_y_test, inv_testPred))\n",
        "\n",
        "  # calculate Normalized RMSE\n",
        "  y_max = inv_y_test.max()\n",
        "  y_min = inv_y_test.min()\n",
        "  nrmse = rmse /(inv_y_test.mean()) \n",
        "\n",
        "  # calculate R-square\n",
        "  r_sq = r2_score(inv_y_test, inv_testPred)\n",
        "\n",
        "\n",
        "  file_path = '/content/drive/MyDrive/SYDE 675/Project/Models/m-ML_models/boost_scores.csv'\n",
        "\n",
        "  header = ['seed', 'Test RMSE', 'Test normalized RMSE', 'R_Square']\n",
        "\n",
        "  if os.path.exists(file_path):\n",
        "    # If file exists, append row\n",
        "    with open(file_path, 'a', encoding='UTF8') as f:\n",
        "      writer = csv.writer(f)\n",
        "\n",
        "      # write the data\n",
        "      writer.writerow([seed_number, rmse, nrmse, r_sq])\n",
        "\n",
        "  else:\n",
        "    # If file does not exist, write new file\n",
        "    with open(file_path, 'w', encoding='UTF8') as f:\n",
        "      writer = csv.writer(f)\n",
        "\n",
        "      # write the header\n",
        "      writer.writerow(header)\n",
        "\n",
        "      # write the data\n",
        "      writer.writerow([seed_number, rmse, nrmse, r_sq])"
      ],
      "metadata": {
        "colab": {
          "base_uri": "https://localhost:8080/"
        },
        "id": "tYdPZp7NJ6IW",
        "outputId": "23b07ca6-ebe9-4a43-c9ac-d4b0b8269da3"
      },
      "execution_count": 144,
      "outputs": [
        {
          "output_type": "stream",
          "name": "stderr",
          "text": [
            "/usr/local/lib/python3.7/dist-packages/sklearn/ensemble/_gb.py:494: DataConversionWarning: A column-vector y was passed when a 1d array was expected. Please change the shape of y to (n_samples, ), for example using ravel().\n",
            "  y = column_or_1d(y, warn=True)\n",
            "/usr/local/lib/python3.7/dist-packages/sklearn/ensemble/_gb.py:494: DataConversionWarning: A column-vector y was passed when a 1d array was expected. Please change the shape of y to (n_samples, ), for example using ravel().\n",
            "  y = column_or_1d(y, warn=True)\n",
            "/usr/local/lib/python3.7/dist-packages/sklearn/ensemble/_gb.py:494: DataConversionWarning: A column-vector y was passed when a 1d array was expected. Please change the shape of y to (n_samples, ), for example using ravel().\n",
            "  y = column_or_1d(y, warn=True)\n",
            "/usr/local/lib/python3.7/dist-packages/sklearn/ensemble/_gb.py:494: DataConversionWarning: A column-vector y was passed when a 1d array was expected. Please change the shape of y to (n_samples, ), for example using ravel().\n",
            "  y = column_or_1d(y, warn=True)\n",
            "/usr/local/lib/python3.7/dist-packages/sklearn/ensemble/_gb.py:494: DataConversionWarning: A column-vector y was passed when a 1d array was expected. Please change the shape of y to (n_samples, ), for example using ravel().\n",
            "  y = column_or_1d(y, warn=True)\n",
            "/usr/local/lib/python3.7/dist-packages/sklearn/ensemble/_gb.py:494: DataConversionWarning: A column-vector y was passed when a 1d array was expected. Please change the shape of y to (n_samples, ), for example using ravel().\n",
            "  y = column_or_1d(y, warn=True)\n",
            "/usr/local/lib/python3.7/dist-packages/sklearn/ensemble/_gb.py:494: DataConversionWarning: A column-vector y was passed when a 1d array was expected. Please change the shape of y to (n_samples, ), for example using ravel().\n",
            "  y = column_or_1d(y, warn=True)\n",
            "/usr/local/lib/python3.7/dist-packages/sklearn/ensemble/_gb.py:494: DataConversionWarning: A column-vector y was passed when a 1d array was expected. Please change the shape of y to (n_samples, ), for example using ravel().\n",
            "  y = column_or_1d(y, warn=True)\n",
            "/usr/local/lib/python3.7/dist-packages/sklearn/ensemble/_gb.py:494: DataConversionWarning: A column-vector y was passed when a 1d array was expected. Please change the shape of y to (n_samples, ), for example using ravel().\n",
            "  y = column_or_1d(y, warn=True)\n",
            "/usr/local/lib/python3.7/dist-packages/sklearn/ensemble/_gb.py:494: DataConversionWarning: A column-vector y was passed when a 1d array was expected. Please change the shape of y to (n_samples, ), for example using ravel().\n",
            "  y = column_or_1d(y, warn=True)\n"
          ]
        }
      ]
    },
    {
      "cell_type": "code",
      "source": [
        "results = pd.read_csv(file_path)\n",
        "results.describe()"
      ],
      "metadata": {
        "colab": {
          "base_uri": "https://localhost:8080/",
          "height": 297
        },
        "outputId": "4fc1e40f-5e70-4017-93d8-89e67e8e9fdb",
        "id": "3TSF3eRIJ6IX"
      },
      "execution_count": 145,
      "outputs": [
        {
          "output_type": "execute_result",
          "data": {
            "text/plain": [
              "            seed      Test RMSE  Test normalized RMSE   R_Square\n",
              "count  20.000000      20.000000             20.000000  20.000000\n",
              "mean    1.500000  519832.217114              0.048555   0.974901\n",
              "std     0.512989    1924.986891              0.000180   0.000186\n",
              "min     1.000000  515505.461543              0.048151   0.974614\n",
              "25%     1.000000  518922.586914              0.048470   0.974788\n",
              "50%     1.500000  519787.274585              0.048551   0.974905\n",
              "75%     2.000000  521004.656793              0.048664   0.974989\n",
              "max     2.000000  522797.759673              0.048832   0.975317"
            ],
            "text/html": [
              "\n",
              "  <div id=\"df-c7f658c4-b098-4589-88bc-8653a9f0a832\">\n",
              "    <div class=\"colab-df-container\">\n",
              "      <div>\n",
              "<style scoped>\n",
              "    .dataframe tbody tr th:only-of-type {\n",
              "        vertical-align: middle;\n",
              "    }\n",
              "\n",
              "    .dataframe tbody tr th {\n",
              "        vertical-align: top;\n",
              "    }\n",
              "\n",
              "    .dataframe thead th {\n",
              "        text-align: right;\n",
              "    }\n",
              "</style>\n",
              "<table border=\"1\" class=\"dataframe\">\n",
              "  <thead>\n",
              "    <tr style=\"text-align: right;\">\n",
              "      <th></th>\n",
              "      <th>seed</th>\n",
              "      <th>Test RMSE</th>\n",
              "      <th>Test normalized RMSE</th>\n",
              "      <th>R_Square</th>\n",
              "    </tr>\n",
              "  </thead>\n",
              "  <tbody>\n",
              "    <tr>\n",
              "      <th>count</th>\n",
              "      <td>20.000000</td>\n",
              "      <td>20.000000</td>\n",
              "      <td>20.000000</td>\n",
              "      <td>20.000000</td>\n",
              "    </tr>\n",
              "    <tr>\n",
              "      <th>mean</th>\n",
              "      <td>1.500000</td>\n",
              "      <td>519832.217114</td>\n",
              "      <td>0.048555</td>\n",
              "      <td>0.974901</td>\n",
              "    </tr>\n",
              "    <tr>\n",
              "      <th>std</th>\n",
              "      <td>0.512989</td>\n",
              "      <td>1924.986891</td>\n",
              "      <td>0.000180</td>\n",
              "      <td>0.000186</td>\n",
              "    </tr>\n",
              "    <tr>\n",
              "      <th>min</th>\n",
              "      <td>1.000000</td>\n",
              "      <td>515505.461543</td>\n",
              "      <td>0.048151</td>\n",
              "      <td>0.974614</td>\n",
              "    </tr>\n",
              "    <tr>\n",
              "      <th>25%</th>\n",
              "      <td>1.000000</td>\n",
              "      <td>518922.586914</td>\n",
              "      <td>0.048470</td>\n",
              "      <td>0.974788</td>\n",
              "    </tr>\n",
              "    <tr>\n",
              "      <th>50%</th>\n",
              "      <td>1.500000</td>\n",
              "      <td>519787.274585</td>\n",
              "      <td>0.048551</td>\n",
              "      <td>0.974905</td>\n",
              "    </tr>\n",
              "    <tr>\n",
              "      <th>75%</th>\n",
              "      <td>2.000000</td>\n",
              "      <td>521004.656793</td>\n",
              "      <td>0.048664</td>\n",
              "      <td>0.974989</td>\n",
              "    </tr>\n",
              "    <tr>\n",
              "      <th>max</th>\n",
              "      <td>2.000000</td>\n",
              "      <td>522797.759673</td>\n",
              "      <td>0.048832</td>\n",
              "      <td>0.975317</td>\n",
              "    </tr>\n",
              "  </tbody>\n",
              "</table>\n",
              "</div>\n",
              "      <button class=\"colab-df-convert\" onclick=\"convertToInteractive('df-c7f658c4-b098-4589-88bc-8653a9f0a832')\"\n",
              "              title=\"Convert this dataframe to an interactive table.\"\n",
              "              style=\"display:none;\">\n",
              "        \n",
              "  <svg xmlns=\"http://www.w3.org/2000/svg\" height=\"24px\"viewBox=\"0 0 24 24\"\n",
              "       width=\"24px\">\n",
              "    <path d=\"M0 0h24v24H0V0z\" fill=\"none\"/>\n",
              "    <path d=\"M18.56 5.44l.94 2.06.94-2.06 2.06-.94-2.06-.94-.94-2.06-.94 2.06-2.06.94zm-11 1L8.5 8.5l.94-2.06 2.06-.94-2.06-.94L8.5 2.5l-.94 2.06-2.06.94zm10 10l.94 2.06.94-2.06 2.06-.94-2.06-.94-.94-2.06-.94 2.06-2.06.94z\"/><path d=\"M17.41 7.96l-1.37-1.37c-.4-.4-.92-.59-1.43-.59-.52 0-1.04.2-1.43.59L10.3 9.45l-7.72 7.72c-.78.78-.78 2.05 0 2.83L4 21.41c.39.39.9.59 1.41.59.51 0 1.02-.2 1.41-.59l7.78-7.78 2.81-2.81c.8-.78.8-2.07 0-2.86zM5.41 20L4 18.59l7.72-7.72 1.47 1.35L5.41 20z\"/>\n",
              "  </svg>\n",
              "      </button>\n",
              "      \n",
              "  <style>\n",
              "    .colab-df-container {\n",
              "      display:flex;\n",
              "      flex-wrap:wrap;\n",
              "      gap: 12px;\n",
              "    }\n",
              "\n",
              "    .colab-df-convert {\n",
              "      background-color: #E8F0FE;\n",
              "      border: none;\n",
              "      border-radius: 50%;\n",
              "      cursor: pointer;\n",
              "      display: none;\n",
              "      fill: #1967D2;\n",
              "      height: 32px;\n",
              "      padding: 0 0 0 0;\n",
              "      width: 32px;\n",
              "    }\n",
              "\n",
              "    .colab-df-convert:hover {\n",
              "      background-color: #E2EBFA;\n",
              "      box-shadow: 0px 1px 2px rgba(60, 64, 67, 0.3), 0px 1px 3px 1px rgba(60, 64, 67, 0.15);\n",
              "      fill: #174EA6;\n",
              "    }\n",
              "\n",
              "    [theme=dark] .colab-df-convert {\n",
              "      background-color: #3B4455;\n",
              "      fill: #D2E3FC;\n",
              "    }\n",
              "\n",
              "    [theme=dark] .colab-df-convert:hover {\n",
              "      background-color: #434B5C;\n",
              "      box-shadow: 0px 1px 3px 1px rgba(0, 0, 0, 0.15);\n",
              "      filter: drop-shadow(0px 1px 2px rgba(0, 0, 0, 0.3));\n",
              "      fill: #FFFFFF;\n",
              "    }\n",
              "  </style>\n",
              "\n",
              "      <script>\n",
              "        const buttonEl =\n",
              "          document.querySelector('#df-c7f658c4-b098-4589-88bc-8653a9f0a832 button.colab-df-convert');\n",
              "        buttonEl.style.display =\n",
              "          google.colab.kernel.accessAllowed ? 'block' : 'none';\n",
              "\n",
              "        async function convertToInteractive(key) {\n",
              "          const element = document.querySelector('#df-c7f658c4-b098-4589-88bc-8653a9f0a832');\n",
              "          const dataTable =\n",
              "            await google.colab.kernel.invokeFunction('convertToInteractive',\n",
              "                                                     [key], {});\n",
              "          if (!dataTable) return;\n",
              "\n",
              "          const docLinkHtml = 'Like what you see? Visit the ' +\n",
              "            '<a target=\"_blank\" href=https://colab.research.google.com/notebooks/data_table.ipynb>data table notebook</a>'\n",
              "            + ' to learn more about interactive tables.';\n",
              "          element.innerHTML = '';\n",
              "          dataTable['output_type'] = 'display_data';\n",
              "          await google.colab.output.renderOutput(dataTable, element);\n",
              "          const docLink = document.createElement('div');\n",
              "          docLink.innerHTML = docLinkHtml;\n",
              "          element.appendChild(docLink);\n",
              "        }\n",
              "      </script>\n",
              "    </div>\n",
              "  </div>\n",
              "  "
            ]
          },
          "metadata": {},
          "execution_count": 145
        }
      ]
    },
    {
      "cell_type": "markdown",
      "source": [
        "# XGBoost"
      ],
      "metadata": {
        "id": "SNI5Y2kULG3i"
      }
    },
    {
      "cell_type": "code",
      "source": [
        "from xgboost import XGBRegressor"
      ],
      "metadata": {
        "id": "v2ra2sFDLOjo"
      },
      "execution_count": 146,
      "outputs": []
    },
    {
      "cell_type": "code",
      "source": [
        "# y_train = y_train.reshape(-1)"
      ],
      "metadata": {
        "id": "OXuwdmsMLOjo"
      },
      "execution_count": 147,
      "outputs": []
    },
    {
      "cell_type": "code",
      "source": [
        "model = XGBRegressor(objective = \"reg:squarederror\")\n",
        "model.fit(x_train, y_train)"
      ],
      "metadata": {
        "colab": {
          "base_uri": "https://localhost:8080/"
        },
        "outputId": "3d331f8d-3e04-4a33-cc1b-aecbdcc41d84",
        "id": "jc-rxm_FLOjp"
      },
      "execution_count": 148,
      "outputs": [
        {
          "output_type": "execute_result",
          "data": {
            "text/plain": [
              "XGBRegressor(objective='reg:squarederror')"
            ]
          },
          "metadata": {},
          "execution_count": 148
        }
      ]
    },
    {
      "cell_type": "markdown",
      "metadata": {
        "id": "GWFlCovuLOjp"
      },
      "source": [
        "## Model Predictions"
      ]
    },
    {
      "cell_type": "code",
      "metadata": {
        "id": "xpc8vY3vLOjp"
      },
      "source": [
        "trainPred = model.predict(x_train)\n",
        "testPred = model.predict(x_test)"
      ],
      "execution_count": 149,
      "outputs": []
    },
    {
      "cell_type": "code",
      "metadata": {
        "colab": {
          "base_uri": "https://localhost:8080/"
        },
        "outputId": "20a42bf4-7385-4030-d212-7f2834b3e27a",
        "id": "QWHHsqcwLOjp"
      },
      "source": [
        "print(testPred.shape)\n",
        "print(trainPred.shape)"
      ],
      "execution_count": 150,
      "outputs": [
        {
          "output_type": "stream",
          "name": "stdout",
          "text": [
            "(60,)\n",
            "(419,)\n"
          ]
        }
      ]
    },
    {
      "cell_type": "code",
      "source": [
        "trainPred = trainPred.reshape(-1, 1)\n",
        "testPred = testPred.reshape(-1, 1)"
      ],
      "metadata": {
        "id": "zMRnZs7xLOjq"
      },
      "execution_count": 151,
      "outputs": []
    },
    {
      "cell_type": "code",
      "metadata": {
        "colab": {
          "base_uri": "https://localhost:8080/"
        },
        "outputId": "ba1c1d82-e60e-4384-e2ee-633ec01e9b93",
        "id": "xRPXpUSDLOjq"
      },
      "source": [
        "# invert scaling for forecasted values \n",
        "\n",
        "inv_testPred = scaler_l.inverse_transform(testPred)\n",
        "print(inv_testPred[1])\n",
        "\n",
        "# invert scaling for actual values\n",
        "\n",
        "inv_y_test = scaler_l.inverse_transform(y_test)\n",
        "print(inv_y_test[1])\n"
      ],
      "execution_count": 152,
      "outputs": [
        {
          "output_type": "stream",
          "name": "stdout",
          "text": [
            "[14815781.]\n",
            "[14545530.]\n"
          ]
        }
      ]
    },
    {
      "cell_type": "code",
      "metadata": {
        "colab": {
          "base_uri": "https://localhost:8080/"
        },
        "outputId": "a92194b8-2ce6-43ad-fe37-6f89fb7feabe",
        "id": "vc4njJv4LOjq"
      },
      "source": [
        "# calculate RMSE\n",
        "from sklearn.metrics import mean_squared_error\n",
        "from math import sqrt\n",
        "\n",
        "rmse = sqrt(mean_squared_error(inv_y_test, inv_testPred))\n",
        "print('Test RMSE: %.3f' % rmse)"
      ],
      "execution_count": 153,
      "outputs": [
        {
          "output_type": "stream",
          "name": "stdout",
          "text": [
            "Test RMSE: 476411.340\n"
          ]
        }
      ]
    },
    {
      "cell_type": "code",
      "metadata": {
        "colab": {
          "base_uri": "https://localhost:8080/"
        },
        "outputId": "58bf2f05-4734-4e2e-8c2a-ba4fa232ecb4",
        "id": "zqmAgtaULOjr"
      },
      "source": [
        "# calculate Normalized RMSE\n",
        "y_max = inv_y_test.max()\n",
        "y_min = inv_y_test.min()\n",
        "nrmse = rmse /(inv_y_test.mean()) \n",
        "print('Test NRMSE:', nrmse)"
      ],
      "execution_count": 154,
      "outputs": [
        {
          "output_type": "stream",
          "name": "stdout",
          "text": [
            "Test NRMSE: 0.04449919640369534\n"
          ]
        }
      ]
    },
    {
      "cell_type": "code",
      "source": [
        "inv_y_test.mean()"
      ],
      "metadata": {
        "colab": {
          "base_uri": "https://localhost:8080/"
        },
        "outputId": "7506a561-26ae-439a-ca64-e4b2a01ffd8c",
        "id": "UZcLytZWLOjr"
      },
      "execution_count": 155,
      "outputs": [
        {
          "output_type": "execute_result",
          "data": {
            "text/plain": [
              "10706066.15"
            ]
          },
          "metadata": {},
          "execution_count": 155
        }
      ]
    },
    {
      "cell_type": "code",
      "metadata": {
        "colab": {
          "base_uri": "https://localhost:8080/"
        },
        "outputId": "1fc7d6aa-3aa1-488e-c587-3e02b20977da",
        "id": "VmVp0RroLOjr"
      },
      "source": [
        "# calculate R-square\n",
        "from sklearn.metrics import r2_score\n",
        "from math import sqrt\n",
        "\n",
        "r_sq = r2_score(inv_y_test, inv_testPred)\n",
        "print('Test R_Square: %.4f' % r_sq)"
      ],
      "execution_count": 156,
      "outputs": [
        {
          "output_type": "stream",
          "name": "stdout",
          "text": [
            "Test R_Square: 0.9789\n"
          ]
        }
      ]
    },
    {
      "cell_type": "markdown",
      "source": [
        "## Write scores in csv files"
      ],
      "metadata": {
        "id": "xve607WmLOjr"
      }
    },
    {
      "cell_type": "code",
      "source": [
        "\n",
        "# y_train = y_train.reshape(-1)\n",
        "\n",
        "for i in range(10):\n",
        "  \n",
        "  model = XGBRegressor(objective ='reg:squarederror')\n",
        "  model.fit(x_train, y_train)\n",
        "\n",
        "  trainPred = model.predict(x_train)\n",
        "  testPred = model.predict(x_test)  \n",
        "\n",
        "  trainPred = trainPred.reshape(-1, 1)\n",
        "  testPred = testPred.reshape(-1, 1)\n",
        "\n",
        "  # invert scaling for forecasted values \n",
        "  inv_testPred = scaler_l.inverse_transform(testPred)\n",
        "\n",
        "  # invert scaling for actual values\n",
        "  inv_y_test = scaler_l.inverse_transform(y_test)\n",
        "\n",
        "  # Calculate RMSE\n",
        "  rmse = sqrt(mean_squared_error(inv_y_test, inv_testPred))\n",
        "\n",
        "  # calculate Normalized RMSE\n",
        "  y_max = inv_y_test.max()\n",
        "  y_min = inv_y_test.min()\n",
        "  nrmse = rmse /(inv_y_test.mean()) \n",
        "\n",
        "  # calculate R-square\n",
        "  r_sq = r2_score(inv_y_test, inv_testPred)\n",
        "\n",
        "\n",
        "  file_path = '/content/drive/MyDrive/SYDE 675/Project/Models/m-ML_models/xgboost_scores.csv'\n",
        "\n",
        "  header = ['seed', 'Test RMSE', 'Test normalized RMSE', 'R_Square']\n",
        "\n",
        "  if os.path.exists(file_path):\n",
        "    # If file exists, append row\n",
        "    with open(file_path, 'a', encoding='UTF8') as f:\n",
        "      writer = csv.writer(f)\n",
        "\n",
        "      # write the data\n",
        "      writer.writerow([seed_number, rmse, nrmse, r_sq])\n",
        "\n",
        "  else:\n",
        "    # If file does not exist, write new file\n",
        "    with open(file_path, 'w', encoding='UTF8') as f:\n",
        "      writer = csv.writer(f)\n",
        "\n",
        "      # write the header\n",
        "      writer.writerow(header)\n",
        "\n",
        "      # write the data\n",
        "      writer.writerow([seed_number, rmse, nrmse, r_sq])"
      ],
      "metadata": {
        "id": "FCuaJ1pxLOjs"
      },
      "execution_count": 157,
      "outputs": []
    },
    {
      "cell_type": "code",
      "source": [
        "results = pd.read_csv(file_path)\n",
        "results.describe()"
      ],
      "metadata": {
        "colab": {
          "base_uri": "https://localhost:8080/",
          "height": 297
        },
        "outputId": "e6ef4f4f-cf32-4e0f-d993-6217ed0bce7f",
        "id": "J66bMpVnLOjs"
      },
      "execution_count": 158,
      "outputs": [
        {
          "output_type": "execute_result",
          "data": {
            "text/plain": [
              "            seed     Test RMSE  Test normalized RMSE      R_Square\n",
              "count  20.000000  2.000000e+01          2.000000e+01  2.000000e+01\n",
              "mean    1.500000  4.764113e+05          4.449920e-02  9.789188e-01\n",
              "std     0.512989  1.791594e-10          7.119155e-18  2.278130e-16\n",
              "min     1.000000  4.764113e+05          4.449920e-02  9.789188e-01\n",
              "25%     1.000000  4.764113e+05          4.449920e-02  9.789188e-01\n",
              "50%     1.500000  4.764113e+05          4.449920e-02  9.789188e-01\n",
              "75%     2.000000  4.764113e+05          4.449920e-02  9.789188e-01\n",
              "max     2.000000  4.764113e+05          4.449920e-02  9.789188e-01"
            ],
            "text/html": [
              "\n",
              "  <div id=\"df-e8a5a498-d851-475b-9b7d-971dfd61b073\">\n",
              "    <div class=\"colab-df-container\">\n",
              "      <div>\n",
              "<style scoped>\n",
              "    .dataframe tbody tr th:only-of-type {\n",
              "        vertical-align: middle;\n",
              "    }\n",
              "\n",
              "    .dataframe tbody tr th {\n",
              "        vertical-align: top;\n",
              "    }\n",
              "\n",
              "    .dataframe thead th {\n",
              "        text-align: right;\n",
              "    }\n",
              "</style>\n",
              "<table border=\"1\" class=\"dataframe\">\n",
              "  <thead>\n",
              "    <tr style=\"text-align: right;\">\n",
              "      <th></th>\n",
              "      <th>seed</th>\n",
              "      <th>Test RMSE</th>\n",
              "      <th>Test normalized RMSE</th>\n",
              "      <th>R_Square</th>\n",
              "    </tr>\n",
              "  </thead>\n",
              "  <tbody>\n",
              "    <tr>\n",
              "      <th>count</th>\n",
              "      <td>20.000000</td>\n",
              "      <td>2.000000e+01</td>\n",
              "      <td>2.000000e+01</td>\n",
              "      <td>2.000000e+01</td>\n",
              "    </tr>\n",
              "    <tr>\n",
              "      <th>mean</th>\n",
              "      <td>1.500000</td>\n",
              "      <td>4.764113e+05</td>\n",
              "      <td>4.449920e-02</td>\n",
              "      <td>9.789188e-01</td>\n",
              "    </tr>\n",
              "    <tr>\n",
              "      <th>std</th>\n",
              "      <td>0.512989</td>\n",
              "      <td>1.791594e-10</td>\n",
              "      <td>7.119155e-18</td>\n",
              "      <td>2.278130e-16</td>\n",
              "    </tr>\n",
              "    <tr>\n",
              "      <th>min</th>\n",
              "      <td>1.000000</td>\n",
              "      <td>4.764113e+05</td>\n",
              "      <td>4.449920e-02</td>\n",
              "      <td>9.789188e-01</td>\n",
              "    </tr>\n",
              "    <tr>\n",
              "      <th>25%</th>\n",
              "      <td>1.000000</td>\n",
              "      <td>4.764113e+05</td>\n",
              "      <td>4.449920e-02</td>\n",
              "      <td>9.789188e-01</td>\n",
              "    </tr>\n",
              "    <tr>\n",
              "      <th>50%</th>\n",
              "      <td>1.500000</td>\n",
              "      <td>4.764113e+05</td>\n",
              "      <td>4.449920e-02</td>\n",
              "      <td>9.789188e-01</td>\n",
              "    </tr>\n",
              "    <tr>\n",
              "      <th>75%</th>\n",
              "      <td>2.000000</td>\n",
              "      <td>4.764113e+05</td>\n",
              "      <td>4.449920e-02</td>\n",
              "      <td>9.789188e-01</td>\n",
              "    </tr>\n",
              "    <tr>\n",
              "      <th>max</th>\n",
              "      <td>2.000000</td>\n",
              "      <td>4.764113e+05</td>\n",
              "      <td>4.449920e-02</td>\n",
              "      <td>9.789188e-01</td>\n",
              "    </tr>\n",
              "  </tbody>\n",
              "</table>\n",
              "</div>\n",
              "      <button class=\"colab-df-convert\" onclick=\"convertToInteractive('df-e8a5a498-d851-475b-9b7d-971dfd61b073')\"\n",
              "              title=\"Convert this dataframe to an interactive table.\"\n",
              "              style=\"display:none;\">\n",
              "        \n",
              "  <svg xmlns=\"http://www.w3.org/2000/svg\" height=\"24px\"viewBox=\"0 0 24 24\"\n",
              "       width=\"24px\">\n",
              "    <path d=\"M0 0h24v24H0V0z\" fill=\"none\"/>\n",
              "    <path d=\"M18.56 5.44l.94 2.06.94-2.06 2.06-.94-2.06-.94-.94-2.06-.94 2.06-2.06.94zm-11 1L8.5 8.5l.94-2.06 2.06-.94-2.06-.94L8.5 2.5l-.94 2.06-2.06.94zm10 10l.94 2.06.94-2.06 2.06-.94-2.06-.94-.94-2.06-.94 2.06-2.06.94z\"/><path d=\"M17.41 7.96l-1.37-1.37c-.4-.4-.92-.59-1.43-.59-.52 0-1.04.2-1.43.59L10.3 9.45l-7.72 7.72c-.78.78-.78 2.05 0 2.83L4 21.41c.39.39.9.59 1.41.59.51 0 1.02-.2 1.41-.59l7.78-7.78 2.81-2.81c.8-.78.8-2.07 0-2.86zM5.41 20L4 18.59l7.72-7.72 1.47 1.35L5.41 20z\"/>\n",
              "  </svg>\n",
              "      </button>\n",
              "      \n",
              "  <style>\n",
              "    .colab-df-container {\n",
              "      display:flex;\n",
              "      flex-wrap:wrap;\n",
              "      gap: 12px;\n",
              "    }\n",
              "\n",
              "    .colab-df-convert {\n",
              "      background-color: #E8F0FE;\n",
              "      border: none;\n",
              "      border-radius: 50%;\n",
              "      cursor: pointer;\n",
              "      display: none;\n",
              "      fill: #1967D2;\n",
              "      height: 32px;\n",
              "      padding: 0 0 0 0;\n",
              "      width: 32px;\n",
              "    }\n",
              "\n",
              "    .colab-df-convert:hover {\n",
              "      background-color: #E2EBFA;\n",
              "      box-shadow: 0px 1px 2px rgba(60, 64, 67, 0.3), 0px 1px 3px 1px rgba(60, 64, 67, 0.15);\n",
              "      fill: #174EA6;\n",
              "    }\n",
              "\n",
              "    [theme=dark] .colab-df-convert {\n",
              "      background-color: #3B4455;\n",
              "      fill: #D2E3FC;\n",
              "    }\n",
              "\n",
              "    [theme=dark] .colab-df-convert:hover {\n",
              "      background-color: #434B5C;\n",
              "      box-shadow: 0px 1px 3px 1px rgba(0, 0, 0, 0.15);\n",
              "      filter: drop-shadow(0px 1px 2px rgba(0, 0, 0, 0.3));\n",
              "      fill: #FFFFFF;\n",
              "    }\n",
              "  </style>\n",
              "\n",
              "      <script>\n",
              "        const buttonEl =\n",
              "          document.querySelector('#df-e8a5a498-d851-475b-9b7d-971dfd61b073 button.colab-df-convert');\n",
              "        buttonEl.style.display =\n",
              "          google.colab.kernel.accessAllowed ? 'block' : 'none';\n",
              "\n",
              "        async function convertToInteractive(key) {\n",
              "          const element = document.querySelector('#df-e8a5a498-d851-475b-9b7d-971dfd61b073');\n",
              "          const dataTable =\n",
              "            await google.colab.kernel.invokeFunction('convertToInteractive',\n",
              "                                                     [key], {});\n",
              "          if (!dataTable) return;\n",
              "\n",
              "          const docLinkHtml = 'Like what you see? Visit the ' +\n",
              "            '<a target=\"_blank\" href=https://colab.research.google.com/notebooks/data_table.ipynb>data table notebook</a>'\n",
              "            + ' to learn more about interactive tables.';\n",
              "          element.innerHTML = '';\n",
              "          dataTable['output_type'] = 'display_data';\n",
              "          await google.colab.output.renderOutput(dataTable, element);\n",
              "          const docLink = document.createElement('div');\n",
              "          docLink.innerHTML = docLinkHtml;\n",
              "          element.appendChild(docLink);\n",
              "        }\n",
              "      </script>\n",
              "    </div>\n",
              "  </div>\n",
              "  "
            ]
          },
          "metadata": {},
          "execution_count": 158
        }
      ]
    },
    {
      "cell_type": "markdown",
      "source": [
        "# Polynomial Regression"
      ],
      "metadata": {
        "id": "2i8LAGOIMdG4"
      }
    },
    {
      "cell_type": "code",
      "source": [
        "from sklearn.preprocessing import PolynomialFeatures\n",
        "from sklearn.pipeline import make_pipeline\n",
        "from sklearn.linear_model import LinearRegression\n",
        "\n",
        "degree = 2\n",
        "model = make_pipeline(PolynomialFeatures(degree),LinearRegression())\n",
        "model.fit(x_train, y_train)"
      ],
      "metadata": {
        "id": "bI2x0q66Mcht",
        "colab": {
          "base_uri": "https://localhost:8080/"
        },
        "outputId": "18e14d2d-254c-4eca-e860-adcbe3ea38b2"
      },
      "execution_count": 159,
      "outputs": [
        {
          "output_type": "execute_result",
          "data": {
            "text/plain": [
              "Pipeline(steps=[('polynomialfeatures', PolynomialFeatures()),\n",
              "                ('linearregression', LinearRegression())])"
            ]
          },
          "metadata": {},
          "execution_count": 159
        }
      ]
    },
    {
      "cell_type": "markdown",
      "metadata": {
        "id": "ua9SsyER4SyJ"
      },
      "source": [
        "## Model Predictions"
      ]
    },
    {
      "cell_type": "code",
      "metadata": {
        "id": "MDU4KV9u4SyJ"
      },
      "source": [
        "trainPred = model.predict(x_train)\n",
        "testPred = model.predict(x_test)"
      ],
      "execution_count": 160,
      "outputs": []
    },
    {
      "cell_type": "code",
      "metadata": {
        "colab": {
          "base_uri": "https://localhost:8080/"
        },
        "outputId": "53c8ec30-659e-4344-8b95-fa52470835db",
        "id": "CqM6nFV04SyK"
      },
      "source": [
        "print(testPred.shape)\n",
        "print(trainPred.shape)"
      ],
      "execution_count": 161,
      "outputs": [
        {
          "output_type": "stream",
          "name": "stdout",
          "text": [
            "(60, 1)\n",
            "(419, 1)\n"
          ]
        }
      ]
    },
    {
      "cell_type": "code",
      "source": [
        "trainPred = trainPred.reshape(-1, 1)\n",
        "testPred = testPred.reshape(-1, 1)"
      ],
      "metadata": {
        "id": "C4QyK-Cc4SyK"
      },
      "execution_count": 162,
      "outputs": []
    },
    {
      "cell_type": "code",
      "metadata": {
        "colab": {
          "base_uri": "https://localhost:8080/"
        },
        "outputId": "f4c3b90b-e655-4434-d37c-2336888c5bbe",
        "id": "GdUd9sRy4SyK"
      },
      "source": [
        "# invert scaling for forecasted values \n",
        "\n",
        "inv_testPred = scaler_l.inverse_transform(testPred)\n",
        "print(inv_testPred[1])\n",
        "\n",
        "# invert scaling for actual values\n",
        "\n",
        "inv_y_test = scaler_l.inverse_transform(y_test)\n",
        "print(inv_y_test[1])\n"
      ],
      "execution_count": 163,
      "outputs": [
        {
          "output_type": "stream",
          "name": "stdout",
          "text": [
            "[15058585.41367294]\n",
            "[14545530.]\n"
          ]
        }
      ]
    },
    {
      "cell_type": "code",
      "metadata": {
        "colab": {
          "base_uri": "https://localhost:8080/"
        },
        "outputId": "5364300c-78d5-42f8-9fb1-b74cbc8eff69",
        "id": "1hLmDVYf4SyL"
      },
      "source": [
        "# calculate RMSE\n",
        "from sklearn.metrics import mean_squared_error\n",
        "from math import sqrt\n",
        "\n",
        "rmse = sqrt(mean_squared_error(inv_y_test, inv_testPred))\n",
        "print('Test RMSE: %.3f' % rmse)"
      ],
      "execution_count": 164,
      "outputs": [
        {
          "output_type": "stream",
          "name": "stdout",
          "text": [
            "Test RMSE: 889224.778\n"
          ]
        }
      ]
    },
    {
      "cell_type": "code",
      "metadata": {
        "colab": {
          "base_uri": "https://localhost:8080/"
        },
        "outputId": "cccaa261-b2d3-4a81-c814-b8bd7a2c1570",
        "id": "tcWvE97s4SyL"
      },
      "source": [
        "# calculate Normalized RMSE\n",
        "y_max = inv_y_test.max()\n",
        "y_min = inv_y_test.min()\n",
        "nrmse = rmse /(inv_y_test.mean()) \n",
        "print('Test NRMSE:', nrmse)"
      ],
      "execution_count": 165,
      "outputs": [
        {
          "output_type": "stream",
          "name": "stdout",
          "text": [
            "Test NRMSE: 0.08305803135680728\n"
          ]
        }
      ]
    },
    {
      "cell_type": "code",
      "source": [
        "inv_y_test.mean()"
      ],
      "metadata": {
        "colab": {
          "base_uri": "https://localhost:8080/"
        },
        "outputId": "8be37c0f-1526-444d-842e-0108cba63668",
        "id": "AWJxlTWG4SyL"
      },
      "execution_count": 166,
      "outputs": [
        {
          "output_type": "execute_result",
          "data": {
            "text/plain": [
              "10706066.15"
            ]
          },
          "metadata": {},
          "execution_count": 166
        }
      ]
    },
    {
      "cell_type": "code",
      "metadata": {
        "colab": {
          "base_uri": "https://localhost:8080/"
        },
        "outputId": "2fde04b6-38bc-4671-f2ac-7c89068803a2",
        "id": "xr0t7mXp4SyL"
      },
      "source": [
        "# calculate R-square\n",
        "from sklearn.metrics import r2_score\n",
        "from math import sqrt\n",
        "\n",
        "r_sq = r2_score(inv_y_test, inv_testPred)\n",
        "print('Test R_Square: %.4f' % r_sq)"
      ],
      "execution_count": 167,
      "outputs": [
        {
          "output_type": "stream",
          "name": "stdout",
          "text": [
            "Test R_Square: 0.9266\n"
          ]
        }
      ]
    },
    {
      "cell_type": "markdown",
      "source": [
        "## Write scores in csv files"
      ],
      "metadata": {
        "id": "xc1jaqsc4SyM"
      }
    },
    {
      "cell_type": "code",
      "source": [
        "\n",
        "# y_train = y_train.reshape(-1)\n",
        "\n",
        "for i in range(10):\n",
        "  \n",
        "  degree = 2\n",
        "  model = make_pipeline(PolynomialFeatures(degree),LinearRegression())\n",
        "  model.fit(x_train, y_train)\n",
        "\n",
        "  trainPred = model.predict(x_train)\n",
        "  testPred = model.predict(x_test)  \n",
        "\n",
        "  trainPred = trainPred.reshape(-1, 1)\n",
        "  testPred = testPred.reshape(-1, 1)\n",
        "\n",
        "  # invert scaling for forecasted values \n",
        "  inv_testPred = scaler_l.inverse_transform(testPred)\n",
        "\n",
        "  # invert scaling for actual values\n",
        "  inv_y_test = scaler_l.inverse_transform(y_test)\n",
        "\n",
        "  # Calculate RMSE\n",
        "  rmse = sqrt(mean_squared_error(inv_y_test, inv_testPred))\n",
        "\n",
        "  # calculate Normalized RMSE\n",
        "  y_max = inv_y_test.max()\n",
        "  y_min = inv_y_test.min()\n",
        "  nrmse = rmse /(inv_y_test.mean()) \n",
        "\n",
        "  # calculate R-square\n",
        "  r_sq = r2_score(inv_y_test, inv_testPred)\n",
        "\n",
        "\n",
        "  file_path = '/content/drive/MyDrive/SYDE 675/Project/Models/m-ML_models/poly_reg_scores.csv'\n",
        "\n",
        "  header = ['seed', 'Test RMSE', 'Test normalized RMSE', 'R_Square']\n",
        "\n",
        "  if os.path.exists(file_path):\n",
        "    # If file exists, append row\n",
        "    with open(file_path, 'a', encoding='UTF8') as f:\n",
        "      writer = csv.writer(f)\n",
        "\n",
        "      # write the data\n",
        "      writer.writerow([seed_number, rmse, nrmse, r_sq])\n",
        "\n",
        "  else:\n",
        "    # If file does not exist, write new file\n",
        "    with open(file_path, 'w', encoding='UTF8') as f:\n",
        "      writer = csv.writer(f)\n",
        "\n",
        "      # write the header\n",
        "      writer.writerow(header)\n",
        "\n",
        "      # write the data\n",
        "      writer.writerow([seed_number, rmse, nrmse, r_sq])"
      ],
      "metadata": {
        "id": "jBsYIxDQ4SyM"
      },
      "execution_count": 171,
      "outputs": []
    },
    {
      "cell_type": "code",
      "source": [
        "results = pd.read_csv(file_path)\n",
        "results.describe()"
      ],
      "metadata": {
        "colab": {
          "base_uri": "https://localhost:8080/",
          "height": 297
        },
        "outputId": "eb4897b9-4b86-4e67-b199-dffb2009f178",
        "id": "xbnMpeIq4SyM"
      },
      "execution_count": 169,
      "outputs": [
        {
          "output_type": "execute_result",
          "data": {
            "text/plain": [
              "            seed     Test RMSE  Test normalized RMSE      R_Square\n",
              "count  20.000000  2.000000e+01          2.000000e+01  2.000000e+01\n",
              "mean    1.500000  3.309689e+07          3.091415e+00 -1.007433e+02\n",
              "std     0.512989  1.528827e-08          9.112518e-16  1.458003e-14\n",
              "min     1.000000  3.309689e+07          3.091415e+00 -1.007433e+02\n",
              "25%     1.000000  3.309689e+07          3.091415e+00 -1.007433e+02\n",
              "50%     1.500000  3.309689e+07          3.091415e+00 -1.007433e+02\n",
              "75%     2.000000  3.309689e+07          3.091415e+00 -1.007433e+02\n",
              "max     2.000000  3.309689e+07          3.091415e+00 -1.007433e+02"
            ],
            "text/html": [
              "\n",
              "  <div id=\"df-2fb0e085-5633-4cfb-8340-609563dcb030\">\n",
              "    <div class=\"colab-df-container\">\n",
              "      <div>\n",
              "<style scoped>\n",
              "    .dataframe tbody tr th:only-of-type {\n",
              "        vertical-align: middle;\n",
              "    }\n",
              "\n",
              "    .dataframe tbody tr th {\n",
              "        vertical-align: top;\n",
              "    }\n",
              "\n",
              "    .dataframe thead th {\n",
              "        text-align: right;\n",
              "    }\n",
              "</style>\n",
              "<table border=\"1\" class=\"dataframe\">\n",
              "  <thead>\n",
              "    <tr style=\"text-align: right;\">\n",
              "      <th></th>\n",
              "      <th>seed</th>\n",
              "      <th>Test RMSE</th>\n",
              "      <th>Test normalized RMSE</th>\n",
              "      <th>R_Square</th>\n",
              "    </tr>\n",
              "  </thead>\n",
              "  <tbody>\n",
              "    <tr>\n",
              "      <th>count</th>\n",
              "      <td>20.000000</td>\n",
              "      <td>2.000000e+01</td>\n",
              "      <td>2.000000e+01</td>\n",
              "      <td>2.000000e+01</td>\n",
              "    </tr>\n",
              "    <tr>\n",
              "      <th>mean</th>\n",
              "      <td>1.500000</td>\n",
              "      <td>3.309689e+07</td>\n",
              "      <td>3.091415e+00</td>\n",
              "      <td>-1.007433e+02</td>\n",
              "    </tr>\n",
              "    <tr>\n",
              "      <th>std</th>\n",
              "      <td>0.512989</td>\n",
              "      <td>1.528827e-08</td>\n",
              "      <td>9.112518e-16</td>\n",
              "      <td>1.458003e-14</td>\n",
              "    </tr>\n",
              "    <tr>\n",
              "      <th>min</th>\n",
              "      <td>1.000000</td>\n",
              "      <td>3.309689e+07</td>\n",
              "      <td>3.091415e+00</td>\n",
              "      <td>-1.007433e+02</td>\n",
              "    </tr>\n",
              "    <tr>\n",
              "      <th>25%</th>\n",
              "      <td>1.000000</td>\n",
              "      <td>3.309689e+07</td>\n",
              "      <td>3.091415e+00</td>\n",
              "      <td>-1.007433e+02</td>\n",
              "    </tr>\n",
              "    <tr>\n",
              "      <th>50%</th>\n",
              "      <td>1.500000</td>\n",
              "      <td>3.309689e+07</td>\n",
              "      <td>3.091415e+00</td>\n",
              "      <td>-1.007433e+02</td>\n",
              "    </tr>\n",
              "    <tr>\n",
              "      <th>75%</th>\n",
              "      <td>2.000000</td>\n",
              "      <td>3.309689e+07</td>\n",
              "      <td>3.091415e+00</td>\n",
              "      <td>-1.007433e+02</td>\n",
              "    </tr>\n",
              "    <tr>\n",
              "      <th>max</th>\n",
              "      <td>2.000000</td>\n",
              "      <td>3.309689e+07</td>\n",
              "      <td>3.091415e+00</td>\n",
              "      <td>-1.007433e+02</td>\n",
              "    </tr>\n",
              "  </tbody>\n",
              "</table>\n",
              "</div>\n",
              "      <button class=\"colab-df-convert\" onclick=\"convertToInteractive('df-2fb0e085-5633-4cfb-8340-609563dcb030')\"\n",
              "              title=\"Convert this dataframe to an interactive table.\"\n",
              "              style=\"display:none;\">\n",
              "        \n",
              "  <svg xmlns=\"http://www.w3.org/2000/svg\" height=\"24px\"viewBox=\"0 0 24 24\"\n",
              "       width=\"24px\">\n",
              "    <path d=\"M0 0h24v24H0V0z\" fill=\"none\"/>\n",
              "    <path d=\"M18.56 5.44l.94 2.06.94-2.06 2.06-.94-2.06-.94-.94-2.06-.94 2.06-2.06.94zm-11 1L8.5 8.5l.94-2.06 2.06-.94-2.06-.94L8.5 2.5l-.94 2.06-2.06.94zm10 10l.94 2.06.94-2.06 2.06-.94-2.06-.94-.94-2.06-.94 2.06-2.06.94z\"/><path d=\"M17.41 7.96l-1.37-1.37c-.4-.4-.92-.59-1.43-.59-.52 0-1.04.2-1.43.59L10.3 9.45l-7.72 7.72c-.78.78-.78 2.05 0 2.83L4 21.41c.39.39.9.59 1.41.59.51 0 1.02-.2 1.41-.59l7.78-7.78 2.81-2.81c.8-.78.8-2.07 0-2.86zM5.41 20L4 18.59l7.72-7.72 1.47 1.35L5.41 20z\"/>\n",
              "  </svg>\n",
              "      </button>\n",
              "      \n",
              "  <style>\n",
              "    .colab-df-container {\n",
              "      display:flex;\n",
              "      flex-wrap:wrap;\n",
              "      gap: 12px;\n",
              "    }\n",
              "\n",
              "    .colab-df-convert {\n",
              "      background-color: #E8F0FE;\n",
              "      border: none;\n",
              "      border-radius: 50%;\n",
              "      cursor: pointer;\n",
              "      display: none;\n",
              "      fill: #1967D2;\n",
              "      height: 32px;\n",
              "      padding: 0 0 0 0;\n",
              "      width: 32px;\n",
              "    }\n",
              "\n",
              "    .colab-df-convert:hover {\n",
              "      background-color: #E2EBFA;\n",
              "      box-shadow: 0px 1px 2px rgba(60, 64, 67, 0.3), 0px 1px 3px 1px rgba(60, 64, 67, 0.15);\n",
              "      fill: #174EA6;\n",
              "    }\n",
              "\n",
              "    [theme=dark] .colab-df-convert {\n",
              "      background-color: #3B4455;\n",
              "      fill: #D2E3FC;\n",
              "    }\n",
              "\n",
              "    [theme=dark] .colab-df-convert:hover {\n",
              "      background-color: #434B5C;\n",
              "      box-shadow: 0px 1px 3px 1px rgba(0, 0, 0, 0.15);\n",
              "      filter: drop-shadow(0px 1px 2px rgba(0, 0, 0, 0.3));\n",
              "      fill: #FFFFFF;\n",
              "    }\n",
              "  </style>\n",
              "\n",
              "      <script>\n",
              "        const buttonEl =\n",
              "          document.querySelector('#df-2fb0e085-5633-4cfb-8340-609563dcb030 button.colab-df-convert');\n",
              "        buttonEl.style.display =\n",
              "          google.colab.kernel.accessAllowed ? 'block' : 'none';\n",
              "\n",
              "        async function convertToInteractive(key) {\n",
              "          const element = document.querySelector('#df-2fb0e085-5633-4cfb-8340-609563dcb030');\n",
              "          const dataTable =\n",
              "            await google.colab.kernel.invokeFunction('convertToInteractive',\n",
              "                                                     [key], {});\n",
              "          if (!dataTable) return;\n",
              "\n",
              "          const docLinkHtml = 'Like what you see? Visit the ' +\n",
              "            '<a target=\"_blank\" href=https://colab.research.google.com/notebooks/data_table.ipynb>data table notebook</a>'\n",
              "            + ' to learn more about interactive tables.';\n",
              "          element.innerHTML = '';\n",
              "          dataTable['output_type'] = 'display_data';\n",
              "          await google.colab.output.renderOutput(dataTable, element);\n",
              "          const docLink = document.createElement('div');\n",
              "          docLink.innerHTML = docLinkHtml;\n",
              "          element.appendChild(docLink);\n",
              "        }\n",
              "      </script>\n",
              "    </div>\n",
              "  </div>\n",
              "  "
            ]
          },
          "metadata": {},
          "execution_count": 169
        }
      ]
    }
  ]
}