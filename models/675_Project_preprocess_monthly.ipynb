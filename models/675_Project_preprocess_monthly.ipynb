{
  "nbformat": 4,
  "nbformat_minor": 0,
  "metadata": {
    "colab": {
      "name": "675_Project_preprocess_monthly.ipynb",
      "provenance": [],
      "collapsed_sections": [],
      "authorship_tag": "ABX9TyNuNCjsNRtzTAkLaQy+2BED",
      "include_colab_link": true
    },
    "kernelspec": {
      "name": "python3",
      "display_name": "Python 3"
    },
    "language_info": {
      "name": "python"
    }
  },
  "cells": [
    {
      "cell_type": "markdown",
      "metadata": {
        "id": "view-in-github",
        "colab_type": "text"
      },
      "source": [
        "<a href=\"https://colab.research.google.com/github/zach-gousseau/syde675-project/blob/main/models/675_Project_preprocess_monthly.ipynb\" target=\"_parent\"><img src=\"https://colab.research.google.com/assets/colab-badge.svg\" alt=\"Open In Colab\"/></a>"
      ]
    },
    {
      "cell_type": "markdown",
      "source": [
        "# Import modules and functions"
      ],
      "metadata": {
        "id": "2OX88oZ15orx"
      }
    },
    {
      "cell_type": "code",
      "source": [
        "from google.colab import drive\n",
        "\n",
        "import pandas as pd\n",
        "import numpy as np\n",
        "from tempfile import TemporaryFile"
      ],
      "metadata": {
        "id": "t6rNKaIn5sCQ"
      },
      "execution_count": null,
      "outputs": []
    },
    {
      "cell_type": "markdown",
      "source": [
        "# Mount Google Drive"
      ],
      "metadata": {
        "id": "tofunhkA5KpQ"
      }
    },
    {
      "cell_type": "code",
      "source": [
        "drive.mount('/content/drive')"
      ],
      "metadata": {
        "colab": {
          "base_uri": "https://localhost:8080/"
        },
        "id": "5nAdgB0h5Moo",
        "outputId": "c75a1166-a756-4ada-cf8a-f21148fa2d29"
      },
      "execution_count": null,
      "outputs": [
        {
          "output_type": "stream",
          "name": "stdout",
          "text": [
            "Mounted at /content/drive\n"
          ]
        }
      ]
    },
    {
      "cell_type": "markdown",
      "source": [
        "# Import Data"
      ],
      "metadata": {
        "id": "9h5FG-do5lX9"
      }
    },
    {
      "cell_type": "code",
      "source": [
        "path = '/content/drive/MyDrive/SYDE 675/Project/Data/Arctic_domain_mean_monthly_1979_2018.csv'"
      ],
      "metadata": {
        "id": "Cq841Pzh5Xbl"
      },
      "execution_count": null,
      "outputs": []
    },
    {
      "cell_type": "code",
      "source": [
        "#load data\n",
        "\n",
        "lstm_df = pd.read_csv(path)\n",
        "print(lstm_df.info())"
      ],
      "metadata": {
        "colab": {
          "base_uri": "https://localhost:8080/"
        },
        "id": "IJm1aWoo9tkM",
        "outputId": "bc17f16e-8005-484d-e319-b64d66936d34"
      },
      "execution_count": null,
      "outputs": [
        {
          "output_type": "stream",
          "name": "stdout",
          "text": [
            "<class 'pandas.core.frame.DataFrame'>\n",
            "RangeIndex: 480 entries, 0 to 479\n",
            "Data columns (total 12 columns):\n",
            " #   Column             Non-Null Count  Dtype  \n",
            "---  ------             --------------  -----  \n",
            " 0   Date               480 non-null    object \n",
            " 1   wind_10m           480 non-null    float64\n",
            " 2   specific_humidity  480 non-null    float64\n",
            " 3   LW_down            480 non-null    float64\n",
            " 4   SW_down            480 non-null    float64\n",
            " 5   rainfall           480 non-null    float64\n",
            " 6   snowfall           480 non-null    float64\n",
            " 7   sosaline           480 non-null    float64\n",
            " 8   sst                480 non-null    float64\n",
            " 9   t2m                480 non-null    float64\n",
            " 10  surface_pressure   480 non-null    float64\n",
            " 11  sea_ice_extent     480 non-null    float64\n",
            "dtypes: float64(11), object(1)\n",
            "memory usage: 45.1+ KB\n",
            "None\n"
          ]
        }
      ]
    },
    {
      "cell_type": "code",
      "source": [
        "lstm_df.head()"
      ],
      "metadata": {
        "colab": {
          "base_uri": "https://localhost:8080/",
          "height": 204
        },
        "id": "H2cqZ0K5-VBD",
        "outputId": "7e84144f-a695-4873-e052-daac641a5046"
      },
      "execution_count": null,
      "outputs": [
        {
          "output_type": "execute_result",
          "data": {
            "text/html": [
              "\n",
              "  <div id=\"df-2e386a99-e7e4-4b78-8df9-49f6c0f48052\">\n",
              "    <div class=\"colab-df-container\">\n",
              "      <div>\n",
              "<style scoped>\n",
              "    .dataframe tbody tr th:only-of-type {\n",
              "        vertical-align: middle;\n",
              "    }\n",
              "\n",
              "    .dataframe tbody tr th {\n",
              "        vertical-align: top;\n",
              "    }\n",
              "\n",
              "    .dataframe thead th {\n",
              "        text-align: right;\n",
              "    }\n",
              "</style>\n",
              "<table border=\"1\" class=\"dataframe\">\n",
              "  <thead>\n",
              "    <tr style=\"text-align: right;\">\n",
              "      <th></th>\n",
              "      <th>Date</th>\n",
              "      <th>wind_10m</th>\n",
              "      <th>specific_humidity</th>\n",
              "      <th>LW_down</th>\n",
              "      <th>SW_down</th>\n",
              "      <th>rainfall</th>\n",
              "      <th>snowfall</th>\n",
              "      <th>sosaline</th>\n",
              "      <th>sst</th>\n",
              "      <th>t2m</th>\n",
              "      <th>surface_pressure</th>\n",
              "      <th>sea_ice_extent</th>\n",
              "    </tr>\n",
              "  </thead>\n",
              "  <tbody>\n",
              "    <tr>\n",
              "      <th>0</th>\n",
              "      <td>1979-01</td>\n",
              "      <td>5.531398</td>\n",
              "      <td>0.811961</td>\n",
              "      <td>186.687054</td>\n",
              "      <td>3.127880</td>\n",
              "      <td>1.009872</td>\n",
              "      <td>0.892319</td>\n",
              "      <td>33.341556</td>\n",
              "      <td>273.355237</td>\n",
              "      <td>250.388101</td>\n",
              "      <td>984.633032</td>\n",
              "      <td>15604191.0</td>\n",
              "    </tr>\n",
              "    <tr>\n",
              "      <th>1</th>\n",
              "      <td>1979-02</td>\n",
              "      <td>5.328020</td>\n",
              "      <td>0.688896</td>\n",
              "      <td>174.794571</td>\n",
              "      <td>18.541594</td>\n",
              "      <td>0.920831</td>\n",
              "      <td>0.781347</td>\n",
              "      <td>33.365164</td>\n",
              "      <td>273.121885</td>\n",
              "      <td>247.071202</td>\n",
              "      <td>983.980418</td>\n",
              "      <td>16378929.0</td>\n",
              "    </tr>\n",
              "    <tr>\n",
              "      <th>2</th>\n",
              "      <td>1979-03</td>\n",
              "      <td>5.432511</td>\n",
              "      <td>0.916124</td>\n",
              "      <td>190.741933</td>\n",
              "      <td>67.690429</td>\n",
              "      <td>0.983327</td>\n",
              "      <td>0.855266</td>\n",
              "      <td>33.365938</td>\n",
              "      <td>273.088099</td>\n",
              "      <td>252.954138</td>\n",
              "      <td>985.140468</td>\n",
              "      <td>16521089.0</td>\n",
              "    </tr>\n",
              "    <tr>\n",
              "      <th>3</th>\n",
              "      <td>1979-04</td>\n",
              "      <td>4.792836</td>\n",
              "      <td>1.272056</td>\n",
              "      <td>212.937925</td>\n",
              "      <td>156.223674</td>\n",
              "      <td>0.890723</td>\n",
              "      <td>0.705203</td>\n",
              "      <td>33.350408</td>\n",
              "      <td>273.126062</td>\n",
              "      <td>259.557456</td>\n",
              "      <td>989.314698</td>\n",
              "      <td>15561238.0</td>\n",
              "    </tr>\n",
              "    <tr>\n",
              "      <th>4</th>\n",
              "      <td>1979-05</td>\n",
              "      <td>4.819028</td>\n",
              "      <td>2.239776</td>\n",
              "      <td>253.690478</td>\n",
              "      <td>230.950833</td>\n",
              "      <td>1.201308</td>\n",
              "      <td>0.688723</td>\n",
              "      <td>33.295768</td>\n",
              "      <td>273.393551</td>\n",
              "      <td>269.375118</td>\n",
              "      <td>984.483658</td>\n",
              "      <td>14085613.0</td>\n",
              "    </tr>\n",
              "  </tbody>\n",
              "</table>\n",
              "</div>\n",
              "      <button class=\"colab-df-convert\" onclick=\"convertToInteractive('df-2e386a99-e7e4-4b78-8df9-49f6c0f48052')\"\n",
              "              title=\"Convert this dataframe to an interactive table.\"\n",
              "              style=\"display:none;\">\n",
              "        \n",
              "  <svg xmlns=\"http://www.w3.org/2000/svg\" height=\"24px\"viewBox=\"0 0 24 24\"\n",
              "       width=\"24px\">\n",
              "    <path d=\"M0 0h24v24H0V0z\" fill=\"none\"/>\n",
              "    <path d=\"M18.56 5.44l.94 2.06.94-2.06 2.06-.94-2.06-.94-.94-2.06-.94 2.06-2.06.94zm-11 1L8.5 8.5l.94-2.06 2.06-.94-2.06-.94L8.5 2.5l-.94 2.06-2.06.94zm10 10l.94 2.06.94-2.06 2.06-.94-2.06-.94-.94-2.06-.94 2.06-2.06.94z\"/><path d=\"M17.41 7.96l-1.37-1.37c-.4-.4-.92-.59-1.43-.59-.52 0-1.04.2-1.43.59L10.3 9.45l-7.72 7.72c-.78.78-.78 2.05 0 2.83L4 21.41c.39.39.9.59 1.41.59.51 0 1.02-.2 1.41-.59l7.78-7.78 2.81-2.81c.8-.78.8-2.07 0-2.86zM5.41 20L4 18.59l7.72-7.72 1.47 1.35L5.41 20z\"/>\n",
              "  </svg>\n",
              "      </button>\n",
              "      \n",
              "  <style>\n",
              "    .colab-df-container {\n",
              "      display:flex;\n",
              "      flex-wrap:wrap;\n",
              "      gap: 12px;\n",
              "    }\n",
              "\n",
              "    .colab-df-convert {\n",
              "      background-color: #E8F0FE;\n",
              "      border: none;\n",
              "      border-radius: 50%;\n",
              "      cursor: pointer;\n",
              "      display: none;\n",
              "      fill: #1967D2;\n",
              "      height: 32px;\n",
              "      padding: 0 0 0 0;\n",
              "      width: 32px;\n",
              "    }\n",
              "\n",
              "    .colab-df-convert:hover {\n",
              "      background-color: #E2EBFA;\n",
              "      box-shadow: 0px 1px 2px rgba(60, 64, 67, 0.3), 0px 1px 3px 1px rgba(60, 64, 67, 0.15);\n",
              "      fill: #174EA6;\n",
              "    }\n",
              "\n",
              "    [theme=dark] .colab-df-convert {\n",
              "      background-color: #3B4455;\n",
              "      fill: #D2E3FC;\n",
              "    }\n",
              "\n",
              "    [theme=dark] .colab-df-convert:hover {\n",
              "      background-color: #434B5C;\n",
              "      box-shadow: 0px 1px 3px 1px rgba(0, 0, 0, 0.15);\n",
              "      filter: drop-shadow(0px 1px 2px rgba(0, 0, 0, 0.3));\n",
              "      fill: #FFFFFF;\n",
              "    }\n",
              "  </style>\n",
              "\n",
              "      <script>\n",
              "        const buttonEl =\n",
              "          document.querySelector('#df-2e386a99-e7e4-4b78-8df9-49f6c0f48052 button.colab-df-convert');\n",
              "        buttonEl.style.display =\n",
              "          google.colab.kernel.accessAllowed ? 'block' : 'none';\n",
              "\n",
              "        async function convertToInteractive(key) {\n",
              "          const element = document.querySelector('#df-2e386a99-e7e4-4b78-8df9-49f6c0f48052');\n",
              "          const dataTable =\n",
              "            await google.colab.kernel.invokeFunction('convertToInteractive',\n",
              "                                                     [key], {});\n",
              "          if (!dataTable) return;\n",
              "\n",
              "          const docLinkHtml = 'Like what you see? Visit the ' +\n",
              "            '<a target=\"_blank\" href=https://colab.research.google.com/notebooks/data_table.ipynb>data table notebook</a>'\n",
              "            + ' to learn more about interactive tables.';\n",
              "          element.innerHTML = '';\n",
              "          dataTable['output_type'] = 'display_data';\n",
              "          await google.colab.output.renderOutput(dataTable, element);\n",
              "          const docLink = document.createElement('div');\n",
              "          docLink.innerHTML = docLinkHtml;\n",
              "          element.appendChild(docLink);\n",
              "        }\n",
              "      </script>\n",
              "    </div>\n",
              "  </div>\n",
              "  "
            ],
            "text/plain": [
              "      Date  wind_10m  specific_humidity     LW_down     SW_down  rainfall  \\\n",
              "0  1979-01  5.531398           0.811961  186.687054    3.127880  1.009872   \n",
              "1  1979-02  5.328020           0.688896  174.794571   18.541594  0.920831   \n",
              "2  1979-03  5.432511           0.916124  190.741933   67.690429  0.983327   \n",
              "3  1979-04  4.792836           1.272056  212.937925  156.223674  0.890723   \n",
              "4  1979-05  4.819028           2.239776  253.690478  230.950833  1.201308   \n",
              "\n",
              "   snowfall   sosaline         sst         t2m  surface_pressure  \\\n",
              "0  0.892319  33.341556  273.355237  250.388101        984.633032   \n",
              "1  0.781347  33.365164  273.121885  247.071202        983.980418   \n",
              "2  0.855266  33.365938  273.088099  252.954138        985.140468   \n",
              "3  0.705203  33.350408  273.126062  259.557456        989.314698   \n",
              "4  0.688723  33.295768  273.393551  269.375118        984.483658   \n",
              "\n",
              "   sea_ice_extent  \n",
              "0      15604191.0  \n",
              "1      16378929.0  \n",
              "2      16521089.0  \n",
              "3      15561238.0  \n",
              "4      14085613.0  "
            ]
          },
          "metadata": {},
          "execution_count": 27
        }
      ]
    },
    {
      "cell_type": "code",
      "source": [
        "lstm_df.tail()"
      ],
      "metadata": {
        "colab": {
          "base_uri": "https://localhost:8080/",
          "height": 204
        },
        "id": "USS1bqo9-Z28",
        "outputId": "a314a699-fac9-49fc-fa47-2960af4e664a"
      },
      "execution_count": null,
      "outputs": [
        {
          "output_type": "execute_result",
          "data": {
            "text/html": [
              "\n",
              "  <div id=\"df-ff58870d-98da-42cd-821a-01f49d094e4a\">\n",
              "    <div class=\"colab-df-container\">\n",
              "      <div>\n",
              "<style scoped>\n",
              "    .dataframe tbody tr th:only-of-type {\n",
              "        vertical-align: middle;\n",
              "    }\n",
              "\n",
              "    .dataframe tbody tr th {\n",
              "        vertical-align: top;\n",
              "    }\n",
              "\n",
              "    .dataframe thead th {\n",
              "        text-align: right;\n",
              "    }\n",
              "</style>\n",
              "<table border=\"1\" class=\"dataframe\">\n",
              "  <thead>\n",
              "    <tr style=\"text-align: right;\">\n",
              "      <th></th>\n",
              "      <th>Date</th>\n",
              "      <th>wind_10m</th>\n",
              "      <th>specific_humidity</th>\n",
              "      <th>LW_down</th>\n",
              "      <th>SW_down</th>\n",
              "      <th>rainfall</th>\n",
              "      <th>snowfall</th>\n",
              "      <th>sosaline</th>\n",
              "      <th>sst</th>\n",
              "      <th>t2m</th>\n",
              "      <th>surface_pressure</th>\n",
              "      <th>sea_ice_extent</th>\n",
              "    </tr>\n",
              "  </thead>\n",
              "  <tbody>\n",
              "    <tr>\n",
              "      <th>475</th>\n",
              "      <td>2018-08</td>\n",
              "      <td>4.743874</td>\n",
              "      <td>4.882701</td>\n",
              "      <td>308.827087</td>\n",
              "      <td>127.484271</td>\n",
              "      <td>2.129987</td>\n",
              "      <td>0.241098</td>\n",
              "      <td>33.232772</td>\n",
              "      <td>278.534500</td>\n",
              "      <td>279.158164</td>\n",
              "      <td>978.264282</td>\n",
              "      <td>5622998.0</td>\n",
              "    </tr>\n",
              "    <tr>\n",
              "      <th>476</th>\n",
              "      <td>2018-09</td>\n",
              "      <td>5.232015</td>\n",
              "      <td>3.581254</td>\n",
              "      <td>283.515381</td>\n",
              "      <td>69.458786</td>\n",
              "      <td>1.957572</td>\n",
              "      <td>0.600476</td>\n",
              "      <td>33.256054</td>\n",
              "      <td>277.887405</td>\n",
              "      <td>274.840139</td>\n",
              "      <td>980.208681</td>\n",
              "      <td>4834953.0</td>\n",
              "    </tr>\n",
              "    <tr>\n",
              "      <th>477</th>\n",
              "      <td>2018-10</td>\n",
              "      <td>5.516410</td>\n",
              "      <td>2.440121</td>\n",
              "      <td>257.145101</td>\n",
              "      <td>25.108110</td>\n",
              "      <td>1.784562</td>\n",
              "      <td>0.973192</td>\n",
              "      <td>33.321765</td>\n",
              "      <td>276.161004</td>\n",
              "      <td>269.065448</td>\n",
              "      <td>977.742135</td>\n",
              "      <td>6824601.0</td>\n",
              "    </tr>\n",
              "    <tr>\n",
              "      <th>478</th>\n",
              "      <td>2018-11</td>\n",
              "      <td>5.430916</td>\n",
              "      <td>1.440217</td>\n",
              "      <td>220.909249</td>\n",
              "      <td>4.937239</td>\n",
              "      <td>1.320885</td>\n",
              "      <td>0.904150</td>\n",
              "      <td>33.376158</td>\n",
              "      <td>274.805928</td>\n",
              "      <td>259.133665</td>\n",
              "      <td>983.425500</td>\n",
              "      <td>10279618.0</td>\n",
              "    </tr>\n",
              "    <tr>\n",
              "      <th>479</th>\n",
              "      <td>2018-12</td>\n",
              "      <td>5.647007</td>\n",
              "      <td>1.157657</td>\n",
              "      <td>205.648747</td>\n",
              "      <td>1.164422</td>\n",
              "      <td>1.240499</td>\n",
              "      <td>0.933757</td>\n",
              "      <td>33.437008</td>\n",
              "      <td>274.152202</td>\n",
              "      <td>254.932846</td>\n",
              "      <td>979.178390</td>\n",
              "      <td>12092694.0</td>\n",
              "    </tr>\n",
              "  </tbody>\n",
              "</table>\n",
              "</div>\n",
              "      <button class=\"colab-df-convert\" onclick=\"convertToInteractive('df-ff58870d-98da-42cd-821a-01f49d094e4a')\"\n",
              "              title=\"Convert this dataframe to an interactive table.\"\n",
              "              style=\"display:none;\">\n",
              "        \n",
              "  <svg xmlns=\"http://www.w3.org/2000/svg\" height=\"24px\"viewBox=\"0 0 24 24\"\n",
              "       width=\"24px\">\n",
              "    <path d=\"M0 0h24v24H0V0z\" fill=\"none\"/>\n",
              "    <path d=\"M18.56 5.44l.94 2.06.94-2.06 2.06-.94-2.06-.94-.94-2.06-.94 2.06-2.06.94zm-11 1L8.5 8.5l.94-2.06 2.06-.94-2.06-.94L8.5 2.5l-.94 2.06-2.06.94zm10 10l.94 2.06.94-2.06 2.06-.94-2.06-.94-.94-2.06-.94 2.06-2.06.94z\"/><path d=\"M17.41 7.96l-1.37-1.37c-.4-.4-.92-.59-1.43-.59-.52 0-1.04.2-1.43.59L10.3 9.45l-7.72 7.72c-.78.78-.78 2.05 0 2.83L4 21.41c.39.39.9.59 1.41.59.51 0 1.02-.2 1.41-.59l7.78-7.78 2.81-2.81c.8-.78.8-2.07 0-2.86zM5.41 20L4 18.59l7.72-7.72 1.47 1.35L5.41 20z\"/>\n",
              "  </svg>\n",
              "      </button>\n",
              "      \n",
              "  <style>\n",
              "    .colab-df-container {\n",
              "      display:flex;\n",
              "      flex-wrap:wrap;\n",
              "      gap: 12px;\n",
              "    }\n",
              "\n",
              "    .colab-df-convert {\n",
              "      background-color: #E8F0FE;\n",
              "      border: none;\n",
              "      border-radius: 50%;\n",
              "      cursor: pointer;\n",
              "      display: none;\n",
              "      fill: #1967D2;\n",
              "      height: 32px;\n",
              "      padding: 0 0 0 0;\n",
              "      width: 32px;\n",
              "    }\n",
              "\n",
              "    .colab-df-convert:hover {\n",
              "      background-color: #E2EBFA;\n",
              "      box-shadow: 0px 1px 2px rgba(60, 64, 67, 0.3), 0px 1px 3px 1px rgba(60, 64, 67, 0.15);\n",
              "      fill: #174EA6;\n",
              "    }\n",
              "\n",
              "    [theme=dark] .colab-df-convert {\n",
              "      background-color: #3B4455;\n",
              "      fill: #D2E3FC;\n",
              "    }\n",
              "\n",
              "    [theme=dark] .colab-df-convert:hover {\n",
              "      background-color: #434B5C;\n",
              "      box-shadow: 0px 1px 3px 1px rgba(0, 0, 0, 0.15);\n",
              "      filter: drop-shadow(0px 1px 2px rgba(0, 0, 0, 0.3));\n",
              "      fill: #FFFFFF;\n",
              "    }\n",
              "  </style>\n",
              "\n",
              "      <script>\n",
              "        const buttonEl =\n",
              "          document.querySelector('#df-ff58870d-98da-42cd-821a-01f49d094e4a button.colab-df-convert');\n",
              "        buttonEl.style.display =\n",
              "          google.colab.kernel.accessAllowed ? 'block' : 'none';\n",
              "\n",
              "        async function convertToInteractive(key) {\n",
              "          const element = document.querySelector('#df-ff58870d-98da-42cd-821a-01f49d094e4a');\n",
              "          const dataTable =\n",
              "            await google.colab.kernel.invokeFunction('convertToInteractive',\n",
              "                                                     [key], {});\n",
              "          if (!dataTable) return;\n",
              "\n",
              "          const docLinkHtml = 'Like what you see? Visit the ' +\n",
              "            '<a target=\"_blank\" href=https://colab.research.google.com/notebooks/data_table.ipynb>data table notebook</a>'\n",
              "            + ' to learn more about interactive tables.';\n",
              "          element.innerHTML = '';\n",
              "          dataTable['output_type'] = 'display_data';\n",
              "          await google.colab.output.renderOutput(dataTable, element);\n",
              "          const docLink = document.createElement('div');\n",
              "          docLink.innerHTML = docLinkHtml;\n",
              "          element.appendChild(docLink);\n",
              "        }\n",
              "      </script>\n",
              "    </div>\n",
              "  </div>\n",
              "  "
            ],
            "text/plain": [
              "        Date  wind_10m  specific_humidity     LW_down     SW_down  rainfall  \\\n",
              "475  2018-08  4.743874           4.882701  308.827087  127.484271  2.129987   \n",
              "476  2018-09  5.232015           3.581254  283.515381   69.458786  1.957572   \n",
              "477  2018-10  5.516410           2.440121  257.145101   25.108110  1.784562   \n",
              "478  2018-11  5.430916           1.440217  220.909249    4.937239  1.320885   \n",
              "479  2018-12  5.647007           1.157657  205.648747    1.164422  1.240499   \n",
              "\n",
              "     snowfall   sosaline         sst         t2m  surface_pressure  \\\n",
              "475  0.241098  33.232772  278.534500  279.158164        978.264282   \n",
              "476  0.600476  33.256054  277.887405  274.840139        980.208681   \n",
              "477  0.973192  33.321765  276.161004  269.065448        977.742135   \n",
              "478  0.904150  33.376158  274.805928  259.133665        983.425500   \n",
              "479  0.933757  33.437008  274.152202  254.932846        979.178390   \n",
              "\n",
              "     sea_ice_extent  \n",
              "475       5622998.0  \n",
              "476       4834953.0  \n",
              "477       6824601.0  \n",
              "478      10279618.0  \n",
              "479      12092694.0  "
            ]
          },
          "metadata": {},
          "execution_count": 28
        }
      ]
    },
    {
      "cell_type": "code",
      "source": [
        "#drop unwanted variables and retain important features\n",
        "lstm_df = lstm_df.drop(['Date'], axis=1)"
      ],
      "metadata": {
        "id": "Q-YZvOuV9w9k"
      },
      "execution_count": null,
      "outputs": []
    },
    {
      "cell_type": "code",
      "source": [
        "narray = np.array(lstm_df)\n",
        "print(narray.shape)"
      ],
      "metadata": {
        "colab": {
          "base_uri": "https://localhost:8080/"
        },
        "id": "sVYA88ZZ90K3",
        "outputId": "c24ae798-56ba-4468-893c-74aba247de32"
      },
      "execution_count": null,
      "outputs": [
        {
          "output_type": "stream",
          "name": "stdout",
          "text": [
            "(480, 11)\n"
          ]
        }
      ]
    },
    {
      "cell_type": "code",
      "source": [
        "#assign last column to target variable\n",
        "target = narray[:,-1]"
      ],
      "metadata": {
        "id": "GDvVfkCe92B1"
      },
      "execution_count": null,
      "outputs": []
    },
    {
      "cell_type": "code",
      "source": [
        "# convert an array of values into a dataset matrix\n",
        "def reshape_features(dataset, timesteps=1):\n",
        "    print(dataset.shape)\n",
        "    X = dataset.reshape((int(dataset.shape[0]/timesteps)), timesteps, dataset.shape[1])\n",
        "    return X\n",
        "\n",
        "timesteps = 1\n",
        "narray = reshape_features(narray, timesteps)"
      ],
      "metadata": {
        "colab": {
          "base_uri": "https://localhost:8080/"
        },
        "id": "FSM3Oejd95Jj",
        "outputId": "38cf7087-1482-4f05-8d74-5f3081a48a34"
      },
      "execution_count": null,
      "outputs": [
        {
          "output_type": "stream",
          "name": "stdout",
          "text": [
            "(480, 11)\n"
          ]
        }
      ]
    },
    {
      "cell_type": "code",
      "source": [
        "print(narray.shape)\n",
        "print(target.shape)"
      ],
      "metadata": {
        "colab": {
          "base_uri": "https://localhost:8080/"
        },
        "id": "DdNDvSwlAkWj",
        "outputId": "961a7f80-c657-4d3d-f52f-d6d458507f10"
      },
      "execution_count": null,
      "outputs": [
        {
          "output_type": "stream",
          "name": "stdout",
          "text": [
            "(480, 1, 11)\n",
            "(480,)\n"
          ]
        }
      ]
    },
    {
      "cell_type": "code",
      "execution_count": null,
      "metadata": {
        "id": "LxaHlCpJloRn"
      },
      "outputs": [],
      "source": [
        "# Saving features and target in numpy\n",
        "\n",
        "# data = TemporaryFile()\n",
        "# np.save('/.../monthly_features.npy', narray)\n",
        "# np.save('/.../monthly_target.npy', target)"
      ]
    }
  ]
}